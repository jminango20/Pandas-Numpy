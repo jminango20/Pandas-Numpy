{
  "nbformat": 4,
  "nbformat_minor": 0,
  "metadata": {
    "colab": {
      "name": "Pandas y Numpy.ipynb",
      "provenance": []
    },
    "language_info": {
      "codemirror_mode": {
        "name": "ipython",
        "version": 3
      },
      "file_extension": ".py",
      "mimetype": "text/x-python",
      "name": "python",
      "nbconvert_exporter": "python",
      "pygments_lexer": "ipython3",
      "version": "3.6.2"
    },
    "kernelspec": {
      "display_name": "Python 3",
      "language": "python",
      "name": "python3"
    }
  },
  "cells": [
    {
      "cell_type": "markdown",
      "metadata": {
        "id": "kerkpAbV26n5",
        "colab_type": "text"
      },
      "source": [
        "## Introduccion a Numpy y Pandas\n",
        "\n",
        "# Pandas\n",
        "\n",
        "## Que es Pandas?\n",
        "Una biblioteca de Python que proporciona estructuras de datos y herramientas de análisis de datos. El nombre proviene de \"datos del panel\". Es una forma de visualizar y navegar a través de tablas de datos, similar a Excel.\n",
        "\n",
        "## Beneficios\n",
        "\n",
        "* Almacenamiento eficiente y procesamiento de datos.\n",
        "* Incluye muchas funciones integradas para la transformación de datos, agregaciones y análisis.\n",
        "* Ideal para trabajos exploratorios.\n",
        "\n",
        "## Desventajas\n",
        "\n",
        "* No escala muy bien a grandes conjuntos de datos.\n",
        "\n",
        "## Documentación:\n",
        "\n",
        "* http://pandas.pydata.org/pandas-docs/stable/index.html"
      ]
    },
    {
      "cell_type": "code",
      "metadata": {
        "id": "vDJIoL3L26n6",
        "colab_type": "code",
        "colab": {}
      },
      "source": [
        "#Por convención import pandas como:\n",
        "import pandas as pd\n",
        "\n",
        "#Por convención import numpy como:\n",
        "import numpy as np\n",
        "\n",
        "#Librerias de visualización\n",
        "import matplotlib.pyplot as plt\n",
        "%matplotlib inline\n",
        "\n",
        "\n",
        "#Importar valores randómicos.\n",
        "from numpy.random import randn"
      ],
      "execution_count": 1,
      "outputs": []
    },
    {
      "cell_type": "code",
      "metadata": {
        "id": "_h7udBGV26n9",
        "colab_type": "code",
        "colab": {
          "base_uri": "https://localhost:8080/",
          "height": 70
        },
        "outputId": "1fac37c1-f1d4-47bb-bc3a-04bbe00c5625"
      },
      "source": [
        "np.random.randn(3,4)"
      ],
      "execution_count": 2,
      "outputs": [
        {
          "output_type": "execute_result",
          "data": {
            "text/plain": [
              "array([[ 0.55556751,  0.73443121, -0.27386529,  0.10660533],\n",
              "       [ 1.89358208,  0.53095244, -0.39309564,  0.95669928],\n",
              "       [-0.89040207, -0.44787246,  1.26328833, -1.69924602]])"
            ]
          },
          "metadata": {
            "tags": []
          },
          "execution_count": 2
        }
      ]
    },
    {
      "cell_type": "code",
      "metadata": {
        "id": "YbZwuqhJbnsu",
        "colab_type": "code",
        "colab": {
          "base_uri": "https://localhost:8080/",
          "height": 70
        },
        "outputId": "fb238380-236f-4555-d82c-37fb57fcf538"
      },
      "source": [
        "np.random.rand(3,4) * 10"
      ],
      "execution_count": 3,
      "outputs": [
        {
          "output_type": "execute_result",
          "data": {
            "text/plain": [
              "array([[4.62269144, 0.21251319, 4.01017057, 7.58477964],\n",
              "       [7.43462788, 8.54559799, 7.35739345, 2.95072172],\n",
              "       [4.60352168, 7.45785993, 6.16194117, 4.04382597]])"
            ]
          },
          "metadata": {
            "tags": []
          },
          "execution_count": 3
        }
      ]
    },
    {
      "cell_type": "markdown",
      "metadata": {
        "id": "X8WnC0xI26oB",
        "colab_type": "text"
      },
      "source": [
        "## Arreglos Numpy\n",
        "* O NdArrays (n-dimensiones array)\n",
        "* Son como listas en Python, sin embargo, permiten un cálculo más rápido\n",
        "     1. Se almacenan como un bloque contiguo de memoria, en lugar de distribuirse en múltiples ubicaciones como una lista.\n",
        "     2. Cada elemento en una matriz numpy es del mismo tipo de datos (es decir, todos los enteros, todos los flotantes, etc.), en lugar de un conglomerado de cualquier número de tipos de datos (como lo es una lista). Llamamos a esta idea homogeneidad, en oposición a la posible heterogeneidad de las listas de Python.\n"
      ]
    },
    {
      "cell_type": "code",
      "metadata": {
        "id": "VvBsBgF826oF",
        "colab_type": "code",
        "colab": {
          "base_uri": "https://localhost:8080/",
          "height": 34
        },
        "outputId": "4e27c65d-fb2b-4374-d263-1fe11429099e"
      },
      "source": [
        "ints = np.array(range(3))\n",
        "chars = np.array(list('ABC'))\n",
        "strings = np.array(['A','BC',\"DEF\"])\n",
        "\n",
        "print(ints.dtype, chars.dtype, strings.dtype) #Imprimimos el tipo de datos que representan"
      ],
      "execution_count": 4,
      "outputs": [
        {
          "output_type": "stream",
          "text": [
            "int64 <U1 <U3\n"
          ],
          "name": "stdout"
        }
      ]
    },
    {
      "cell_type": "code",
      "metadata": {
        "id": "ZUPXyWLQGbmz",
        "colab_type": "code",
        "colab": {
          "base_uri": "https://localhost:8080/",
          "height": 34
        },
        "outputId": "af03ea2c-6e0d-4d09-c907-387de6413b78"
      },
      "source": [
        "ints"
      ],
      "execution_count": 5,
      "outputs": [
        {
          "output_type": "execute_result",
          "data": {
            "text/plain": [
              "array([0, 1, 2])"
            ]
          },
          "metadata": {
            "tags": []
          },
          "execution_count": 5
        }
      ]
    },
    {
      "cell_type": "code",
      "metadata": {
        "id": "1jE-LN5D26oK",
        "colab_type": "code",
        "colab": {
          "base_uri": "https://localhost:8080/",
          "height": 34
        },
        "outputId": "a73b121d-bacd-4dfd-b64f-45529f44c27f"
      },
      "source": [
        "chars"
      ],
      "execution_count": 6,
      "outputs": [
        {
          "output_type": "execute_result",
          "data": {
            "text/plain": [
              "array(['A', 'B', 'C'], dtype='<U1')"
            ]
          },
          "metadata": {
            "tags": []
          },
          "execution_count": 6
        }
      ]
    },
    {
      "cell_type": "code",
      "metadata": {
        "id": "q_pCzOGR26oN",
        "colab_type": "code",
        "colab": {
          "base_uri": "https://localhost:8080/",
          "height": 34
        },
        "outputId": "c50c5593-a1b7-42a4-c73f-aba2ab835624"
      },
      "source": [
        "strings"
      ],
      "execution_count": 7,
      "outputs": [
        {
          "output_type": "execute_result",
          "data": {
            "text/plain": [
              "array(['A', 'BC', 'DEF'], dtype='<U3')"
            ]
          },
          "metadata": {
            "tags": []
          },
          "execution_count": 7
        }
      ]
    },
    {
      "cell_type": "code",
      "metadata": {
        "scrolled": true,
        "id": "bekUK2Ed26oU",
        "colab_type": "code",
        "colab": {
          "base_uri": "https://localhost:8080/",
          "height": 34
        },
        "outputId": "90a5d4e0-2482-4718-aea7-4b4010c77418"
      },
      "source": [
        "ints*0.3"
      ],
      "execution_count": 8,
      "outputs": [
        {
          "output_type": "execute_result",
          "data": {
            "text/plain": [
              "array([0. , 0.3, 0.6])"
            ]
          },
          "metadata": {
            "tags": []
          },
          "execution_count": 8
        }
      ]
    },
    {
      "cell_type": "code",
      "metadata": {
        "id": "GZLl-3hk26oX",
        "colab_type": "code",
        "colab": {
          "base_uri": "https://localhost:8080/",
          "height": 34
        },
        "outputId": "b25fa4c4-cd4a-4a55-8d9f-0be9371c8154"
      },
      "source": [
        "(ints*0.3).dtype"
      ],
      "execution_count": 9,
      "outputs": [
        {
          "output_type": "execute_result",
          "data": {
            "text/plain": [
              "dtype('float64')"
            ]
          },
          "metadata": {
            "tags": []
          },
          "execution_count": 9
        }
      ]
    },
    {
      "cell_type": "markdown",
      "metadata": {
        "id": "umQAkRUQ26oZ",
        "colab_type": "text"
      },
      "source": [
        "# Creando y usando NdArrays"
      ]
    },
    {
      "cell_type": "code",
      "metadata": {
        "id": "ZdF6CV6S26oa",
        "colab_type": "code",
        "colab": {}
      },
      "source": [
        "mi_lst_ndarray = np.array([1, 2, 3, 4, 5])\n",
        "mi_tuple_ndarray = np.array((1, 2, 3, 4, 5), np.int32) "
      ],
      "execution_count": 10,
      "outputs": []
    },
    {
      "cell_type": "code",
      "metadata": {
        "id": "Bq15NO303mra",
        "colab_type": "code",
        "colab": {
          "base_uri": "https://localhost:8080/",
          "height": 52
        },
        "outputId": "0bc3bc36-87dc-4214-f94c-f9e4365968fe"
      },
      "source": [
        "print(mi_lst_ndarray)\n",
        "print(mi_tuple_ndarray)"
      ],
      "execution_count": 11,
      "outputs": [
        {
          "output_type": "stream",
          "text": [
            "[1 2 3 4 5]\n",
            "[1 2 3 4 5]\n"
          ],
          "name": "stdout"
        }
      ]
    },
    {
      "cell_type": "code",
      "metadata": {
        "id": "VzFn30sh26oc",
        "colab_type": "code",
        "colab": {
          "base_uri": "https://localhost:8080/",
          "height": 52
        },
        "outputId": "6f9f23eb-e954-4609-8807-77ee1a40bb2e"
      },
      "source": [
        "#Tipos de los arrays\n",
        "print(mi_lst_ndarray.dtype)\n",
        "print(mi_tuple_ndarray.dtype)"
      ],
      "execution_count": 12,
      "outputs": [
        {
          "output_type": "stream",
          "text": [
            "int64\n",
            "int32\n"
          ],
          "name": "stdout"
        }
      ]
    },
    {
      "cell_type": "code",
      "metadata": {
        "id": "8i59SMr126of",
        "colab_type": "code",
        "colab": {
          "base_uri": "https://localhost:8080/",
          "height": 52
        },
        "outputId": "46f6d9c7-dea7-436a-b057-8de11532ba05"
      },
      "source": [
        "#Dimension de los arrays\n",
        "print(mi_lst_ndarray.shape)\n",
        "print(mi_tuple_ndarray.shape)"
      ],
      "execution_count": 13,
      "outputs": [
        {
          "output_type": "stream",
          "text": [
            "(5,)\n",
            "(5,)\n"
          ],
          "name": "stdout"
        }
      ]
    },
    {
      "cell_type": "markdown",
      "metadata": {
        "id": "mMygThNA26oj",
        "colab_type": "text"
      },
      "source": [
        "# 2D arrays (Matrices)"
      ]
    },
    {
      "cell_type": "code",
      "metadata": {
        "id": "Kds6IoK426ok",
        "colab_type": "code",
        "colab": {
          "base_uri": "https://localhost:8080/",
          "height": 105
        },
        "outputId": "4c9d5ca3-130d-4e39-ec55-1f1e2a3e6acf"
      },
      "source": [
        "nd_arr = np.array([[1, 2, 3, 4, 5],[6, 7, 8, 9, 10],[11, 12, 13, 14, 15]])\n",
        "print(nd_arr) #Imprime la matriz\n",
        "print(nd_arr.shape) #Imprime la dimension (filas, columnas)\n",
        "print(nd_arr.size) #Imprime el número de elementos de la matriz\n"
      ],
      "execution_count": 14,
      "outputs": [
        {
          "output_type": "stream",
          "text": [
            "[[ 1  2  3  4  5]\n",
            " [ 6  7  8  9 10]\n",
            " [11 12 13 14 15]]\n",
            "(3, 5)\n",
            "15\n"
          ],
          "name": "stdout"
        }
      ]
    },
    {
      "cell_type": "markdown",
      "metadata": {
        "id": "NzY4qN3i26oo",
        "colab_type": "text"
      },
      "source": [
        "# Acediendo a la información del array\n"
      ]
    },
    {
      "cell_type": "code",
      "metadata": {
        "id": "bh59BXZ026op",
        "colab_type": "code",
        "colab": {
          "base_uri": "https://localhost:8080/",
          "height": 34
        },
        "outputId": "aa7ea6e2-8215-4454-cd78-446d9d624150"
      },
      "source": [
        "nd_arr[2,1] #Posicion fila, columna. Filas y columnas empiezan con indice = 0"
      ],
      "execution_count": 15,
      "outputs": [
        {
          "output_type": "execute_result",
          "data": {
            "text/plain": [
              "12"
            ]
          },
          "metadata": {
            "tags": []
          },
          "execution_count": 15
        }
      ]
    },
    {
      "cell_type": "code",
      "metadata": {
        "id": "EuomnQW826or",
        "colab_type": "code",
        "colab": {
          "base_uri": "https://localhost:8080/",
          "height": 70
        },
        "outputId": "0a8f4cc6-ea7d-48c7-aa66-64f3e32e7890"
      },
      "source": [
        "nd_arr[:,:] # : -> Todas las filas y columnas de la matriz"
      ],
      "execution_count": 16,
      "outputs": [
        {
          "output_type": "execute_result",
          "data": {
            "text/plain": [
              "array([[ 1,  2,  3,  4,  5],\n",
              "       [ 6,  7,  8,  9, 10],\n",
              "       [11, 12, 13, 14, 15]])"
            ]
          },
          "metadata": {
            "tags": []
          },
          "execution_count": 16
        }
      ]
    },
    {
      "cell_type": "code",
      "metadata": {
        "id": "crY0lesR26ov",
        "colab_type": "code",
        "colab": {
          "base_uri": "https://localhost:8080/",
          "height": 34
        },
        "outputId": "1de8958c-0ca6-41a8-edd3-26e4b8c71885"
      },
      "source": [
        "nd_arr.shape"
      ],
      "execution_count": 17,
      "outputs": [
        {
          "output_type": "execute_result",
          "data": {
            "text/plain": [
              "(3, 5)"
            ]
          },
          "metadata": {
            "tags": []
          },
          "execution_count": 17
        }
      ]
    },
    {
      "cell_type": "code",
      "metadata": {
        "id": "126_te8u26oy",
        "colab_type": "code",
        "colab": {
          "base_uri": "https://localhost:8080/",
          "height": 34
        },
        "outputId": "c3e3ea0e-7fff-4491-8ade-501485794346"
      },
      "source": [
        "nd_arr.sum() #Suma de todos los elementos de la matriz"
      ],
      "execution_count": 18,
      "outputs": [
        {
          "output_type": "execute_result",
          "data": {
            "text/plain": [
              "120"
            ]
          },
          "metadata": {
            "tags": []
          },
          "execution_count": 18
        }
      ]
    },
    {
      "cell_type": "code",
      "metadata": {
        "id": "SZ9An3-R26o1",
        "colab_type": "code",
        "colab": {}
      },
      "source": [
        "nd_arr.sum? #Invoca a la ayuda"
      ],
      "execution_count": 23,
      "outputs": []
    },
    {
      "cell_type": "code",
      "metadata": {
        "id": "moaJYVm7i1Nq",
        "colab_type": "code",
        "colab": {
          "base_uri": "https://localhost:8080/",
          "height": 70
        },
        "outputId": "8ca6c7df-caae-42e9-d07e-abe3e648c7bb"
      },
      "source": [
        "nd_arr #Imprimo la matriz"
      ],
      "execution_count": 19,
      "outputs": [
        {
          "output_type": "execute_result",
          "data": {
            "text/plain": [
              "array([[ 1,  2,  3,  4,  5],\n",
              "       [ 6,  7,  8,  9, 10],\n",
              "       [11, 12, 13, 14, 15]])"
            ]
          },
          "metadata": {
            "tags": []
          },
          "execution_count": 19
        }
      ]
    },
    {
      "cell_type": "code",
      "metadata": {
        "id": "0RiM8Nb426o3",
        "colab_type": "code",
        "colab": {
          "base_uri": "https://localhost:8080/",
          "height": 34
        },
        "outputId": "d4ffe0ff-c866-4616-af2c-cd8f07dc5305"
      },
      "source": [
        "nd_arr.sum(axis=1) #Suma Columnas"
      ],
      "execution_count": 20,
      "outputs": [
        {
          "output_type": "execute_result",
          "data": {
            "text/plain": [
              "array([15, 40, 65])"
            ]
          },
          "metadata": {
            "tags": []
          },
          "execution_count": 20
        }
      ]
    },
    {
      "cell_type": "code",
      "metadata": {
        "id": "ppGj_I1P26o7",
        "colab_type": "code",
        "colab": {
          "base_uri": "https://localhost:8080/",
          "height": 34
        },
        "outputId": "9814196e-5b0c-4077-9ac2-d2ac35ba0e41"
      },
      "source": [
        "nd_arr.sum(axis=0) #Suma Filas"
      ],
      "execution_count": 21,
      "outputs": [
        {
          "output_type": "execute_result",
          "data": {
            "text/plain": [
              "array([18, 21, 24, 27, 30])"
            ]
          },
          "metadata": {
            "tags": []
          },
          "execution_count": 21
        }
      ]
    },
    {
      "cell_type": "code",
      "metadata": {
        "id": "z-Bdnpnw26o9",
        "colab_type": "code",
        "colab": {
          "base_uri": "https://localhost:8080/",
          "height": 34
        },
        "outputId": "92f8af0c-0357-4b0e-ef74-41b2be28c0d0"
      },
      "source": [
        "nd_arr.max() #Maximo valor de la matriz"
      ],
      "execution_count": 22,
      "outputs": [
        {
          "output_type": "execute_result",
          "data": {
            "text/plain": [
              "15"
            ]
          },
          "metadata": {
            "tags": []
          },
          "execution_count": 22
        }
      ]
    },
    {
      "cell_type": "code",
      "metadata": {
        "id": "_lbXGjcvHmx9",
        "colab_type": "code",
        "colab": {
          "base_uri": "https://localhost:8080/",
          "height": 34
        },
        "outputId": "b73cdc6a-aec9-4312-d8ff-0ba2c92469c0"
      },
      "source": [
        "nd_arr.max(axis=0) #Maximo valor de las columnas"
      ],
      "execution_count": 23,
      "outputs": [
        {
          "output_type": "execute_result",
          "data": {
            "text/plain": [
              "array([11, 12, 13, 14, 15])"
            ]
          },
          "metadata": {
            "tags": []
          },
          "execution_count": 23
        }
      ]
    },
    {
      "cell_type": "code",
      "metadata": {
        "id": "6DqBQEDIHubK",
        "colab_type": "code",
        "colab": {
          "base_uri": "https://localhost:8080/",
          "height": 34
        },
        "outputId": "c4c88168-7cc3-4416-b962-ec9ae33120af"
      },
      "source": [
        "nd_arr.max(axis=1) #Maximo valor de las filas"
      ],
      "execution_count": 24,
      "outputs": [
        {
          "output_type": "execute_result",
          "data": {
            "text/plain": [
              "array([ 5, 10, 15])"
            ]
          },
          "metadata": {
            "tags": []
          },
          "execution_count": 24
        }
      ]
    },
    {
      "cell_type": "code",
      "metadata": {
        "id": "R6MdIuQzjL1n",
        "colab_type": "code",
        "colab": {
          "base_uri": "https://localhost:8080/",
          "height": 34
        },
        "outputId": "755f7ded-bd6c-4297-d811-b9a558aeca97"
      },
      "source": [
        "nd_arr.min(axis=1) #Minimo valor de las filas"
      ],
      "execution_count": 25,
      "outputs": [
        {
          "output_type": "execute_result",
          "data": {
            "text/plain": [
              "array([ 1,  6, 11])"
            ]
          },
          "metadata": {
            "tags": []
          },
          "execution_count": 25
        }
      ]
    },
    {
      "cell_type": "markdown",
      "metadata": {
        "id": "fMKc4B_T26pA",
        "colab_type": "text"
      },
      "source": [
        "# Propagación"
      ]
    },
    {
      "cell_type": "code",
      "metadata": {
        "id": "vzkr0CMq26pB",
        "colab_type": "code",
        "colab": {}
      },
      "source": [
        "a = np.array([10, -10]) \n",
        "b = np.array([1, -1])\n",
        "c = np.array([0.5, 4, 1])"
      ],
      "execution_count": 26,
      "outputs": []
    },
    {
      "cell_type": "code",
      "metadata": {
        "id": "9pL9odiB26pD",
        "colab_type": "code",
        "colab": {
          "base_uri": "https://localhost:8080/",
          "height": 34
        },
        "outputId": "495f2fbb-91b2-4c7b-caca-db39a75b2e98"
      },
      "source": [
        "a"
      ],
      "execution_count": 27,
      "outputs": [
        {
          "output_type": "execute_result",
          "data": {
            "text/plain": [
              "array([ 10, -10])"
            ]
          },
          "metadata": {
            "tags": []
          },
          "execution_count": 27
        }
      ]
    },
    {
      "cell_type": "code",
      "metadata": {
        "id": "I-qI3nC926pJ",
        "colab_type": "code",
        "colab": {
          "base_uri": "https://localhost:8080/",
          "height": 34
        },
        "outputId": "6abdb69a-aaad-4b5f-c2a7-282b66a8f214"
      },
      "source": [
        "b"
      ],
      "execution_count": 28,
      "outputs": [
        {
          "output_type": "execute_result",
          "data": {
            "text/plain": [
              "array([ 1, -1])"
            ]
          },
          "metadata": {
            "tags": []
          },
          "execution_count": 28
        }
      ]
    },
    {
      "cell_type": "code",
      "metadata": {
        "id": "c7-aGuMA26pL",
        "colab_type": "code",
        "colab": {
          "base_uri": "https://localhost:8080/",
          "height": 34
        },
        "outputId": "987ec7c6-84d4-4ed7-efcc-5167ca131d2d"
      },
      "source": [
        "a + b"
      ],
      "execution_count": 29,
      "outputs": [
        {
          "output_type": "execute_result",
          "data": {
            "text/plain": [
              "array([ 11, -11])"
            ]
          },
          "metadata": {
            "tags": []
          },
          "execution_count": 29
        }
      ]
    },
    {
      "cell_type": "code",
      "metadata": {
        "id": "gY5S7QnS26pQ",
        "colab_type": "code",
        "colab": {
          "base_uri": "https://localhost:8080/",
          "height": 34
        },
        "outputId": "5b0edd8f-8f5d-4892-8d81-92051aa1ec3d"
      },
      "source": [
        "c"
      ],
      "execution_count": 30,
      "outputs": [
        {
          "output_type": "execute_result",
          "data": {
            "text/plain": [
              "array([0.5, 4. , 1. ])"
            ]
          },
          "metadata": {
            "tags": []
          },
          "execution_count": 30
        }
      ]
    },
    {
      "cell_type": "code",
      "metadata": {
        "scrolled": true,
        "id": "QQNJGHgO26pg",
        "colab_type": "code",
        "colab": {
          "base_uri": "https://localhost:8080/",
          "height": 210
        },
        "outputId": "d1ef4b40-2e45-4244-8beb-04d35ca7736c"
      },
      "source": [
        "a = np.array([[10], [-10]]) \n",
        "b = np.array([[1, 2], [-1, -2]]) \n",
        "\n",
        "print(a)\n",
        "print('\\n')\n",
        "print(b)\n",
        "print(\"\\n\\n\")\n",
        "print(a + b)\n",
        "\n",
        "# elementos \"duplicarán, expandirán y llenarán\"\n",
        "# para hacer que las dimensiones sean compatibles para operaciones de elementos sabios"
      ],
      "execution_count": 31,
      "outputs": [
        {
          "output_type": "stream",
          "text": [
            "[[ 10]\n",
            " [-10]]\n",
            "\n",
            "\n",
            "[[ 1  2]\n",
            " [-1 -2]]\n",
            "\n",
            "\n",
            "\n",
            "[[ 11  12]\n",
            " [-11 -12]]\n"
          ],
          "name": "stdout"
        }
      ]
    },
    {
      "cell_type": "code",
      "metadata": {
        "id": "HPAred_126pi",
        "colab_type": "code",
        "colab": {
          "base_uri": "https://localhost:8080/",
          "height": 228
        },
        "outputId": "2966c297-4c76-42d8-e70b-b495df9aba5a"
      },
      "source": [
        "print(a)\n",
        "print('\\n\\n')\n",
        "print(a+4)\n",
        "print('\\n\\n')\n",
        "print(a*3)"
      ],
      "execution_count": 32,
      "outputs": [
        {
          "output_type": "stream",
          "text": [
            "[[ 10]\n",
            " [-10]]\n",
            "\n",
            "\n",
            "\n",
            "[[14]\n",
            " [-6]]\n",
            "\n",
            "\n",
            "\n",
            "[[ 30]\n",
            " [-30]]\n"
          ],
          "name": "stdout"
        }
      ]
    },
    {
      "cell_type": "code",
      "metadata": {
        "id": "Br2PBaWN26pm",
        "colab_type": "code",
        "colab": {
          "base_uri": "https://localhost:8080/",
          "height": 246
        },
        "outputId": "a8aaaf78-af75-4096-f5f6-8a85b7024cd3"
      },
      "source": [
        "a = np.array([[10, 0, -10, 0],[-10, 0, -10, 0]]) \n",
        "b = np.array([[2,2],[-1,0]]) \n",
        "print (a.shape, b.shape ) #Imprime la dimension de las matrices a y b\n",
        "print('\\n')\n",
        "print(a)\n",
        "print('\\n')\n",
        "print(b)\n",
        "print(\"\\n\\n\")\n",
        "print (\"\")\n",
        "\n"
      ],
      "execution_count": 33,
      "outputs": [
        {
          "output_type": "stream",
          "text": [
            "(2, 4) (2, 2)\n",
            "\n",
            "\n",
            "[[ 10   0 -10   0]\n",
            " [-10   0 -10   0]]\n",
            "\n",
            "\n",
            "[[ 2  2]\n",
            " [-1  0]]\n",
            "\n",
            "\n",
            "\n",
            "\n"
          ],
          "name": "stdout"
        }
      ]
    },
    {
      "cell_type": "markdown",
      "metadata": {
        "id": "-hAGfH2Q26pq",
        "colab_type": "text"
      },
      "source": [
        "----------------------------------------------------\n",
        "\n",
        "# Pandas \n",
        "\n",
        "\n",
        "## Series de Pandas \n",
        "* son vectores np.ndarray (unidimensionales) ** con índice **\n",
        "* Están construidos sobre NdArrays"
      ]
    },
    {
      "cell_type": "code",
      "metadata": {
        "id": "7SU8r00-26pq",
        "colab_type": "code",
        "colab": {
          "base_uri": "https://localhost:8080/",
          "height": 246
        },
        "outputId": "b7bc5d13-99ed-49ab-e309-3959877ce47c"
      },
      "source": [
        "series = pd.Series([5775,373,7,42,np.nan,33])\n",
        "print(series)\n",
        "print(\"\\n\")\n",
        "print(series.shape)\n",
        "print(\"\\n\")\n",
        "print(series.values) #Imprime los valores de la serie"
      ],
      "execution_count": 34,
      "outputs": [
        {
          "output_type": "stream",
          "text": [
            "0    5775.0\n",
            "1     373.0\n",
            "2       7.0\n",
            "3      42.0\n",
            "4       NaN\n",
            "5      33.0\n",
            "dtype: float64\n",
            "\n",
            "\n",
            "(6,)\n",
            "\n",
            "\n",
            "[5775.  373.    7.   42.   nan   33.]\n"
          ],
          "name": "stdout"
        }
      ]
    },
    {
      "cell_type": "code",
      "metadata": {
        "id": "TWOI4bp826pu",
        "colab_type": "code",
        "colab": {
          "base_uri": "https://localhost:8080/",
          "height": 193
        },
        "outputId": "76a7f7bb-28c0-4b59-8a2b-1d286d30a334"
      },
      "source": [
        "world_series = pd.Series([\"cubs\",\"royals\",\"giants\",\"sox\",\"giants\",\"cards\",\"giants\",\"...\",None])\n",
        "world_series"
      ],
      "execution_count": 35,
      "outputs": [
        {
          "output_type": "execute_result",
          "data": {
            "text/plain": [
              "0      cubs\n",
              "1    royals\n",
              "2    giants\n",
              "3       sox\n",
              "4    giants\n",
              "5     cards\n",
              "6    giants\n",
              "7       ...\n",
              "8      None\n",
              "dtype: object"
            ]
          },
          "metadata": {
            "tags": []
          },
          "execution_count": 35
        }
      ]
    },
    {
      "cell_type": "markdown",
      "metadata": {
        "id": "EaU2wJcq26px",
        "colab_type": "text"
      },
      "source": [
        "## Las series Pandas son muy poderosas cuando se trabaja con fechas"
      ]
    },
    {
      "cell_type": "code",
      "metadata": {
        "id": "QOE8aizE26py",
        "colab_type": "code",
        "colab": {}
      },
      "source": [
        "pd.date_range?"
      ],
      "execution_count": 46,
      "outputs": []
    },
    {
      "cell_type": "code",
      "metadata": {
        "scrolled": true,
        "id": "CZOL1GSk26p1",
        "colab_type": "code",
        "colab": {
          "base_uri": "https://localhost:8080/",
          "height": 210
        },
        "outputId": "f426444b-1769-4f8b-c1a6-6c2d707b6b87"
      },
      "source": [
        "#Datetime index\n",
        "dt_index = pd.date_range('2020-1-1', \n",
        "                        '2020-11-1', \n",
        "                        freq='m')\n",
        "dt_series = pd.Series(randn(10), \n",
        "                      index = dt_index)\n",
        "dt_series"
      ],
      "execution_count": 36,
      "outputs": [
        {
          "output_type": "execute_result",
          "data": {
            "text/plain": [
              "2020-01-31    2.384562\n",
              "2020-02-29   -0.228813\n",
              "2020-03-31    0.558087\n",
              "2020-04-30    1.612297\n",
              "2020-05-31   -0.171784\n",
              "2020-06-30   -0.664074\n",
              "2020-07-31   -0.528217\n",
              "2020-08-31    0.173462\n",
              "2020-09-30   -0.758116\n",
              "2020-10-31   -1.921469\n",
              "Freq: M, dtype: float64"
            ]
          },
          "metadata": {
            "tags": []
          },
          "execution_count": 36
        }
      ]
    },
    {
      "cell_type": "code",
      "metadata": {
        "id": "jmCJRvZo26p3",
        "colab_type": "code",
        "colab": {
          "base_uri": "https://localhost:8080/",
          "height": 34
        },
        "outputId": "794b8d48-e27e-4cfd-e958-cdd37cd06a7e"
      },
      "source": [
        "dt_series.mean() #Media de la serie"
      ],
      "execution_count": 37,
      "outputs": [
        {
          "output_type": "execute_result",
          "data": {
            "text/plain": [
              "0.045593549069445724"
            ]
          },
          "metadata": {
            "tags": []
          },
          "execution_count": 37
        }
      ]
    },
    {
      "cell_type": "markdown",
      "metadata": {
        "id": "5w6OS4kH26p6",
        "colab_type": "text"
      },
      "source": [
        "# Índice\n",
        "Observe cómo cada serie tiene un índice.\n",
        "\n",
        "Los índices pueden explotarse para agrupaciones rápidas, fusiones, operaciones de series de tiempo y mucho más.\n",
        "\n"
      ]
    },
    {
      "cell_type": "code",
      "metadata": {
        "id": "NeVDxs2f26p6",
        "colab_type": "code",
        "colab": {
          "base_uri": "https://localhost:8080/",
          "height": 263
        },
        "outputId": "e2f6c0ff-effd-4b8d-cb21-992652870e7c"
      },
      "source": [
        "indexed_series = pd.Series(randn(5), \n",
        "                           index = ['California', 'Alabama', \n",
        "                                    'Indiana', 'Montana', \n",
        "                                    'Kentucky'])\n",
        "alt_indexed_series = pd.Series(randn(5),\n",
        "                               index = ['Washington', 'Alabama', \n",
        "                                        'Montana', 'Indiana', \n",
        "                                        'New York'])\n",
        "print(indexed_series)\n",
        "print('\\n')\n",
        "print(alt_indexed_series)"
      ],
      "execution_count": 38,
      "outputs": [
        {
          "output_type": "stream",
          "text": [
            "California    0.366960\n",
            "Alabama       0.628133\n",
            "Indiana      -0.679600\n",
            "Montana      -1.426341\n",
            "Kentucky     -1.748559\n",
            "dtype: float64\n",
            "\n",
            "\n",
            "Washington    1.073670\n",
            "Alabama      -0.981854\n",
            "Montana       0.693756\n",
            "Indiana       1.783182\n",
            "New York     -1.537844\n",
            "dtype: float64\n"
          ],
          "name": "stdout"
        }
      ]
    },
    {
      "cell_type": "code",
      "metadata": {
        "id": "InoE1DVa26p-",
        "colab_type": "code",
        "colab": {
          "base_uri": "https://localhost:8080/",
          "height": 158
        },
        "outputId": "09896d69-7bd1-40d1-f35e-16e687abc86a"
      },
      "source": [
        "#Pandas usa el índice por defecto para alinear series para operaciones aritméticas\n",
        "indexed_series + alt_indexed_series"
      ],
      "execution_count": 39,
      "outputs": [
        {
          "output_type": "execute_result",
          "data": {
            "text/plain": [
              "Alabama      -0.353721\n",
              "California         NaN\n",
              "Indiana       1.103581\n",
              "Kentucky           NaN\n",
              "Montana      -0.732586\n",
              "New York           NaN\n",
              "Washington         NaN\n",
              "dtype: float64"
            ]
          },
          "metadata": {
            "tags": []
          },
          "execution_count": 39
        }
      ]
    },
    {
      "cell_type": "markdown",
      "metadata": {
        "id": "y3bGX-Ho26qB",
        "colab_type": "text"
      },
      "source": [
        "# Pandas DataFrames\n",
        "* son un conjunto de series Pandas que **comparten el mismo indice** \n"
      ]
    },
    {
      "cell_type": "code",
      "metadata": {
        "id": "ITiN5fUL26qB",
        "colab_type": "code",
        "colab": {
          "base_uri": "https://localhost:8080/",
          "height": 106
        },
        "outputId": "d0a8dc5a-967e-4710-d48e-8094e7ed12ff"
      },
      "source": [
        "pd.DataFrame(\n",
        "    [[1, 2, 3], [4, 5, 6]], \n",
        "    columns=['a', 'b', 'c'], \n",
        "    index=['foo', 'bar'])"
      ],
      "execution_count": 40,
      "outputs": [
        {
          "output_type": "execute_result",
          "data": {
            "text/html": [
              "<div>\n",
              "<style scoped>\n",
              "    .dataframe tbody tr th:only-of-type {\n",
              "        vertical-align: middle;\n",
              "    }\n",
              "\n",
              "    .dataframe tbody tr th {\n",
              "        vertical-align: top;\n",
              "    }\n",
              "\n",
              "    .dataframe thead th {\n",
              "        text-align: right;\n",
              "    }\n",
              "</style>\n",
              "<table border=\"1\" class=\"dataframe\">\n",
              "  <thead>\n",
              "    <tr style=\"text-align: right;\">\n",
              "      <th></th>\n",
              "      <th>a</th>\n",
              "      <th>b</th>\n",
              "      <th>c</th>\n",
              "    </tr>\n",
              "  </thead>\n",
              "  <tbody>\n",
              "    <tr>\n",
              "      <th>foo</th>\n",
              "      <td>1</td>\n",
              "      <td>2</td>\n",
              "      <td>3</td>\n",
              "    </tr>\n",
              "    <tr>\n",
              "      <th>bar</th>\n",
              "      <td>4</td>\n",
              "      <td>5</td>\n",
              "      <td>6</td>\n",
              "    </tr>\n",
              "  </tbody>\n",
              "</table>\n",
              "</div>"
            ],
            "text/plain": [
              "     a  b  c\n",
              "foo  1  2  3\n",
              "bar  4  5  6"
            ]
          },
          "metadata": {
            "tags": []
          },
          "execution_count": 40
        }
      ]
    },
    {
      "cell_type": "code",
      "metadata": {
        "scrolled": true,
        "id": "5yFbh20o26qE",
        "colab_type": "code",
        "colab": {
          "base_uri": "https://localhost:8080/",
          "height": 343
        },
        "outputId": "626bac1a-9ef7-4eeb-938e-41c112c9275f"
      },
      "source": [
        "df = pd.DataFrame(randn(10, 5), index=dt_index, columns=[x for x in 'abcde'])\n",
        "df"
      ],
      "execution_count": 41,
      "outputs": [
        {
          "output_type": "execute_result",
          "data": {
            "text/html": [
              "<div>\n",
              "<style scoped>\n",
              "    .dataframe tbody tr th:only-of-type {\n",
              "        vertical-align: middle;\n",
              "    }\n",
              "\n",
              "    .dataframe tbody tr th {\n",
              "        vertical-align: top;\n",
              "    }\n",
              "\n",
              "    .dataframe thead th {\n",
              "        text-align: right;\n",
              "    }\n",
              "</style>\n",
              "<table border=\"1\" class=\"dataframe\">\n",
              "  <thead>\n",
              "    <tr style=\"text-align: right;\">\n",
              "      <th></th>\n",
              "      <th>a</th>\n",
              "      <th>b</th>\n",
              "      <th>c</th>\n",
              "      <th>d</th>\n",
              "      <th>e</th>\n",
              "    </tr>\n",
              "  </thead>\n",
              "  <tbody>\n",
              "    <tr>\n",
              "      <th>2020-01-31</th>\n",
              "      <td>-0.810307</td>\n",
              "      <td>0.312074</td>\n",
              "      <td>1.412608</td>\n",
              "      <td>-0.694994</td>\n",
              "      <td>-0.392787</td>\n",
              "    </tr>\n",
              "    <tr>\n",
              "      <th>2020-02-29</th>\n",
              "      <td>-0.635197</td>\n",
              "      <td>0.456518</td>\n",
              "      <td>1.296770</td>\n",
              "      <td>-0.950466</td>\n",
              "      <td>1.697931</td>\n",
              "    </tr>\n",
              "    <tr>\n",
              "      <th>2020-03-31</th>\n",
              "      <td>0.501399</td>\n",
              "      <td>1.209953</td>\n",
              "      <td>1.348992</td>\n",
              "      <td>3.218377</td>\n",
              "      <td>0.574748</td>\n",
              "    </tr>\n",
              "    <tr>\n",
              "      <th>2020-04-30</th>\n",
              "      <td>-0.301893</td>\n",
              "      <td>0.038213</td>\n",
              "      <td>0.783996</td>\n",
              "      <td>0.647869</td>\n",
              "      <td>-0.527674</td>\n",
              "    </tr>\n",
              "    <tr>\n",
              "      <th>2020-05-31</th>\n",
              "      <td>0.923465</td>\n",
              "      <td>0.528687</td>\n",
              "      <td>0.367667</td>\n",
              "      <td>0.178934</td>\n",
              "      <td>1.261159</td>\n",
              "    </tr>\n",
              "    <tr>\n",
              "      <th>2020-06-30</th>\n",
              "      <td>0.448669</td>\n",
              "      <td>-0.477583</td>\n",
              "      <td>0.159675</td>\n",
              "      <td>-0.544448</td>\n",
              "      <td>0.045233</td>\n",
              "    </tr>\n",
              "    <tr>\n",
              "      <th>2020-07-31</th>\n",
              "      <td>0.314485</td>\n",
              "      <td>-0.182996</td>\n",
              "      <td>-0.262208</td>\n",
              "      <td>0.751558</td>\n",
              "      <td>-0.341122</td>\n",
              "    </tr>\n",
              "    <tr>\n",
              "      <th>2020-08-31</th>\n",
              "      <td>0.160411</td>\n",
              "      <td>0.219586</td>\n",
              "      <td>1.567464</td>\n",
              "      <td>-0.551340</td>\n",
              "      <td>-0.340351</td>\n",
              "    </tr>\n",
              "    <tr>\n",
              "      <th>2020-09-30</th>\n",
              "      <td>1.035353</td>\n",
              "      <td>0.450023</td>\n",
              "      <td>-0.277559</td>\n",
              "      <td>-0.645123</td>\n",
              "      <td>1.383320</td>\n",
              "    </tr>\n",
              "    <tr>\n",
              "      <th>2020-10-31</th>\n",
              "      <td>0.436067</td>\n",
              "      <td>1.128963</td>\n",
              "      <td>0.656624</td>\n",
              "      <td>0.272967</td>\n",
              "      <td>-1.326559</td>\n",
              "    </tr>\n",
              "  </tbody>\n",
              "</table>\n",
              "</div>"
            ],
            "text/plain": [
              "                   a         b         c         d         e\n",
              "2020-01-31 -0.810307  0.312074  1.412608 -0.694994 -0.392787\n",
              "2020-02-29 -0.635197  0.456518  1.296770 -0.950466  1.697931\n",
              "2020-03-31  0.501399  1.209953  1.348992  3.218377  0.574748\n",
              "2020-04-30 -0.301893  0.038213  0.783996  0.647869 -0.527674\n",
              "2020-05-31  0.923465  0.528687  0.367667  0.178934  1.261159\n",
              "2020-06-30  0.448669 -0.477583  0.159675 -0.544448  0.045233\n",
              "2020-07-31  0.314485 -0.182996 -0.262208  0.751558 -0.341122\n",
              "2020-08-31  0.160411  0.219586  1.567464 -0.551340 -0.340351\n",
              "2020-09-30  1.035353  0.450023 -0.277559 -0.645123  1.383320\n",
              "2020-10-31  0.436067  1.128963  0.656624  0.272967 -1.326559"
            ]
          },
          "metadata": {
            "tags": []
          },
          "execution_count": 41
        }
      ]
    },
    {
      "cell_type": "markdown",
      "metadata": {
        "id": "cVSo2YkD26qG",
        "colab_type": "text"
      },
      "source": [
        "## Para seleccionar una column, usar corchetes"
      ]
    },
    {
      "cell_type": "code",
      "metadata": {
        "id": "aFcl3ImK26qG",
        "colab_type": "code",
        "colab": {
          "base_uri": "https://localhost:8080/",
          "height": 210
        },
        "outputId": "535cd8e1-25b0-4666-c86a-30d1abdb0083"
      },
      "source": [
        "df['a']"
      ],
      "execution_count": 42,
      "outputs": [
        {
          "output_type": "execute_result",
          "data": {
            "text/plain": [
              "2020-01-31   -0.810307\n",
              "2020-02-29   -0.635197\n",
              "2020-03-31    0.501399\n",
              "2020-04-30   -0.301893\n",
              "2020-05-31    0.923465\n",
              "2020-06-30    0.448669\n",
              "2020-07-31    0.314485\n",
              "2020-08-31    0.160411\n",
              "2020-09-30    1.035353\n",
              "2020-10-31    0.436067\n",
              "Freq: M, Name: a, dtype: float64"
            ]
          },
          "metadata": {
            "tags": []
          },
          "execution_count": 42
        }
      ]
    },
    {
      "cell_type": "markdown",
      "metadata": {
        "id": "PxOnil8u26qJ",
        "colab_type": "text"
      },
      "source": [
        "También se puede usar la notación con \"punto\" para seleccionar la columna"
      ]
    },
    {
      "cell_type": "code",
      "metadata": {
        "id": "ufOktHiP26qJ",
        "colab_type": "code",
        "colab": {
          "base_uri": "https://localhost:8080/",
          "height": 210
        },
        "outputId": "73cd831e-b9be-4d5c-bd16-9efd0a63e88b"
      },
      "source": [
        "df.a"
      ],
      "execution_count": 43,
      "outputs": [
        {
          "output_type": "execute_result",
          "data": {
            "text/plain": [
              "2020-01-31   -0.810307\n",
              "2020-02-29   -0.635197\n",
              "2020-03-31    0.501399\n",
              "2020-04-30   -0.301893\n",
              "2020-05-31    0.923465\n",
              "2020-06-30    0.448669\n",
              "2020-07-31    0.314485\n",
              "2020-08-31    0.160411\n",
              "2020-09-30    1.035353\n",
              "2020-10-31    0.436067\n",
              "Freq: M, Name: a, dtype: float64"
            ]
          },
          "metadata": {
            "tags": []
          },
          "execution_count": 43
        }
      ]
    },
    {
      "cell_type": "markdown",
      "metadata": {
        "id": "IOJZVNRg26qM",
        "colab_type": "text"
      },
      "source": [
        "**NOTA** Tenga en cuenta que esto fallará si la columna tiene el mismo nombre que el dataframe."
      ]
    },
    {
      "cell_type": "code",
      "metadata": {
        "id": "V01ZfOb226qM",
        "colab_type": "code",
        "colab": {
          "base_uri": "https://localhost:8080/",
          "height": 343
        },
        "outputId": "d18bd330-2bbf-4456-e90d-038b65e2c915"
      },
      "source": [
        "df"
      ],
      "execution_count": 44,
      "outputs": [
        {
          "output_type": "execute_result",
          "data": {
            "text/html": [
              "<div>\n",
              "<style scoped>\n",
              "    .dataframe tbody tr th:only-of-type {\n",
              "        vertical-align: middle;\n",
              "    }\n",
              "\n",
              "    .dataframe tbody tr th {\n",
              "        vertical-align: top;\n",
              "    }\n",
              "\n",
              "    .dataframe thead th {\n",
              "        text-align: right;\n",
              "    }\n",
              "</style>\n",
              "<table border=\"1\" class=\"dataframe\">\n",
              "  <thead>\n",
              "    <tr style=\"text-align: right;\">\n",
              "      <th></th>\n",
              "      <th>a</th>\n",
              "      <th>b</th>\n",
              "      <th>c</th>\n",
              "      <th>d</th>\n",
              "      <th>e</th>\n",
              "    </tr>\n",
              "  </thead>\n",
              "  <tbody>\n",
              "    <tr>\n",
              "      <th>2020-01-31</th>\n",
              "      <td>-0.810307</td>\n",
              "      <td>0.312074</td>\n",
              "      <td>1.412608</td>\n",
              "      <td>-0.694994</td>\n",
              "      <td>-0.392787</td>\n",
              "    </tr>\n",
              "    <tr>\n",
              "      <th>2020-02-29</th>\n",
              "      <td>-0.635197</td>\n",
              "      <td>0.456518</td>\n",
              "      <td>1.296770</td>\n",
              "      <td>-0.950466</td>\n",
              "      <td>1.697931</td>\n",
              "    </tr>\n",
              "    <tr>\n",
              "      <th>2020-03-31</th>\n",
              "      <td>0.501399</td>\n",
              "      <td>1.209953</td>\n",
              "      <td>1.348992</td>\n",
              "      <td>3.218377</td>\n",
              "      <td>0.574748</td>\n",
              "    </tr>\n",
              "    <tr>\n",
              "      <th>2020-04-30</th>\n",
              "      <td>-0.301893</td>\n",
              "      <td>0.038213</td>\n",
              "      <td>0.783996</td>\n",
              "      <td>0.647869</td>\n",
              "      <td>-0.527674</td>\n",
              "    </tr>\n",
              "    <tr>\n",
              "      <th>2020-05-31</th>\n",
              "      <td>0.923465</td>\n",
              "      <td>0.528687</td>\n",
              "      <td>0.367667</td>\n",
              "      <td>0.178934</td>\n",
              "      <td>1.261159</td>\n",
              "    </tr>\n",
              "    <tr>\n",
              "      <th>2020-06-30</th>\n",
              "      <td>0.448669</td>\n",
              "      <td>-0.477583</td>\n",
              "      <td>0.159675</td>\n",
              "      <td>-0.544448</td>\n",
              "      <td>0.045233</td>\n",
              "    </tr>\n",
              "    <tr>\n",
              "      <th>2020-07-31</th>\n",
              "      <td>0.314485</td>\n",
              "      <td>-0.182996</td>\n",
              "      <td>-0.262208</td>\n",
              "      <td>0.751558</td>\n",
              "      <td>-0.341122</td>\n",
              "    </tr>\n",
              "    <tr>\n",
              "      <th>2020-08-31</th>\n",
              "      <td>0.160411</td>\n",
              "      <td>0.219586</td>\n",
              "      <td>1.567464</td>\n",
              "      <td>-0.551340</td>\n",
              "      <td>-0.340351</td>\n",
              "    </tr>\n",
              "    <tr>\n",
              "      <th>2020-09-30</th>\n",
              "      <td>1.035353</td>\n",
              "      <td>0.450023</td>\n",
              "      <td>-0.277559</td>\n",
              "      <td>-0.645123</td>\n",
              "      <td>1.383320</td>\n",
              "    </tr>\n",
              "    <tr>\n",
              "      <th>2020-10-31</th>\n",
              "      <td>0.436067</td>\n",
              "      <td>1.128963</td>\n",
              "      <td>0.656624</td>\n",
              "      <td>0.272967</td>\n",
              "      <td>-1.326559</td>\n",
              "    </tr>\n",
              "  </tbody>\n",
              "</table>\n",
              "</div>"
            ],
            "text/plain": [
              "                   a         b         c         d         e\n",
              "2020-01-31 -0.810307  0.312074  1.412608 -0.694994 -0.392787\n",
              "2020-02-29 -0.635197  0.456518  1.296770 -0.950466  1.697931\n",
              "2020-03-31  0.501399  1.209953  1.348992  3.218377  0.574748\n",
              "2020-04-30 -0.301893  0.038213  0.783996  0.647869 -0.527674\n",
              "2020-05-31  0.923465  0.528687  0.367667  0.178934  1.261159\n",
              "2020-06-30  0.448669 -0.477583  0.159675 -0.544448  0.045233\n",
              "2020-07-31  0.314485 -0.182996 -0.262208  0.751558 -0.341122\n",
              "2020-08-31  0.160411  0.219586  1.567464 -0.551340 -0.340351\n",
              "2020-09-30  1.035353  0.450023 -0.277559 -0.645123  1.383320\n",
              "2020-10-31  0.436067  1.128963  0.656624  0.272967 -1.326559"
            ]
          },
          "metadata": {
            "tags": []
          },
          "execution_count": 44
        }
      ]
    },
    {
      "cell_type": "markdown",
      "metadata": {
        "id": "arXAqP3L26qO",
        "colab_type": "text"
      },
      "source": [
        "## Para seleccionar una fila, use .loc[]"
      ]
    },
    {
      "cell_type": "code",
      "metadata": {
        "id": "4f7Zn4jd26qO",
        "colab_type": "code",
        "colab": {
          "base_uri": "https://localhost:8080/",
          "height": 122
        },
        "outputId": "fdbdf4d6-f139-4446-b438-490e343f4f6f"
      },
      "source": [
        "df.loc['2020-10-31']"
      ],
      "execution_count": 46,
      "outputs": [
        {
          "output_type": "execute_result",
          "data": {
            "text/plain": [
              "a    0.436067\n",
              "b    1.128963\n",
              "c    0.656624\n",
              "d    0.272967\n",
              "e   -1.326559\n",
              "Name: 2020-10-31 00:00:00, dtype: float64"
            ]
          },
          "metadata": {
            "tags": []
          },
          "execution_count": 46
        }
      ]
    },
    {
      "cell_type": "markdown",
      "metadata": {
        "id": "th5NMJR226qQ",
        "colab_type": "text"
      },
      "source": [
        "## Una columna de un dataframe es una serie:"
      ]
    },
    {
      "cell_type": "code",
      "metadata": {
        "id": "pLG4vtKP26qR",
        "colab_type": "code",
        "colab": {
          "base_uri": "https://localhost:8080/",
          "height": 34
        },
        "outputId": "4ebfba60-532e-475b-ce45-d3fe702fe1b3"
      },
      "source": [
        "col = df['d']\n",
        "type(col)"
      ],
      "execution_count": 47,
      "outputs": [
        {
          "output_type": "execute_result",
          "data": {
            "text/plain": [
              "pandas.core.series.Series"
            ]
          },
          "metadata": {
            "tags": []
          },
          "execution_count": 47
        }
      ]
    },
    {
      "cell_type": "markdown",
      "metadata": {
        "id": "p9_OiiYe26qU",
        "colab_type": "text"
      },
      "source": [
        "## Una fila también es un dataframe serie"
      ]
    },
    {
      "cell_type": "code",
      "metadata": {
        "id": "vNCsLjV826qV",
        "colab_type": "code",
        "colab": {
          "base_uri": "https://localhost:8080/",
          "height": 34
        },
        "outputId": "8a7df59e-81e1-4b04-d760-edab773d00e5"
      },
      "source": [
        "row = df.loc['2020-01-31']\n",
        "type(row)"
      ],
      "execution_count": 49,
      "outputs": [
        {
          "output_type": "execute_result",
          "data": {
            "text/plain": [
              "pandas.core.series.Series"
            ]
          },
          "metadata": {
            "tags": []
          },
          "execution_count": 49
        }
      ]
    },
    {
      "cell_type": "markdown",
      "metadata": {
        "id": "aZhm8JoA26qX",
        "colab_type": "text"
      },
      "source": [
        "### Todas las columnas tienen los mismos indices:"
      ]
    },
    {
      "cell_type": "code",
      "metadata": {
        "id": "Z4B5N9Qg26qY",
        "colab_type": "code",
        "colab": {
          "base_uri": "https://localhost:8080/",
          "height": 87
        },
        "outputId": "f9ef9a27-b826-4a36-c2be-33ee06c66b9e"
      },
      "source": [
        "col.index   "
      ],
      "execution_count": 50,
      "outputs": [
        {
          "output_type": "execute_result",
          "data": {
            "text/plain": [
              "DatetimeIndex(['2020-01-31', '2020-02-29', '2020-03-31', '2020-04-30',\n",
              "               '2020-05-31', '2020-06-30', '2020-07-31', '2020-08-31',\n",
              "               '2020-09-30', '2020-10-31'],\n",
              "              dtype='datetime64[ns]', freq='M')"
            ]
          },
          "metadata": {
            "tags": []
          },
          "execution_count": 50
        }
      ]
    },
    {
      "cell_type": "markdown",
      "metadata": {
        "id": "NDOZzfmK26qa",
        "colab_type": "text"
      },
      "source": [
        "### Mismo procedimiento es usado para las filas"
      ]
    },
    {
      "cell_type": "code",
      "metadata": {
        "id": "FC2VqJrv26qb",
        "colab_type": "code",
        "colab": {
          "base_uri": "https://localhost:8080/",
          "height": 34
        },
        "outputId": "066ec507-cb73-4b4e-aed7-99b950591867"
      },
      "source": [
        "row.index"
      ],
      "execution_count": 51,
      "outputs": [
        {
          "output_type": "execute_result",
          "data": {
            "text/plain": [
              "Index(['a', 'b', 'c', 'd', 'e'], dtype='object')"
            ]
          },
          "metadata": {
            "tags": []
          },
          "execution_count": 51
        }
      ]
    },
    {
      "cell_type": "code",
      "metadata": {
        "id": "AcYGdrvO26qg",
        "colab_type": "code",
        "colab": {
          "base_uri": "https://localhost:8080/",
          "height": 87
        },
        "outputId": "f01e06cc-9f79-43c5-cfad-b3f5b997976a"
      },
      "source": [
        "df.index #Indice del dataframe"
      ],
      "execution_count": 53,
      "outputs": [
        {
          "output_type": "execute_result",
          "data": {
            "text/plain": [
              "DatetimeIndex(['2020-01-31', '2020-02-29', '2020-03-31', '2020-04-30',\n",
              "               '2020-05-31', '2020-06-30', '2020-07-31', '2020-08-31',\n",
              "               '2020-09-30', '2020-10-31'],\n",
              "              dtype='datetime64[ns]', freq='M')"
            ]
          },
          "metadata": {
            "tags": []
          },
          "execution_count": 53
        }
      ]
    },
    {
      "cell_type": "code",
      "metadata": {
        "id": "M6Fzh9j026qi",
        "colab_type": "code",
        "colab": {
          "base_uri": "https://localhost:8080/",
          "height": 34
        },
        "outputId": "d13b3169-7e23-4f9d-cd23-155593c9383d"
      },
      "source": [
        "df.columns #Nombres de las columnas"
      ],
      "execution_count": 54,
      "outputs": [
        {
          "output_type": "execute_result",
          "data": {
            "text/plain": [
              "Index(['a', 'b', 'c', 'd', 'e'], dtype='object')"
            ]
          },
          "metadata": {
            "tags": []
          },
          "execution_count": 54
        }
      ]
    },
    {
      "cell_type": "code",
      "metadata": {
        "id": "bGq848REDFiS",
        "colab_type": "code",
        "colab": {
          "base_uri": "https://localhost:8080/",
          "height": 34
        },
        "outputId": "a3809b14-43bb-4a74-9a12-17eda52bd5b6"
      },
      "source": [
        "df.columns.values  #Como arrays"
      ],
      "execution_count": 55,
      "outputs": [
        {
          "output_type": "execute_result",
          "data": {
            "text/plain": [
              "array(['a', 'b', 'c', 'd', 'e'], dtype=object)"
            ]
          },
          "metadata": {
            "tags": []
          },
          "execution_count": 55
        }
      ]
    },
    {
      "cell_type": "code",
      "metadata": {
        "id": "PrYHkHrNDMZ1",
        "colab_type": "code",
        "colab": {
          "base_uri": "https://localhost:8080/",
          "height": 34
        },
        "outputId": "f8af1e9a-d69a-4606-a2d8-d6821c9fbdef"
      },
      "source": [
        "list(df.columns.values) #De arrays para lista"
      ],
      "execution_count": 56,
      "outputs": [
        {
          "output_type": "execute_result",
          "data": {
            "text/plain": [
              "['a', 'b', 'c', 'd', 'e']"
            ]
          },
          "metadata": {
            "tags": []
          },
          "execution_count": 56
        }
      ]
    },
    {
      "cell_type": "markdown",
      "metadata": {
        "id": "d1YA7ExJ26qj",
        "colab_type": "text"
      },
      "source": [
        "## Seleccionando múltiples columnas"
      ]
    },
    {
      "cell_type": "code",
      "metadata": {
        "id": "SxcWABcN26qk",
        "colab_type": "code",
        "colab": {
          "base_uri": "https://localhost:8080/",
          "height": 343
        },
        "outputId": "6acfa510-a53b-45d1-8a3d-1634066c740f"
      },
      "source": [
        "df[['a','b']]"
      ],
      "execution_count": 57,
      "outputs": [
        {
          "output_type": "execute_result",
          "data": {
            "text/html": [
              "<div>\n",
              "<style scoped>\n",
              "    .dataframe tbody tr th:only-of-type {\n",
              "        vertical-align: middle;\n",
              "    }\n",
              "\n",
              "    .dataframe tbody tr th {\n",
              "        vertical-align: top;\n",
              "    }\n",
              "\n",
              "    .dataframe thead th {\n",
              "        text-align: right;\n",
              "    }\n",
              "</style>\n",
              "<table border=\"1\" class=\"dataframe\">\n",
              "  <thead>\n",
              "    <tr style=\"text-align: right;\">\n",
              "      <th></th>\n",
              "      <th>a</th>\n",
              "      <th>b</th>\n",
              "    </tr>\n",
              "  </thead>\n",
              "  <tbody>\n",
              "    <tr>\n",
              "      <th>2020-01-31</th>\n",
              "      <td>-0.810307</td>\n",
              "      <td>0.312074</td>\n",
              "    </tr>\n",
              "    <tr>\n",
              "      <th>2020-02-29</th>\n",
              "      <td>-0.635197</td>\n",
              "      <td>0.456518</td>\n",
              "    </tr>\n",
              "    <tr>\n",
              "      <th>2020-03-31</th>\n",
              "      <td>0.501399</td>\n",
              "      <td>1.209953</td>\n",
              "    </tr>\n",
              "    <tr>\n",
              "      <th>2020-04-30</th>\n",
              "      <td>-0.301893</td>\n",
              "      <td>0.038213</td>\n",
              "    </tr>\n",
              "    <tr>\n",
              "      <th>2020-05-31</th>\n",
              "      <td>0.923465</td>\n",
              "      <td>0.528687</td>\n",
              "    </tr>\n",
              "    <tr>\n",
              "      <th>2020-06-30</th>\n",
              "      <td>0.448669</td>\n",
              "      <td>-0.477583</td>\n",
              "    </tr>\n",
              "    <tr>\n",
              "      <th>2020-07-31</th>\n",
              "      <td>0.314485</td>\n",
              "      <td>-0.182996</td>\n",
              "    </tr>\n",
              "    <tr>\n",
              "      <th>2020-08-31</th>\n",
              "      <td>0.160411</td>\n",
              "      <td>0.219586</td>\n",
              "    </tr>\n",
              "    <tr>\n",
              "      <th>2020-09-30</th>\n",
              "      <td>1.035353</td>\n",
              "      <td>0.450023</td>\n",
              "    </tr>\n",
              "    <tr>\n",
              "      <th>2020-10-31</th>\n",
              "      <td>0.436067</td>\n",
              "      <td>1.128963</td>\n",
              "    </tr>\n",
              "  </tbody>\n",
              "</table>\n",
              "</div>"
            ],
            "text/plain": [
              "                   a         b\n",
              "2020-01-31 -0.810307  0.312074\n",
              "2020-02-29 -0.635197  0.456518\n",
              "2020-03-31  0.501399  1.209953\n",
              "2020-04-30 -0.301893  0.038213\n",
              "2020-05-31  0.923465  0.528687\n",
              "2020-06-30  0.448669 -0.477583\n",
              "2020-07-31  0.314485 -0.182996\n",
              "2020-08-31  0.160411  0.219586\n",
              "2020-09-30  1.035353  0.450023\n",
              "2020-10-31  0.436067  1.128963"
            ]
          },
          "metadata": {
            "tags": []
          },
          "execution_count": 57
        }
      ]
    },
    {
      "cell_type": "markdown",
      "metadata": {
        "id": "v6AuC48W26qm",
        "colab_type": "text"
      },
      "source": [
        "## Operación de columnas\n",
        "Como numpy, operaciones son de propagación de cada elemento de la columna"
      ]
    },
    {
      "cell_type": "code",
      "metadata": {
        "id": "yrjcT4F326qm",
        "colab_type": "code",
        "colab": {
          "base_uri": "https://localhost:8080/",
          "height": 210
        },
        "outputId": "74931c55-46b2-4715-b7ff-c412036b256e"
      },
      "source": [
        "df['a'] + df['b']"
      ],
      "execution_count": 58,
      "outputs": [
        {
          "output_type": "execute_result",
          "data": {
            "text/plain": [
              "2020-01-31   -0.498233\n",
              "2020-02-29   -0.178679\n",
              "2020-03-31    1.711352\n",
              "2020-04-30   -0.263681\n",
              "2020-05-31    1.452152\n",
              "2020-06-30   -0.028914\n",
              "2020-07-31    0.131489\n",
              "2020-08-31    0.379998\n",
              "2020-09-30    1.485377\n",
              "2020-10-31    1.565029\n",
              "Freq: M, dtype: float64"
            ]
          },
          "metadata": {
            "tags": []
          },
          "execution_count": 58
        }
      ]
    },
    {
      "cell_type": "markdown",
      "metadata": {
        "id": "N5vpgd_826qo",
        "colab_type": "text"
      },
      "source": [
        "## Adicionando una nueva columnas"
      ]
    },
    {
      "cell_type": "code",
      "metadata": {
        "id": "noP5pz4u26qo",
        "colab_type": "code",
        "colab": {}
      },
      "source": [
        "df['h'] = abs(df['a'])**df['b']"
      ],
      "execution_count": 59,
      "outputs": []
    },
    {
      "cell_type": "code",
      "metadata": {
        "id": "GItnr1M526qr",
        "colab_type": "code",
        "colab": {
          "base_uri": "https://localhost:8080/",
          "height": 343
        },
        "outputId": "f1ba76af-2ccb-4f77-d2ab-93942b5ad3c1"
      },
      "source": [
        "df"
      ],
      "execution_count": 60,
      "outputs": [
        {
          "output_type": "execute_result",
          "data": {
            "text/html": [
              "<div>\n",
              "<style scoped>\n",
              "    .dataframe tbody tr th:only-of-type {\n",
              "        vertical-align: middle;\n",
              "    }\n",
              "\n",
              "    .dataframe tbody tr th {\n",
              "        vertical-align: top;\n",
              "    }\n",
              "\n",
              "    .dataframe thead th {\n",
              "        text-align: right;\n",
              "    }\n",
              "</style>\n",
              "<table border=\"1\" class=\"dataframe\">\n",
              "  <thead>\n",
              "    <tr style=\"text-align: right;\">\n",
              "      <th></th>\n",
              "      <th>a</th>\n",
              "      <th>b</th>\n",
              "      <th>c</th>\n",
              "      <th>d</th>\n",
              "      <th>e</th>\n",
              "      <th>h</th>\n",
              "    </tr>\n",
              "  </thead>\n",
              "  <tbody>\n",
              "    <tr>\n",
              "      <th>2020-01-31</th>\n",
              "      <td>-0.810307</td>\n",
              "      <td>0.312074</td>\n",
              "      <td>1.412608</td>\n",
              "      <td>-0.694994</td>\n",
              "      <td>-0.392787</td>\n",
              "      <td>0.936466</td>\n",
              "    </tr>\n",
              "    <tr>\n",
              "      <th>2020-02-29</th>\n",
              "      <td>-0.635197</td>\n",
              "      <td>0.456518</td>\n",
              "      <td>1.296770</td>\n",
              "      <td>-0.950466</td>\n",
              "      <td>1.697931</td>\n",
              "      <td>0.812876</td>\n",
              "    </tr>\n",
              "    <tr>\n",
              "      <th>2020-03-31</th>\n",
              "      <td>0.501399</td>\n",
              "      <td>1.209953</td>\n",
              "      <td>1.348992</td>\n",
              "      <td>3.218377</td>\n",
              "      <td>0.574748</td>\n",
              "      <td>0.433746</td>\n",
              "    </tr>\n",
              "    <tr>\n",
              "      <th>2020-04-30</th>\n",
              "      <td>-0.301893</td>\n",
              "      <td>0.038213</td>\n",
              "      <td>0.783996</td>\n",
              "      <td>0.647869</td>\n",
              "      <td>-0.527674</td>\n",
              "      <td>0.955265</td>\n",
              "    </tr>\n",
              "    <tr>\n",
              "      <th>2020-05-31</th>\n",
              "      <td>0.923465</td>\n",
              "      <td>0.528687</td>\n",
              "      <td>0.367667</td>\n",
              "      <td>0.178934</td>\n",
              "      <td>1.261159</td>\n",
              "      <td>0.958778</td>\n",
              "    </tr>\n",
              "    <tr>\n",
              "      <th>2020-06-30</th>\n",
              "      <td>0.448669</td>\n",
              "      <td>-0.477583</td>\n",
              "      <td>0.159675</td>\n",
              "      <td>-0.544448</td>\n",
              "      <td>0.045233</td>\n",
              "      <td>1.466339</td>\n",
              "    </tr>\n",
              "    <tr>\n",
              "      <th>2020-07-31</th>\n",
              "      <td>0.314485</td>\n",
              "      <td>-0.182996</td>\n",
              "      <td>-0.262208</td>\n",
              "      <td>0.751558</td>\n",
              "      <td>-0.341122</td>\n",
              "      <td>1.235769</td>\n",
              "    </tr>\n",
              "    <tr>\n",
              "      <th>2020-08-31</th>\n",
              "      <td>0.160411</td>\n",
              "      <td>0.219586</td>\n",
              "      <td>1.567464</td>\n",
              "      <td>-0.551340</td>\n",
              "      <td>-0.340351</td>\n",
              "      <td>0.669084</td>\n",
              "    </tr>\n",
              "    <tr>\n",
              "      <th>2020-09-30</th>\n",
              "      <td>1.035353</td>\n",
              "      <td>0.450023</td>\n",
              "      <td>-0.277559</td>\n",
              "      <td>-0.645123</td>\n",
              "      <td>1.383320</td>\n",
              "      <td>1.015758</td>\n",
              "    </tr>\n",
              "    <tr>\n",
              "      <th>2020-10-31</th>\n",
              "      <td>0.436067</td>\n",
              "      <td>1.128963</td>\n",
              "      <td>0.656624</td>\n",
              "      <td>0.272967</td>\n",
              "      <td>-1.326559</td>\n",
              "      <td>0.391804</td>\n",
              "    </tr>\n",
              "  </tbody>\n",
              "</table>\n",
              "</div>"
            ],
            "text/plain": [
              "                   a         b         c         d         e         h\n",
              "2020-01-31 -0.810307  0.312074  1.412608 -0.694994 -0.392787  0.936466\n",
              "2020-02-29 -0.635197  0.456518  1.296770 -0.950466  1.697931  0.812876\n",
              "2020-03-31  0.501399  1.209953  1.348992  3.218377  0.574748  0.433746\n",
              "2020-04-30 -0.301893  0.038213  0.783996  0.647869 -0.527674  0.955265\n",
              "2020-05-31  0.923465  0.528687  0.367667  0.178934  1.261159  0.958778\n",
              "2020-06-30  0.448669 -0.477583  0.159675 -0.544448  0.045233  1.466339\n",
              "2020-07-31  0.314485 -0.182996 -0.262208  0.751558 -0.341122  1.235769\n",
              "2020-08-31  0.160411  0.219586  1.567464 -0.551340 -0.340351  0.669084\n",
              "2020-09-30  1.035353  0.450023 -0.277559 -0.645123  1.383320  1.015758\n",
              "2020-10-31  0.436067  1.128963  0.656624  0.272967 -1.326559  0.391804"
            ]
          },
          "metadata": {
            "tags": []
          },
          "execution_count": 60
        }
      ]
    },
    {
      "cell_type": "markdown",
      "metadata": {
        "id": "c-SpxWoE26qu",
        "colab_type": "text"
      },
      "source": [
        "## Selección avanzada de columnas\n"
      ]
    },
    {
      "cell_type": "markdown",
      "metadata": {
        "id": "g6Mh_Gyt26qu",
        "colab_type": "text"
      },
      "source": [
        "### .loc \n",
        "selecciona por el label de la fila (indice), y el label de la columna"
      ]
    },
    {
      "cell_type": "code",
      "metadata": {
        "id": "WykHjoi826qw",
        "colab_type": "code",
        "colab": {
          "base_uri": "https://localhost:8080/",
          "height": 166
        },
        "outputId": "40fd27d2-c6d7-49de-c959-38a32df1a869"
      },
      "source": [
        "df.loc['2020-05-31':'2020-08-31', 'c':'e'] #Rangos por label."
      ],
      "execution_count": 61,
      "outputs": [
        {
          "output_type": "execute_result",
          "data": {
            "text/html": [
              "<div>\n",
              "<style scoped>\n",
              "    .dataframe tbody tr th:only-of-type {\n",
              "        vertical-align: middle;\n",
              "    }\n",
              "\n",
              "    .dataframe tbody tr th {\n",
              "        vertical-align: top;\n",
              "    }\n",
              "\n",
              "    .dataframe thead th {\n",
              "        text-align: right;\n",
              "    }\n",
              "</style>\n",
              "<table border=\"1\" class=\"dataframe\">\n",
              "  <thead>\n",
              "    <tr style=\"text-align: right;\">\n",
              "      <th></th>\n",
              "      <th>c</th>\n",
              "      <th>d</th>\n",
              "      <th>e</th>\n",
              "    </tr>\n",
              "  </thead>\n",
              "  <tbody>\n",
              "    <tr>\n",
              "      <th>2020-05-31</th>\n",
              "      <td>0.367667</td>\n",
              "      <td>0.178934</td>\n",
              "      <td>1.261159</td>\n",
              "    </tr>\n",
              "    <tr>\n",
              "      <th>2020-06-30</th>\n",
              "      <td>0.159675</td>\n",
              "      <td>-0.544448</td>\n",
              "      <td>0.045233</td>\n",
              "    </tr>\n",
              "    <tr>\n",
              "      <th>2020-07-31</th>\n",
              "      <td>-0.262208</td>\n",
              "      <td>0.751558</td>\n",
              "      <td>-0.341122</td>\n",
              "    </tr>\n",
              "    <tr>\n",
              "      <th>2020-08-31</th>\n",
              "      <td>1.567464</td>\n",
              "      <td>-0.551340</td>\n",
              "      <td>-0.340351</td>\n",
              "    </tr>\n",
              "  </tbody>\n",
              "</table>\n",
              "</div>"
            ],
            "text/plain": [
              "                   c         d         e\n",
              "2020-05-31  0.367667  0.178934  1.261159\n",
              "2020-06-30  0.159675 -0.544448  0.045233\n",
              "2020-07-31 -0.262208  0.751558 -0.341122\n",
              "2020-08-31  1.567464 -0.551340 -0.340351"
            ]
          },
          "metadata": {
            "tags": []
          },
          "execution_count": 61
        }
      ]
    },
    {
      "cell_type": "code",
      "metadata": {
        "id": "PLcQmYdT26qz",
        "colab_type": "code",
        "colab": {
          "base_uri": "https://localhost:8080/",
          "height": 166
        },
        "outputId": "3e5c00b2-af99-43e6-a228-2e0ac8143a95"
      },
      "source": [
        "df.loc['2020-05-31':'2020-08-31', 'c':'e'] = 2.7 #En este rango del dataframe coloco el valor 2.7\n",
        "df.loc['2020-05-31':'2020-08-31', 'c':'e']"
      ],
      "execution_count": 62,
      "outputs": [
        {
          "output_type": "execute_result",
          "data": {
            "text/html": [
              "<div>\n",
              "<style scoped>\n",
              "    .dataframe tbody tr th:only-of-type {\n",
              "        vertical-align: middle;\n",
              "    }\n",
              "\n",
              "    .dataframe tbody tr th {\n",
              "        vertical-align: top;\n",
              "    }\n",
              "\n",
              "    .dataframe thead th {\n",
              "        text-align: right;\n",
              "    }\n",
              "</style>\n",
              "<table border=\"1\" class=\"dataframe\">\n",
              "  <thead>\n",
              "    <tr style=\"text-align: right;\">\n",
              "      <th></th>\n",
              "      <th>c</th>\n",
              "      <th>d</th>\n",
              "      <th>e</th>\n",
              "    </tr>\n",
              "  </thead>\n",
              "  <tbody>\n",
              "    <tr>\n",
              "      <th>2020-05-31</th>\n",
              "      <td>2.7</td>\n",
              "      <td>2.7</td>\n",
              "      <td>2.7</td>\n",
              "    </tr>\n",
              "    <tr>\n",
              "      <th>2020-06-30</th>\n",
              "      <td>2.7</td>\n",
              "      <td>2.7</td>\n",
              "      <td>2.7</td>\n",
              "    </tr>\n",
              "    <tr>\n",
              "      <th>2020-07-31</th>\n",
              "      <td>2.7</td>\n",
              "      <td>2.7</td>\n",
              "      <td>2.7</td>\n",
              "    </tr>\n",
              "    <tr>\n",
              "      <th>2020-08-31</th>\n",
              "      <td>2.7</td>\n",
              "      <td>2.7</td>\n",
              "      <td>2.7</td>\n",
              "    </tr>\n",
              "  </tbody>\n",
              "</table>\n",
              "</div>"
            ],
            "text/plain": [
              "              c    d    e\n",
              "2020-05-31  2.7  2.7  2.7\n",
              "2020-06-30  2.7  2.7  2.7\n",
              "2020-07-31  2.7  2.7  2.7\n",
              "2020-08-31  2.7  2.7  2.7"
            ]
          },
          "metadata": {
            "tags": []
          },
          "execution_count": 62
        }
      ]
    },
    {
      "cell_type": "code",
      "metadata": {
        "id": "rYXXxgDz26q1",
        "colab_type": "code",
        "colab": {
          "base_uri": "https://localhost:8080/",
          "height": 343
        },
        "outputId": "131d5774-215c-4b1f-a6a1-57b77ea63a60"
      },
      "source": [
        "df #Observa el rango anterio tiene 2.7"
      ],
      "execution_count": 63,
      "outputs": [
        {
          "output_type": "execute_result",
          "data": {
            "text/html": [
              "<div>\n",
              "<style scoped>\n",
              "    .dataframe tbody tr th:only-of-type {\n",
              "        vertical-align: middle;\n",
              "    }\n",
              "\n",
              "    .dataframe tbody tr th {\n",
              "        vertical-align: top;\n",
              "    }\n",
              "\n",
              "    .dataframe thead th {\n",
              "        text-align: right;\n",
              "    }\n",
              "</style>\n",
              "<table border=\"1\" class=\"dataframe\">\n",
              "  <thead>\n",
              "    <tr style=\"text-align: right;\">\n",
              "      <th></th>\n",
              "      <th>a</th>\n",
              "      <th>b</th>\n",
              "      <th>c</th>\n",
              "      <th>d</th>\n",
              "      <th>e</th>\n",
              "      <th>h</th>\n",
              "    </tr>\n",
              "  </thead>\n",
              "  <tbody>\n",
              "    <tr>\n",
              "      <th>2020-01-31</th>\n",
              "      <td>-0.810307</td>\n",
              "      <td>0.312074</td>\n",
              "      <td>1.412608</td>\n",
              "      <td>-0.694994</td>\n",
              "      <td>-0.392787</td>\n",
              "      <td>0.936466</td>\n",
              "    </tr>\n",
              "    <tr>\n",
              "      <th>2020-02-29</th>\n",
              "      <td>-0.635197</td>\n",
              "      <td>0.456518</td>\n",
              "      <td>1.296770</td>\n",
              "      <td>-0.950466</td>\n",
              "      <td>1.697931</td>\n",
              "      <td>0.812876</td>\n",
              "    </tr>\n",
              "    <tr>\n",
              "      <th>2020-03-31</th>\n",
              "      <td>0.501399</td>\n",
              "      <td>1.209953</td>\n",
              "      <td>1.348992</td>\n",
              "      <td>3.218377</td>\n",
              "      <td>0.574748</td>\n",
              "      <td>0.433746</td>\n",
              "    </tr>\n",
              "    <tr>\n",
              "      <th>2020-04-30</th>\n",
              "      <td>-0.301893</td>\n",
              "      <td>0.038213</td>\n",
              "      <td>0.783996</td>\n",
              "      <td>0.647869</td>\n",
              "      <td>-0.527674</td>\n",
              "      <td>0.955265</td>\n",
              "    </tr>\n",
              "    <tr>\n",
              "      <th>2020-05-31</th>\n",
              "      <td>0.923465</td>\n",
              "      <td>0.528687</td>\n",
              "      <td>2.700000</td>\n",
              "      <td>2.700000</td>\n",
              "      <td>2.700000</td>\n",
              "      <td>0.958778</td>\n",
              "    </tr>\n",
              "    <tr>\n",
              "      <th>2020-06-30</th>\n",
              "      <td>0.448669</td>\n",
              "      <td>-0.477583</td>\n",
              "      <td>2.700000</td>\n",
              "      <td>2.700000</td>\n",
              "      <td>2.700000</td>\n",
              "      <td>1.466339</td>\n",
              "    </tr>\n",
              "    <tr>\n",
              "      <th>2020-07-31</th>\n",
              "      <td>0.314485</td>\n",
              "      <td>-0.182996</td>\n",
              "      <td>2.700000</td>\n",
              "      <td>2.700000</td>\n",
              "      <td>2.700000</td>\n",
              "      <td>1.235769</td>\n",
              "    </tr>\n",
              "    <tr>\n",
              "      <th>2020-08-31</th>\n",
              "      <td>0.160411</td>\n",
              "      <td>0.219586</td>\n",
              "      <td>2.700000</td>\n",
              "      <td>2.700000</td>\n",
              "      <td>2.700000</td>\n",
              "      <td>0.669084</td>\n",
              "    </tr>\n",
              "    <tr>\n",
              "      <th>2020-09-30</th>\n",
              "      <td>1.035353</td>\n",
              "      <td>0.450023</td>\n",
              "      <td>-0.277559</td>\n",
              "      <td>-0.645123</td>\n",
              "      <td>1.383320</td>\n",
              "      <td>1.015758</td>\n",
              "    </tr>\n",
              "    <tr>\n",
              "      <th>2020-10-31</th>\n",
              "      <td>0.436067</td>\n",
              "      <td>1.128963</td>\n",
              "      <td>0.656624</td>\n",
              "      <td>0.272967</td>\n",
              "      <td>-1.326559</td>\n",
              "      <td>0.391804</td>\n",
              "    </tr>\n",
              "  </tbody>\n",
              "</table>\n",
              "</div>"
            ],
            "text/plain": [
              "                   a         b         c         d         e         h\n",
              "2020-01-31 -0.810307  0.312074  1.412608 -0.694994 -0.392787  0.936466\n",
              "2020-02-29 -0.635197  0.456518  1.296770 -0.950466  1.697931  0.812876\n",
              "2020-03-31  0.501399  1.209953  1.348992  3.218377  0.574748  0.433746\n",
              "2020-04-30 -0.301893  0.038213  0.783996  0.647869 -0.527674  0.955265\n",
              "2020-05-31  0.923465  0.528687  2.700000  2.700000  2.700000  0.958778\n",
              "2020-06-30  0.448669 -0.477583  2.700000  2.700000  2.700000  1.466339\n",
              "2020-07-31  0.314485 -0.182996  2.700000  2.700000  2.700000  1.235769\n",
              "2020-08-31  0.160411  0.219586  2.700000  2.700000  2.700000  0.669084\n",
              "2020-09-30  1.035353  0.450023 -0.277559 -0.645123  1.383320  1.015758\n",
              "2020-10-31  0.436067  1.128963  0.656624  0.272967 -1.326559  0.391804"
            ]
          },
          "metadata": {
            "tags": []
          },
          "execution_count": 63
        }
      ]
    },
    {
      "cell_type": "markdown",
      "metadata": {
        "id": "OE6hem1D26q5",
        "colab_type": "text"
      },
      "source": [
        "### .iloc\n",
        "selección por indice de __posición__ "
      ]
    },
    {
      "cell_type": "code",
      "metadata": {
        "id": "Y8UyINE726q5",
        "colab_type": "code",
        "colab": {
          "base_uri": "https://localhost:8080/",
          "height": 106
        },
        "outputId": "ead7ba52-db15-4c00-e809-2b30407a1aed"
      },
      "source": [
        "df.iloc[2:4,2:5] #Rango por número."
      ],
      "execution_count": 64,
      "outputs": [
        {
          "output_type": "execute_result",
          "data": {
            "text/html": [
              "<div>\n",
              "<style scoped>\n",
              "    .dataframe tbody tr th:only-of-type {\n",
              "        vertical-align: middle;\n",
              "    }\n",
              "\n",
              "    .dataframe tbody tr th {\n",
              "        vertical-align: top;\n",
              "    }\n",
              "\n",
              "    .dataframe thead th {\n",
              "        text-align: right;\n",
              "    }\n",
              "</style>\n",
              "<table border=\"1\" class=\"dataframe\">\n",
              "  <thead>\n",
              "    <tr style=\"text-align: right;\">\n",
              "      <th></th>\n",
              "      <th>c</th>\n",
              "      <th>d</th>\n",
              "      <th>e</th>\n",
              "    </tr>\n",
              "  </thead>\n",
              "  <tbody>\n",
              "    <tr>\n",
              "      <th>2020-03-31</th>\n",
              "      <td>1.348992</td>\n",
              "      <td>3.218377</td>\n",
              "      <td>0.574748</td>\n",
              "    </tr>\n",
              "    <tr>\n",
              "      <th>2020-04-30</th>\n",
              "      <td>0.783996</td>\n",
              "      <td>0.647869</td>\n",
              "      <td>-0.527674</td>\n",
              "    </tr>\n",
              "  </tbody>\n",
              "</table>\n",
              "</div>"
            ],
            "text/plain": [
              "                   c         d         e\n",
              "2020-03-31  1.348992  3.218377  0.574748\n",
              "2020-04-30  0.783996  0.647869 -0.527674"
            ]
          },
          "metadata": {
            "tags": []
          },
          "execution_count": 64
        }
      ]
    },
    {
      "cell_type": "markdown",
      "metadata": {
        "id": "w2l4HtIc26q_",
        "colab_type": "text"
      },
      "source": [
        "Generando un nuevo data frame con indice de fechas"
      ]
    },
    {
      "cell_type": "code",
      "metadata": {
        "id": "dHW47_6Q26q_",
        "colab_type": "code",
        "colab": {
          "base_uri": "https://localhost:8080/",
          "height": 935
        },
        "outputId": "75699421-7e4a-43bb-80b5-31099bf11f9a"
      },
      "source": [
        "dt_index = pd.date_range('2018-1-1', \n",
        "                        '2020-7-1', \n",
        "                        freq='m')\n",
        "df = pd.DataFrame(randn(30,5), index=dt_index)\n",
        "df"
      ],
      "execution_count": 65,
      "outputs": [
        {
          "output_type": "execute_result",
          "data": {
            "text/html": [
              "<div>\n",
              "<style scoped>\n",
              "    .dataframe tbody tr th:only-of-type {\n",
              "        vertical-align: middle;\n",
              "    }\n",
              "\n",
              "    .dataframe tbody tr th {\n",
              "        vertical-align: top;\n",
              "    }\n",
              "\n",
              "    .dataframe thead th {\n",
              "        text-align: right;\n",
              "    }\n",
              "</style>\n",
              "<table border=\"1\" class=\"dataframe\">\n",
              "  <thead>\n",
              "    <tr style=\"text-align: right;\">\n",
              "      <th></th>\n",
              "      <th>0</th>\n",
              "      <th>1</th>\n",
              "      <th>2</th>\n",
              "      <th>3</th>\n",
              "      <th>4</th>\n",
              "    </tr>\n",
              "  </thead>\n",
              "  <tbody>\n",
              "    <tr>\n",
              "      <th>2018-01-31</th>\n",
              "      <td>0.924334</td>\n",
              "      <td>2.373019</td>\n",
              "      <td>0.084510</td>\n",
              "      <td>-1.793076</td>\n",
              "      <td>0.015928</td>\n",
              "    </tr>\n",
              "    <tr>\n",
              "      <th>2018-02-28</th>\n",
              "      <td>1.700991</td>\n",
              "      <td>-0.141361</td>\n",
              "      <td>0.417455</td>\n",
              "      <td>-1.830150</td>\n",
              "      <td>-1.673479</td>\n",
              "    </tr>\n",
              "    <tr>\n",
              "      <th>2018-03-31</th>\n",
              "      <td>0.287448</td>\n",
              "      <td>-0.504617</td>\n",
              "      <td>1.071516</td>\n",
              "      <td>-0.007838</td>\n",
              "      <td>-0.856246</td>\n",
              "    </tr>\n",
              "    <tr>\n",
              "      <th>2018-04-30</th>\n",
              "      <td>-0.541595</td>\n",
              "      <td>-0.263420</td>\n",
              "      <td>0.852669</td>\n",
              "      <td>-0.684682</td>\n",
              "      <td>-1.790072</td>\n",
              "    </tr>\n",
              "    <tr>\n",
              "      <th>2018-05-31</th>\n",
              "      <td>-0.803742</td>\n",
              "      <td>-0.550122</td>\n",
              "      <td>0.439037</td>\n",
              "      <td>-0.116001</td>\n",
              "      <td>-0.113159</td>\n",
              "    </tr>\n",
              "    <tr>\n",
              "      <th>2018-06-30</th>\n",
              "      <td>-0.603601</td>\n",
              "      <td>-0.771889</td>\n",
              "      <td>-0.096544</td>\n",
              "      <td>0.854866</td>\n",
              "      <td>0.937097</td>\n",
              "    </tr>\n",
              "    <tr>\n",
              "      <th>2018-07-31</th>\n",
              "      <td>0.226625</td>\n",
              "      <td>-0.096433</td>\n",
              "      <td>-0.714531</td>\n",
              "      <td>0.627818</td>\n",
              "      <td>-0.342784</td>\n",
              "    </tr>\n",
              "    <tr>\n",
              "      <th>2018-08-31</th>\n",
              "      <td>-0.013977</td>\n",
              "      <td>-0.329308</td>\n",
              "      <td>-1.727110</td>\n",
              "      <td>-0.379066</td>\n",
              "      <td>0.900914</td>\n",
              "    </tr>\n",
              "    <tr>\n",
              "      <th>2018-09-30</th>\n",
              "      <td>-0.138706</td>\n",
              "      <td>1.334230</td>\n",
              "      <td>0.688062</td>\n",
              "      <td>0.775699</td>\n",
              "      <td>1.290359</td>\n",
              "    </tr>\n",
              "    <tr>\n",
              "      <th>2018-10-31</th>\n",
              "      <td>-2.099791</td>\n",
              "      <td>-0.359505</td>\n",
              "      <td>1.048277</td>\n",
              "      <td>0.749671</td>\n",
              "      <td>-0.441162</td>\n",
              "    </tr>\n",
              "    <tr>\n",
              "      <th>2018-11-30</th>\n",
              "      <td>1.485751</td>\n",
              "      <td>-0.024461</td>\n",
              "      <td>0.700730</td>\n",
              "      <td>-0.046594</td>\n",
              "      <td>0.577477</td>\n",
              "    </tr>\n",
              "    <tr>\n",
              "      <th>2018-12-31</th>\n",
              "      <td>-0.482521</td>\n",
              "      <td>-1.222363</td>\n",
              "      <td>-0.706569</td>\n",
              "      <td>-0.956208</td>\n",
              "      <td>1.824428</td>\n",
              "    </tr>\n",
              "    <tr>\n",
              "      <th>2019-01-31</th>\n",
              "      <td>-1.132688</td>\n",
              "      <td>0.766750</td>\n",
              "      <td>2.362688</td>\n",
              "      <td>-1.013150</td>\n",
              "      <td>-1.420696</td>\n",
              "    </tr>\n",
              "    <tr>\n",
              "      <th>2019-02-28</th>\n",
              "      <td>-0.457394</td>\n",
              "      <td>-0.095779</td>\n",
              "      <td>0.158086</td>\n",
              "      <td>1.022052</td>\n",
              "      <td>-1.076401</td>\n",
              "    </tr>\n",
              "    <tr>\n",
              "      <th>2019-03-31</th>\n",
              "      <td>-0.859808</td>\n",
              "      <td>-1.733149</td>\n",
              "      <td>-0.255291</td>\n",
              "      <td>0.126108</td>\n",
              "      <td>-0.417115</td>\n",
              "    </tr>\n",
              "    <tr>\n",
              "      <th>2019-04-30</th>\n",
              "      <td>0.257840</td>\n",
              "      <td>0.182181</td>\n",
              "      <td>-1.481908</td>\n",
              "      <td>1.077847</td>\n",
              "      <td>-2.036567</td>\n",
              "    </tr>\n",
              "    <tr>\n",
              "      <th>2019-05-31</th>\n",
              "      <td>-0.467208</td>\n",
              "      <td>-2.047877</td>\n",
              "      <td>0.252765</td>\n",
              "      <td>0.626922</td>\n",
              "      <td>0.997815</td>\n",
              "    </tr>\n",
              "    <tr>\n",
              "      <th>2019-06-30</th>\n",
              "      <td>0.819367</td>\n",
              "      <td>-0.535961</td>\n",
              "      <td>0.249420</td>\n",
              "      <td>0.700894</td>\n",
              "      <td>0.597025</td>\n",
              "    </tr>\n",
              "    <tr>\n",
              "      <th>2019-07-31</th>\n",
              "      <td>-0.831044</td>\n",
              "      <td>-1.340895</td>\n",
              "      <td>-1.061263</td>\n",
              "      <td>0.908495</td>\n",
              "      <td>2.113208</td>\n",
              "    </tr>\n",
              "    <tr>\n",
              "      <th>2019-08-31</th>\n",
              "      <td>1.217463</td>\n",
              "      <td>1.970455</td>\n",
              "      <td>1.372275</td>\n",
              "      <td>0.631709</td>\n",
              "      <td>2.390311</td>\n",
              "    </tr>\n",
              "    <tr>\n",
              "      <th>2019-09-30</th>\n",
              "      <td>-0.569887</td>\n",
              "      <td>-0.024639</td>\n",
              "      <td>2.458228</td>\n",
              "      <td>-1.615670</td>\n",
              "      <td>1.650707</td>\n",
              "    </tr>\n",
              "    <tr>\n",
              "      <th>2019-10-31</th>\n",
              "      <td>-1.985039</td>\n",
              "      <td>0.463360</td>\n",
              "      <td>-0.303084</td>\n",
              "      <td>-0.757431</td>\n",
              "      <td>0.631060</td>\n",
              "    </tr>\n",
              "    <tr>\n",
              "      <th>2019-11-30</th>\n",
              "      <td>-0.115772</td>\n",
              "      <td>0.699088</td>\n",
              "      <td>0.276628</td>\n",
              "      <td>0.634900</td>\n",
              "      <td>0.250129</td>\n",
              "    </tr>\n",
              "    <tr>\n",
              "      <th>2019-12-31</th>\n",
              "      <td>-0.886616</td>\n",
              "      <td>-0.175395</td>\n",
              "      <td>0.562980</td>\n",
              "      <td>0.379264</td>\n",
              "      <td>-0.346291</td>\n",
              "    </tr>\n",
              "    <tr>\n",
              "      <th>2020-01-31</th>\n",
              "      <td>-1.241094</td>\n",
              "      <td>-0.926412</td>\n",
              "      <td>2.381201</td>\n",
              "      <td>2.342383</td>\n",
              "      <td>-0.062782</td>\n",
              "    </tr>\n",
              "    <tr>\n",
              "      <th>2020-02-29</th>\n",
              "      <td>2.563384</td>\n",
              "      <td>0.786133</td>\n",
              "      <td>-0.155751</td>\n",
              "      <td>-0.653551</td>\n",
              "      <td>-0.215280</td>\n",
              "    </tr>\n",
              "    <tr>\n",
              "      <th>2020-03-31</th>\n",
              "      <td>-0.100726</td>\n",
              "      <td>-1.064335</td>\n",
              "      <td>0.410842</td>\n",
              "      <td>1.348125</td>\n",
              "      <td>0.235971</td>\n",
              "    </tr>\n",
              "    <tr>\n",
              "      <th>2020-04-30</th>\n",
              "      <td>0.173443</td>\n",
              "      <td>-0.185074</td>\n",
              "      <td>0.002055</td>\n",
              "      <td>-0.387699</td>\n",
              "      <td>0.805626</td>\n",
              "    </tr>\n",
              "    <tr>\n",
              "      <th>2020-05-31</th>\n",
              "      <td>-0.178979</td>\n",
              "      <td>0.885581</td>\n",
              "      <td>-1.136477</td>\n",
              "      <td>1.184491</td>\n",
              "      <td>0.546248</td>\n",
              "    </tr>\n",
              "    <tr>\n",
              "      <th>2020-06-30</th>\n",
              "      <td>-0.206297</td>\n",
              "      <td>0.819910</td>\n",
              "      <td>1.150467</td>\n",
              "      <td>-0.448355</td>\n",
              "      <td>0.466514</td>\n",
              "    </tr>\n",
              "  </tbody>\n",
              "</table>\n",
              "</div>"
            ],
            "text/plain": [
              "                   0         1         2         3         4\n",
              "2018-01-31  0.924334  2.373019  0.084510 -1.793076  0.015928\n",
              "2018-02-28  1.700991 -0.141361  0.417455 -1.830150 -1.673479\n",
              "2018-03-31  0.287448 -0.504617  1.071516 -0.007838 -0.856246\n",
              "2018-04-30 -0.541595 -0.263420  0.852669 -0.684682 -1.790072\n",
              "2018-05-31 -0.803742 -0.550122  0.439037 -0.116001 -0.113159\n",
              "2018-06-30 -0.603601 -0.771889 -0.096544  0.854866  0.937097\n",
              "2018-07-31  0.226625 -0.096433 -0.714531  0.627818 -0.342784\n",
              "2018-08-31 -0.013977 -0.329308 -1.727110 -0.379066  0.900914\n",
              "2018-09-30 -0.138706  1.334230  0.688062  0.775699  1.290359\n",
              "2018-10-31 -2.099791 -0.359505  1.048277  0.749671 -0.441162\n",
              "2018-11-30  1.485751 -0.024461  0.700730 -0.046594  0.577477\n",
              "2018-12-31 -0.482521 -1.222363 -0.706569 -0.956208  1.824428\n",
              "2019-01-31 -1.132688  0.766750  2.362688 -1.013150 -1.420696\n",
              "2019-02-28 -0.457394 -0.095779  0.158086  1.022052 -1.076401\n",
              "2019-03-31 -0.859808 -1.733149 -0.255291  0.126108 -0.417115\n",
              "2019-04-30  0.257840  0.182181 -1.481908  1.077847 -2.036567\n",
              "2019-05-31 -0.467208 -2.047877  0.252765  0.626922  0.997815\n",
              "2019-06-30  0.819367 -0.535961  0.249420  0.700894  0.597025\n",
              "2019-07-31 -0.831044 -1.340895 -1.061263  0.908495  2.113208\n",
              "2019-08-31  1.217463  1.970455  1.372275  0.631709  2.390311\n",
              "2019-09-30 -0.569887 -0.024639  2.458228 -1.615670  1.650707\n",
              "2019-10-31 -1.985039  0.463360 -0.303084 -0.757431  0.631060\n",
              "2019-11-30 -0.115772  0.699088  0.276628  0.634900  0.250129\n",
              "2019-12-31 -0.886616 -0.175395  0.562980  0.379264 -0.346291\n",
              "2020-01-31 -1.241094 -0.926412  2.381201  2.342383 -0.062782\n",
              "2020-02-29  2.563384  0.786133 -0.155751 -0.653551 -0.215280\n",
              "2020-03-31 -0.100726 -1.064335  0.410842  1.348125  0.235971\n",
              "2020-04-30  0.173443 -0.185074  0.002055 -0.387699  0.805626\n",
              "2020-05-31 -0.178979  0.885581 -1.136477  1.184491  0.546248\n",
              "2020-06-30 -0.206297  0.819910  1.150467 -0.448355  0.466514"
            ]
          },
          "metadata": {
            "tags": []
          },
          "execution_count": 65
        }
      ]
    },
    {
      "cell_type": "markdown",
      "metadata": {
        "id": "f9x-9ZFa26rC",
        "colab_type": "text"
      },
      "source": [
        "Agregando una columna de provincias"
      ]
    },
    {
      "cell_type": "code",
      "metadata": {
        "id": "P1IHm_x826rC",
        "colab_type": "code",
        "colab": {
          "base_uri": "https://localhost:8080/",
          "height": 935
        },
        "outputId": "ded037bf-6744-4683-8164-2aadd2b02e52"
      },
      "source": [
        "df['provincia'] = ['Pichincha', 'Guayas' , 'Azuay'] * 10\n",
        "df"
      ],
      "execution_count": 66,
      "outputs": [
        {
          "output_type": "execute_result",
          "data": {
            "text/html": [
              "<div>\n",
              "<style scoped>\n",
              "    .dataframe tbody tr th:only-of-type {\n",
              "        vertical-align: middle;\n",
              "    }\n",
              "\n",
              "    .dataframe tbody tr th {\n",
              "        vertical-align: top;\n",
              "    }\n",
              "\n",
              "    .dataframe thead th {\n",
              "        text-align: right;\n",
              "    }\n",
              "</style>\n",
              "<table border=\"1\" class=\"dataframe\">\n",
              "  <thead>\n",
              "    <tr style=\"text-align: right;\">\n",
              "      <th></th>\n",
              "      <th>0</th>\n",
              "      <th>1</th>\n",
              "      <th>2</th>\n",
              "      <th>3</th>\n",
              "      <th>4</th>\n",
              "      <th>provincia</th>\n",
              "    </tr>\n",
              "  </thead>\n",
              "  <tbody>\n",
              "    <tr>\n",
              "      <th>2018-01-31</th>\n",
              "      <td>0.924334</td>\n",
              "      <td>2.373019</td>\n",
              "      <td>0.084510</td>\n",
              "      <td>-1.793076</td>\n",
              "      <td>0.015928</td>\n",
              "      <td>Pichincha</td>\n",
              "    </tr>\n",
              "    <tr>\n",
              "      <th>2018-02-28</th>\n",
              "      <td>1.700991</td>\n",
              "      <td>-0.141361</td>\n",
              "      <td>0.417455</td>\n",
              "      <td>-1.830150</td>\n",
              "      <td>-1.673479</td>\n",
              "      <td>Guayas</td>\n",
              "    </tr>\n",
              "    <tr>\n",
              "      <th>2018-03-31</th>\n",
              "      <td>0.287448</td>\n",
              "      <td>-0.504617</td>\n",
              "      <td>1.071516</td>\n",
              "      <td>-0.007838</td>\n",
              "      <td>-0.856246</td>\n",
              "      <td>Azuay</td>\n",
              "    </tr>\n",
              "    <tr>\n",
              "      <th>2018-04-30</th>\n",
              "      <td>-0.541595</td>\n",
              "      <td>-0.263420</td>\n",
              "      <td>0.852669</td>\n",
              "      <td>-0.684682</td>\n",
              "      <td>-1.790072</td>\n",
              "      <td>Pichincha</td>\n",
              "    </tr>\n",
              "    <tr>\n",
              "      <th>2018-05-31</th>\n",
              "      <td>-0.803742</td>\n",
              "      <td>-0.550122</td>\n",
              "      <td>0.439037</td>\n",
              "      <td>-0.116001</td>\n",
              "      <td>-0.113159</td>\n",
              "      <td>Guayas</td>\n",
              "    </tr>\n",
              "    <tr>\n",
              "      <th>2018-06-30</th>\n",
              "      <td>-0.603601</td>\n",
              "      <td>-0.771889</td>\n",
              "      <td>-0.096544</td>\n",
              "      <td>0.854866</td>\n",
              "      <td>0.937097</td>\n",
              "      <td>Azuay</td>\n",
              "    </tr>\n",
              "    <tr>\n",
              "      <th>2018-07-31</th>\n",
              "      <td>0.226625</td>\n",
              "      <td>-0.096433</td>\n",
              "      <td>-0.714531</td>\n",
              "      <td>0.627818</td>\n",
              "      <td>-0.342784</td>\n",
              "      <td>Pichincha</td>\n",
              "    </tr>\n",
              "    <tr>\n",
              "      <th>2018-08-31</th>\n",
              "      <td>-0.013977</td>\n",
              "      <td>-0.329308</td>\n",
              "      <td>-1.727110</td>\n",
              "      <td>-0.379066</td>\n",
              "      <td>0.900914</td>\n",
              "      <td>Guayas</td>\n",
              "    </tr>\n",
              "    <tr>\n",
              "      <th>2018-09-30</th>\n",
              "      <td>-0.138706</td>\n",
              "      <td>1.334230</td>\n",
              "      <td>0.688062</td>\n",
              "      <td>0.775699</td>\n",
              "      <td>1.290359</td>\n",
              "      <td>Azuay</td>\n",
              "    </tr>\n",
              "    <tr>\n",
              "      <th>2018-10-31</th>\n",
              "      <td>-2.099791</td>\n",
              "      <td>-0.359505</td>\n",
              "      <td>1.048277</td>\n",
              "      <td>0.749671</td>\n",
              "      <td>-0.441162</td>\n",
              "      <td>Pichincha</td>\n",
              "    </tr>\n",
              "    <tr>\n",
              "      <th>2018-11-30</th>\n",
              "      <td>1.485751</td>\n",
              "      <td>-0.024461</td>\n",
              "      <td>0.700730</td>\n",
              "      <td>-0.046594</td>\n",
              "      <td>0.577477</td>\n",
              "      <td>Guayas</td>\n",
              "    </tr>\n",
              "    <tr>\n",
              "      <th>2018-12-31</th>\n",
              "      <td>-0.482521</td>\n",
              "      <td>-1.222363</td>\n",
              "      <td>-0.706569</td>\n",
              "      <td>-0.956208</td>\n",
              "      <td>1.824428</td>\n",
              "      <td>Azuay</td>\n",
              "    </tr>\n",
              "    <tr>\n",
              "      <th>2019-01-31</th>\n",
              "      <td>-1.132688</td>\n",
              "      <td>0.766750</td>\n",
              "      <td>2.362688</td>\n",
              "      <td>-1.013150</td>\n",
              "      <td>-1.420696</td>\n",
              "      <td>Pichincha</td>\n",
              "    </tr>\n",
              "    <tr>\n",
              "      <th>2019-02-28</th>\n",
              "      <td>-0.457394</td>\n",
              "      <td>-0.095779</td>\n",
              "      <td>0.158086</td>\n",
              "      <td>1.022052</td>\n",
              "      <td>-1.076401</td>\n",
              "      <td>Guayas</td>\n",
              "    </tr>\n",
              "    <tr>\n",
              "      <th>2019-03-31</th>\n",
              "      <td>-0.859808</td>\n",
              "      <td>-1.733149</td>\n",
              "      <td>-0.255291</td>\n",
              "      <td>0.126108</td>\n",
              "      <td>-0.417115</td>\n",
              "      <td>Azuay</td>\n",
              "    </tr>\n",
              "    <tr>\n",
              "      <th>2019-04-30</th>\n",
              "      <td>0.257840</td>\n",
              "      <td>0.182181</td>\n",
              "      <td>-1.481908</td>\n",
              "      <td>1.077847</td>\n",
              "      <td>-2.036567</td>\n",
              "      <td>Pichincha</td>\n",
              "    </tr>\n",
              "    <tr>\n",
              "      <th>2019-05-31</th>\n",
              "      <td>-0.467208</td>\n",
              "      <td>-2.047877</td>\n",
              "      <td>0.252765</td>\n",
              "      <td>0.626922</td>\n",
              "      <td>0.997815</td>\n",
              "      <td>Guayas</td>\n",
              "    </tr>\n",
              "    <tr>\n",
              "      <th>2019-06-30</th>\n",
              "      <td>0.819367</td>\n",
              "      <td>-0.535961</td>\n",
              "      <td>0.249420</td>\n",
              "      <td>0.700894</td>\n",
              "      <td>0.597025</td>\n",
              "      <td>Azuay</td>\n",
              "    </tr>\n",
              "    <tr>\n",
              "      <th>2019-07-31</th>\n",
              "      <td>-0.831044</td>\n",
              "      <td>-1.340895</td>\n",
              "      <td>-1.061263</td>\n",
              "      <td>0.908495</td>\n",
              "      <td>2.113208</td>\n",
              "      <td>Pichincha</td>\n",
              "    </tr>\n",
              "    <tr>\n",
              "      <th>2019-08-31</th>\n",
              "      <td>1.217463</td>\n",
              "      <td>1.970455</td>\n",
              "      <td>1.372275</td>\n",
              "      <td>0.631709</td>\n",
              "      <td>2.390311</td>\n",
              "      <td>Guayas</td>\n",
              "    </tr>\n",
              "    <tr>\n",
              "      <th>2019-09-30</th>\n",
              "      <td>-0.569887</td>\n",
              "      <td>-0.024639</td>\n",
              "      <td>2.458228</td>\n",
              "      <td>-1.615670</td>\n",
              "      <td>1.650707</td>\n",
              "      <td>Azuay</td>\n",
              "    </tr>\n",
              "    <tr>\n",
              "      <th>2019-10-31</th>\n",
              "      <td>-1.985039</td>\n",
              "      <td>0.463360</td>\n",
              "      <td>-0.303084</td>\n",
              "      <td>-0.757431</td>\n",
              "      <td>0.631060</td>\n",
              "      <td>Pichincha</td>\n",
              "    </tr>\n",
              "    <tr>\n",
              "      <th>2019-11-30</th>\n",
              "      <td>-0.115772</td>\n",
              "      <td>0.699088</td>\n",
              "      <td>0.276628</td>\n",
              "      <td>0.634900</td>\n",
              "      <td>0.250129</td>\n",
              "      <td>Guayas</td>\n",
              "    </tr>\n",
              "    <tr>\n",
              "      <th>2019-12-31</th>\n",
              "      <td>-0.886616</td>\n",
              "      <td>-0.175395</td>\n",
              "      <td>0.562980</td>\n",
              "      <td>0.379264</td>\n",
              "      <td>-0.346291</td>\n",
              "      <td>Azuay</td>\n",
              "    </tr>\n",
              "    <tr>\n",
              "      <th>2020-01-31</th>\n",
              "      <td>-1.241094</td>\n",
              "      <td>-0.926412</td>\n",
              "      <td>2.381201</td>\n",
              "      <td>2.342383</td>\n",
              "      <td>-0.062782</td>\n",
              "      <td>Pichincha</td>\n",
              "    </tr>\n",
              "    <tr>\n",
              "      <th>2020-02-29</th>\n",
              "      <td>2.563384</td>\n",
              "      <td>0.786133</td>\n",
              "      <td>-0.155751</td>\n",
              "      <td>-0.653551</td>\n",
              "      <td>-0.215280</td>\n",
              "      <td>Guayas</td>\n",
              "    </tr>\n",
              "    <tr>\n",
              "      <th>2020-03-31</th>\n",
              "      <td>-0.100726</td>\n",
              "      <td>-1.064335</td>\n",
              "      <td>0.410842</td>\n",
              "      <td>1.348125</td>\n",
              "      <td>0.235971</td>\n",
              "      <td>Azuay</td>\n",
              "    </tr>\n",
              "    <tr>\n",
              "      <th>2020-04-30</th>\n",
              "      <td>0.173443</td>\n",
              "      <td>-0.185074</td>\n",
              "      <td>0.002055</td>\n",
              "      <td>-0.387699</td>\n",
              "      <td>0.805626</td>\n",
              "      <td>Pichincha</td>\n",
              "    </tr>\n",
              "    <tr>\n",
              "      <th>2020-05-31</th>\n",
              "      <td>-0.178979</td>\n",
              "      <td>0.885581</td>\n",
              "      <td>-1.136477</td>\n",
              "      <td>1.184491</td>\n",
              "      <td>0.546248</td>\n",
              "      <td>Guayas</td>\n",
              "    </tr>\n",
              "    <tr>\n",
              "      <th>2020-06-30</th>\n",
              "      <td>-0.206297</td>\n",
              "      <td>0.819910</td>\n",
              "      <td>1.150467</td>\n",
              "      <td>-0.448355</td>\n",
              "      <td>0.466514</td>\n",
              "      <td>Azuay</td>\n",
              "    </tr>\n",
              "  </tbody>\n",
              "</table>\n",
              "</div>"
            ],
            "text/plain": [
              "                   0         1         2         3         4  provincia\n",
              "2018-01-31  0.924334  2.373019  0.084510 -1.793076  0.015928  Pichincha\n",
              "2018-02-28  1.700991 -0.141361  0.417455 -1.830150 -1.673479     Guayas\n",
              "2018-03-31  0.287448 -0.504617  1.071516 -0.007838 -0.856246      Azuay\n",
              "2018-04-30 -0.541595 -0.263420  0.852669 -0.684682 -1.790072  Pichincha\n",
              "2018-05-31 -0.803742 -0.550122  0.439037 -0.116001 -0.113159     Guayas\n",
              "2018-06-30 -0.603601 -0.771889 -0.096544  0.854866  0.937097      Azuay\n",
              "2018-07-31  0.226625 -0.096433 -0.714531  0.627818 -0.342784  Pichincha\n",
              "2018-08-31 -0.013977 -0.329308 -1.727110 -0.379066  0.900914     Guayas\n",
              "2018-09-30 -0.138706  1.334230  0.688062  0.775699  1.290359      Azuay\n",
              "2018-10-31 -2.099791 -0.359505  1.048277  0.749671 -0.441162  Pichincha\n",
              "2018-11-30  1.485751 -0.024461  0.700730 -0.046594  0.577477     Guayas\n",
              "2018-12-31 -0.482521 -1.222363 -0.706569 -0.956208  1.824428      Azuay\n",
              "2019-01-31 -1.132688  0.766750  2.362688 -1.013150 -1.420696  Pichincha\n",
              "2019-02-28 -0.457394 -0.095779  0.158086  1.022052 -1.076401     Guayas\n",
              "2019-03-31 -0.859808 -1.733149 -0.255291  0.126108 -0.417115      Azuay\n",
              "2019-04-30  0.257840  0.182181 -1.481908  1.077847 -2.036567  Pichincha\n",
              "2019-05-31 -0.467208 -2.047877  0.252765  0.626922  0.997815     Guayas\n",
              "2019-06-30  0.819367 -0.535961  0.249420  0.700894  0.597025      Azuay\n",
              "2019-07-31 -0.831044 -1.340895 -1.061263  0.908495  2.113208  Pichincha\n",
              "2019-08-31  1.217463  1.970455  1.372275  0.631709  2.390311     Guayas\n",
              "2019-09-30 -0.569887 -0.024639  2.458228 -1.615670  1.650707      Azuay\n",
              "2019-10-31 -1.985039  0.463360 -0.303084 -0.757431  0.631060  Pichincha\n",
              "2019-11-30 -0.115772  0.699088  0.276628  0.634900  0.250129     Guayas\n",
              "2019-12-31 -0.886616 -0.175395  0.562980  0.379264 -0.346291      Azuay\n",
              "2020-01-31 -1.241094 -0.926412  2.381201  2.342383 -0.062782  Pichincha\n",
              "2020-02-29  2.563384  0.786133 -0.155751 -0.653551 -0.215280     Guayas\n",
              "2020-03-31 -0.100726 -1.064335  0.410842  1.348125  0.235971      Azuay\n",
              "2020-04-30  0.173443 -0.185074  0.002055 -0.387699  0.805626  Pichincha\n",
              "2020-05-31 -0.178979  0.885581 -1.136477  1.184491  0.546248     Guayas\n",
              "2020-06-30 -0.206297  0.819910  1.150467 -0.448355  0.466514      Azuay"
            ]
          },
          "metadata": {
            "tags": []
          },
          "execution_count": 66
        }
      ]
    },
    {
      "cell_type": "markdown",
      "metadata": {
        "id": "SKVEam3l26rF",
        "colab_type": "text"
      },
      "source": [
        "`reset_index` desplaza el índice a una columna, luego le da a las filas un índice posicional"
      ]
    },
    {
      "cell_type": "code",
      "metadata": {
        "id": "VJiP0ifY26rF",
        "colab_type": "code",
        "colab": {}
      },
      "source": [
        "df = df.reset_index()"
      ],
      "execution_count": 67,
      "outputs": []
    },
    {
      "cell_type": "code",
      "metadata": {
        "id": "AMXZV8ZN26rG",
        "colab_type": "code",
        "colab": {
          "base_uri": "https://localhost:8080/",
          "height": 935
        },
        "outputId": "36f92278-9103-4df3-e335-4f36c8f76c66"
      },
      "source": [
        "df"
      ],
      "execution_count": 68,
      "outputs": [
        {
          "output_type": "execute_result",
          "data": {
            "text/html": [
              "<div>\n",
              "<style scoped>\n",
              "    .dataframe tbody tr th:only-of-type {\n",
              "        vertical-align: middle;\n",
              "    }\n",
              "\n",
              "    .dataframe tbody tr th {\n",
              "        vertical-align: top;\n",
              "    }\n",
              "\n",
              "    .dataframe thead th {\n",
              "        text-align: right;\n",
              "    }\n",
              "</style>\n",
              "<table border=\"1\" class=\"dataframe\">\n",
              "  <thead>\n",
              "    <tr style=\"text-align: right;\">\n",
              "      <th></th>\n",
              "      <th>index</th>\n",
              "      <th>0</th>\n",
              "      <th>1</th>\n",
              "      <th>2</th>\n",
              "      <th>3</th>\n",
              "      <th>4</th>\n",
              "      <th>provincia</th>\n",
              "    </tr>\n",
              "  </thead>\n",
              "  <tbody>\n",
              "    <tr>\n",
              "      <th>0</th>\n",
              "      <td>2018-01-31</td>\n",
              "      <td>0.924334</td>\n",
              "      <td>2.373019</td>\n",
              "      <td>0.084510</td>\n",
              "      <td>-1.793076</td>\n",
              "      <td>0.015928</td>\n",
              "      <td>Pichincha</td>\n",
              "    </tr>\n",
              "    <tr>\n",
              "      <th>1</th>\n",
              "      <td>2018-02-28</td>\n",
              "      <td>1.700991</td>\n",
              "      <td>-0.141361</td>\n",
              "      <td>0.417455</td>\n",
              "      <td>-1.830150</td>\n",
              "      <td>-1.673479</td>\n",
              "      <td>Guayas</td>\n",
              "    </tr>\n",
              "    <tr>\n",
              "      <th>2</th>\n",
              "      <td>2018-03-31</td>\n",
              "      <td>0.287448</td>\n",
              "      <td>-0.504617</td>\n",
              "      <td>1.071516</td>\n",
              "      <td>-0.007838</td>\n",
              "      <td>-0.856246</td>\n",
              "      <td>Azuay</td>\n",
              "    </tr>\n",
              "    <tr>\n",
              "      <th>3</th>\n",
              "      <td>2018-04-30</td>\n",
              "      <td>-0.541595</td>\n",
              "      <td>-0.263420</td>\n",
              "      <td>0.852669</td>\n",
              "      <td>-0.684682</td>\n",
              "      <td>-1.790072</td>\n",
              "      <td>Pichincha</td>\n",
              "    </tr>\n",
              "    <tr>\n",
              "      <th>4</th>\n",
              "      <td>2018-05-31</td>\n",
              "      <td>-0.803742</td>\n",
              "      <td>-0.550122</td>\n",
              "      <td>0.439037</td>\n",
              "      <td>-0.116001</td>\n",
              "      <td>-0.113159</td>\n",
              "      <td>Guayas</td>\n",
              "    </tr>\n",
              "    <tr>\n",
              "      <th>5</th>\n",
              "      <td>2018-06-30</td>\n",
              "      <td>-0.603601</td>\n",
              "      <td>-0.771889</td>\n",
              "      <td>-0.096544</td>\n",
              "      <td>0.854866</td>\n",
              "      <td>0.937097</td>\n",
              "      <td>Azuay</td>\n",
              "    </tr>\n",
              "    <tr>\n",
              "      <th>6</th>\n",
              "      <td>2018-07-31</td>\n",
              "      <td>0.226625</td>\n",
              "      <td>-0.096433</td>\n",
              "      <td>-0.714531</td>\n",
              "      <td>0.627818</td>\n",
              "      <td>-0.342784</td>\n",
              "      <td>Pichincha</td>\n",
              "    </tr>\n",
              "    <tr>\n",
              "      <th>7</th>\n",
              "      <td>2018-08-31</td>\n",
              "      <td>-0.013977</td>\n",
              "      <td>-0.329308</td>\n",
              "      <td>-1.727110</td>\n",
              "      <td>-0.379066</td>\n",
              "      <td>0.900914</td>\n",
              "      <td>Guayas</td>\n",
              "    </tr>\n",
              "    <tr>\n",
              "      <th>8</th>\n",
              "      <td>2018-09-30</td>\n",
              "      <td>-0.138706</td>\n",
              "      <td>1.334230</td>\n",
              "      <td>0.688062</td>\n",
              "      <td>0.775699</td>\n",
              "      <td>1.290359</td>\n",
              "      <td>Azuay</td>\n",
              "    </tr>\n",
              "    <tr>\n",
              "      <th>9</th>\n",
              "      <td>2018-10-31</td>\n",
              "      <td>-2.099791</td>\n",
              "      <td>-0.359505</td>\n",
              "      <td>1.048277</td>\n",
              "      <td>0.749671</td>\n",
              "      <td>-0.441162</td>\n",
              "      <td>Pichincha</td>\n",
              "    </tr>\n",
              "    <tr>\n",
              "      <th>10</th>\n",
              "      <td>2018-11-30</td>\n",
              "      <td>1.485751</td>\n",
              "      <td>-0.024461</td>\n",
              "      <td>0.700730</td>\n",
              "      <td>-0.046594</td>\n",
              "      <td>0.577477</td>\n",
              "      <td>Guayas</td>\n",
              "    </tr>\n",
              "    <tr>\n",
              "      <th>11</th>\n",
              "      <td>2018-12-31</td>\n",
              "      <td>-0.482521</td>\n",
              "      <td>-1.222363</td>\n",
              "      <td>-0.706569</td>\n",
              "      <td>-0.956208</td>\n",
              "      <td>1.824428</td>\n",
              "      <td>Azuay</td>\n",
              "    </tr>\n",
              "    <tr>\n",
              "      <th>12</th>\n",
              "      <td>2019-01-31</td>\n",
              "      <td>-1.132688</td>\n",
              "      <td>0.766750</td>\n",
              "      <td>2.362688</td>\n",
              "      <td>-1.013150</td>\n",
              "      <td>-1.420696</td>\n",
              "      <td>Pichincha</td>\n",
              "    </tr>\n",
              "    <tr>\n",
              "      <th>13</th>\n",
              "      <td>2019-02-28</td>\n",
              "      <td>-0.457394</td>\n",
              "      <td>-0.095779</td>\n",
              "      <td>0.158086</td>\n",
              "      <td>1.022052</td>\n",
              "      <td>-1.076401</td>\n",
              "      <td>Guayas</td>\n",
              "    </tr>\n",
              "    <tr>\n",
              "      <th>14</th>\n",
              "      <td>2019-03-31</td>\n",
              "      <td>-0.859808</td>\n",
              "      <td>-1.733149</td>\n",
              "      <td>-0.255291</td>\n",
              "      <td>0.126108</td>\n",
              "      <td>-0.417115</td>\n",
              "      <td>Azuay</td>\n",
              "    </tr>\n",
              "    <tr>\n",
              "      <th>15</th>\n",
              "      <td>2019-04-30</td>\n",
              "      <td>0.257840</td>\n",
              "      <td>0.182181</td>\n",
              "      <td>-1.481908</td>\n",
              "      <td>1.077847</td>\n",
              "      <td>-2.036567</td>\n",
              "      <td>Pichincha</td>\n",
              "    </tr>\n",
              "    <tr>\n",
              "      <th>16</th>\n",
              "      <td>2019-05-31</td>\n",
              "      <td>-0.467208</td>\n",
              "      <td>-2.047877</td>\n",
              "      <td>0.252765</td>\n",
              "      <td>0.626922</td>\n",
              "      <td>0.997815</td>\n",
              "      <td>Guayas</td>\n",
              "    </tr>\n",
              "    <tr>\n",
              "      <th>17</th>\n",
              "      <td>2019-06-30</td>\n",
              "      <td>0.819367</td>\n",
              "      <td>-0.535961</td>\n",
              "      <td>0.249420</td>\n",
              "      <td>0.700894</td>\n",
              "      <td>0.597025</td>\n",
              "      <td>Azuay</td>\n",
              "    </tr>\n",
              "    <tr>\n",
              "      <th>18</th>\n",
              "      <td>2019-07-31</td>\n",
              "      <td>-0.831044</td>\n",
              "      <td>-1.340895</td>\n",
              "      <td>-1.061263</td>\n",
              "      <td>0.908495</td>\n",
              "      <td>2.113208</td>\n",
              "      <td>Pichincha</td>\n",
              "    </tr>\n",
              "    <tr>\n",
              "      <th>19</th>\n",
              "      <td>2019-08-31</td>\n",
              "      <td>1.217463</td>\n",
              "      <td>1.970455</td>\n",
              "      <td>1.372275</td>\n",
              "      <td>0.631709</td>\n",
              "      <td>2.390311</td>\n",
              "      <td>Guayas</td>\n",
              "    </tr>\n",
              "    <tr>\n",
              "      <th>20</th>\n",
              "      <td>2019-09-30</td>\n",
              "      <td>-0.569887</td>\n",
              "      <td>-0.024639</td>\n",
              "      <td>2.458228</td>\n",
              "      <td>-1.615670</td>\n",
              "      <td>1.650707</td>\n",
              "      <td>Azuay</td>\n",
              "    </tr>\n",
              "    <tr>\n",
              "      <th>21</th>\n",
              "      <td>2019-10-31</td>\n",
              "      <td>-1.985039</td>\n",
              "      <td>0.463360</td>\n",
              "      <td>-0.303084</td>\n",
              "      <td>-0.757431</td>\n",
              "      <td>0.631060</td>\n",
              "      <td>Pichincha</td>\n",
              "    </tr>\n",
              "    <tr>\n",
              "      <th>22</th>\n",
              "      <td>2019-11-30</td>\n",
              "      <td>-0.115772</td>\n",
              "      <td>0.699088</td>\n",
              "      <td>0.276628</td>\n",
              "      <td>0.634900</td>\n",
              "      <td>0.250129</td>\n",
              "      <td>Guayas</td>\n",
              "    </tr>\n",
              "    <tr>\n",
              "      <th>23</th>\n",
              "      <td>2019-12-31</td>\n",
              "      <td>-0.886616</td>\n",
              "      <td>-0.175395</td>\n",
              "      <td>0.562980</td>\n",
              "      <td>0.379264</td>\n",
              "      <td>-0.346291</td>\n",
              "      <td>Azuay</td>\n",
              "    </tr>\n",
              "    <tr>\n",
              "      <th>24</th>\n",
              "      <td>2020-01-31</td>\n",
              "      <td>-1.241094</td>\n",
              "      <td>-0.926412</td>\n",
              "      <td>2.381201</td>\n",
              "      <td>2.342383</td>\n",
              "      <td>-0.062782</td>\n",
              "      <td>Pichincha</td>\n",
              "    </tr>\n",
              "    <tr>\n",
              "      <th>25</th>\n",
              "      <td>2020-02-29</td>\n",
              "      <td>2.563384</td>\n",
              "      <td>0.786133</td>\n",
              "      <td>-0.155751</td>\n",
              "      <td>-0.653551</td>\n",
              "      <td>-0.215280</td>\n",
              "      <td>Guayas</td>\n",
              "    </tr>\n",
              "    <tr>\n",
              "      <th>26</th>\n",
              "      <td>2020-03-31</td>\n",
              "      <td>-0.100726</td>\n",
              "      <td>-1.064335</td>\n",
              "      <td>0.410842</td>\n",
              "      <td>1.348125</td>\n",
              "      <td>0.235971</td>\n",
              "      <td>Azuay</td>\n",
              "    </tr>\n",
              "    <tr>\n",
              "      <th>27</th>\n",
              "      <td>2020-04-30</td>\n",
              "      <td>0.173443</td>\n",
              "      <td>-0.185074</td>\n",
              "      <td>0.002055</td>\n",
              "      <td>-0.387699</td>\n",
              "      <td>0.805626</td>\n",
              "      <td>Pichincha</td>\n",
              "    </tr>\n",
              "    <tr>\n",
              "      <th>28</th>\n",
              "      <td>2020-05-31</td>\n",
              "      <td>-0.178979</td>\n",
              "      <td>0.885581</td>\n",
              "      <td>-1.136477</td>\n",
              "      <td>1.184491</td>\n",
              "      <td>0.546248</td>\n",
              "      <td>Guayas</td>\n",
              "    </tr>\n",
              "    <tr>\n",
              "      <th>29</th>\n",
              "      <td>2020-06-30</td>\n",
              "      <td>-0.206297</td>\n",
              "      <td>0.819910</td>\n",
              "      <td>1.150467</td>\n",
              "      <td>-0.448355</td>\n",
              "      <td>0.466514</td>\n",
              "      <td>Azuay</td>\n",
              "    </tr>\n",
              "  </tbody>\n",
              "</table>\n",
              "</div>"
            ],
            "text/plain": [
              "        index         0         1         2         3         4  provincia\n",
              "0  2018-01-31  0.924334  2.373019  0.084510 -1.793076  0.015928  Pichincha\n",
              "1  2018-02-28  1.700991 -0.141361  0.417455 -1.830150 -1.673479     Guayas\n",
              "2  2018-03-31  0.287448 -0.504617  1.071516 -0.007838 -0.856246      Azuay\n",
              "3  2018-04-30 -0.541595 -0.263420  0.852669 -0.684682 -1.790072  Pichincha\n",
              "4  2018-05-31 -0.803742 -0.550122  0.439037 -0.116001 -0.113159     Guayas\n",
              "5  2018-06-30 -0.603601 -0.771889 -0.096544  0.854866  0.937097      Azuay\n",
              "6  2018-07-31  0.226625 -0.096433 -0.714531  0.627818 -0.342784  Pichincha\n",
              "7  2018-08-31 -0.013977 -0.329308 -1.727110 -0.379066  0.900914     Guayas\n",
              "8  2018-09-30 -0.138706  1.334230  0.688062  0.775699  1.290359      Azuay\n",
              "9  2018-10-31 -2.099791 -0.359505  1.048277  0.749671 -0.441162  Pichincha\n",
              "10 2018-11-30  1.485751 -0.024461  0.700730 -0.046594  0.577477     Guayas\n",
              "11 2018-12-31 -0.482521 -1.222363 -0.706569 -0.956208  1.824428      Azuay\n",
              "12 2019-01-31 -1.132688  0.766750  2.362688 -1.013150 -1.420696  Pichincha\n",
              "13 2019-02-28 -0.457394 -0.095779  0.158086  1.022052 -1.076401     Guayas\n",
              "14 2019-03-31 -0.859808 -1.733149 -0.255291  0.126108 -0.417115      Azuay\n",
              "15 2019-04-30  0.257840  0.182181 -1.481908  1.077847 -2.036567  Pichincha\n",
              "16 2019-05-31 -0.467208 -2.047877  0.252765  0.626922  0.997815     Guayas\n",
              "17 2019-06-30  0.819367 -0.535961  0.249420  0.700894  0.597025      Azuay\n",
              "18 2019-07-31 -0.831044 -1.340895 -1.061263  0.908495  2.113208  Pichincha\n",
              "19 2019-08-31  1.217463  1.970455  1.372275  0.631709  2.390311     Guayas\n",
              "20 2019-09-30 -0.569887 -0.024639  2.458228 -1.615670  1.650707      Azuay\n",
              "21 2019-10-31 -1.985039  0.463360 -0.303084 -0.757431  0.631060  Pichincha\n",
              "22 2019-11-30 -0.115772  0.699088  0.276628  0.634900  0.250129     Guayas\n",
              "23 2019-12-31 -0.886616 -0.175395  0.562980  0.379264 -0.346291      Azuay\n",
              "24 2020-01-31 -1.241094 -0.926412  2.381201  2.342383 -0.062782  Pichincha\n",
              "25 2020-02-29  2.563384  0.786133 -0.155751 -0.653551 -0.215280     Guayas\n",
              "26 2020-03-31 -0.100726 -1.064335  0.410842  1.348125  0.235971      Azuay\n",
              "27 2020-04-30  0.173443 -0.185074  0.002055 -0.387699  0.805626  Pichincha\n",
              "28 2020-05-31 -0.178979  0.885581 -1.136477  1.184491  0.546248     Guayas\n",
              "29 2020-06-30 -0.206297  0.819910  1.150467 -0.448355  0.466514      Azuay"
            ]
          },
          "metadata": {
            "tags": []
          },
          "execution_count": 68
        }
      ]
    },
    {
      "cell_type": "markdown",
      "metadata": {
        "id": "af4ITySn26rH",
        "colab_type": "text"
      },
      "source": [
        "`set_index` también envia las columnas como indices"
      ]
    },
    {
      "cell_type": "code",
      "metadata": {
        "id": "BNkDqWMg26rI",
        "colab_type": "code",
        "colab": {
          "base_uri": "https://localhost:8080/",
          "height": 965
        },
        "outputId": "0d491a02-717e-462b-c479-7e0758583d0b"
      },
      "source": [
        "df = df.set_index(['provincia', 'index'])\n",
        "df"
      ],
      "execution_count": 69,
      "outputs": [
        {
          "output_type": "execute_result",
          "data": {
            "text/html": [
              "<div>\n",
              "<style scoped>\n",
              "    .dataframe tbody tr th:only-of-type {\n",
              "        vertical-align: middle;\n",
              "    }\n",
              "\n",
              "    .dataframe tbody tr th {\n",
              "        vertical-align: top;\n",
              "    }\n",
              "\n",
              "    .dataframe thead th {\n",
              "        text-align: right;\n",
              "    }\n",
              "</style>\n",
              "<table border=\"1\" class=\"dataframe\">\n",
              "  <thead>\n",
              "    <tr style=\"text-align: right;\">\n",
              "      <th></th>\n",
              "      <th></th>\n",
              "      <th>0</th>\n",
              "      <th>1</th>\n",
              "      <th>2</th>\n",
              "      <th>3</th>\n",
              "      <th>4</th>\n",
              "    </tr>\n",
              "    <tr>\n",
              "      <th>provincia</th>\n",
              "      <th>index</th>\n",
              "      <th></th>\n",
              "      <th></th>\n",
              "      <th></th>\n",
              "      <th></th>\n",
              "      <th></th>\n",
              "    </tr>\n",
              "  </thead>\n",
              "  <tbody>\n",
              "    <tr>\n",
              "      <th>Pichincha</th>\n",
              "      <th>2018-01-31</th>\n",
              "      <td>0.924334</td>\n",
              "      <td>2.373019</td>\n",
              "      <td>0.084510</td>\n",
              "      <td>-1.793076</td>\n",
              "      <td>0.015928</td>\n",
              "    </tr>\n",
              "    <tr>\n",
              "      <th>Guayas</th>\n",
              "      <th>2018-02-28</th>\n",
              "      <td>1.700991</td>\n",
              "      <td>-0.141361</td>\n",
              "      <td>0.417455</td>\n",
              "      <td>-1.830150</td>\n",
              "      <td>-1.673479</td>\n",
              "    </tr>\n",
              "    <tr>\n",
              "      <th>Azuay</th>\n",
              "      <th>2018-03-31</th>\n",
              "      <td>0.287448</td>\n",
              "      <td>-0.504617</td>\n",
              "      <td>1.071516</td>\n",
              "      <td>-0.007838</td>\n",
              "      <td>-0.856246</td>\n",
              "    </tr>\n",
              "    <tr>\n",
              "      <th>Pichincha</th>\n",
              "      <th>2018-04-30</th>\n",
              "      <td>-0.541595</td>\n",
              "      <td>-0.263420</td>\n",
              "      <td>0.852669</td>\n",
              "      <td>-0.684682</td>\n",
              "      <td>-1.790072</td>\n",
              "    </tr>\n",
              "    <tr>\n",
              "      <th>Guayas</th>\n",
              "      <th>2018-05-31</th>\n",
              "      <td>-0.803742</td>\n",
              "      <td>-0.550122</td>\n",
              "      <td>0.439037</td>\n",
              "      <td>-0.116001</td>\n",
              "      <td>-0.113159</td>\n",
              "    </tr>\n",
              "    <tr>\n",
              "      <th>Azuay</th>\n",
              "      <th>2018-06-30</th>\n",
              "      <td>-0.603601</td>\n",
              "      <td>-0.771889</td>\n",
              "      <td>-0.096544</td>\n",
              "      <td>0.854866</td>\n",
              "      <td>0.937097</td>\n",
              "    </tr>\n",
              "    <tr>\n",
              "      <th>Pichincha</th>\n",
              "      <th>2018-07-31</th>\n",
              "      <td>0.226625</td>\n",
              "      <td>-0.096433</td>\n",
              "      <td>-0.714531</td>\n",
              "      <td>0.627818</td>\n",
              "      <td>-0.342784</td>\n",
              "    </tr>\n",
              "    <tr>\n",
              "      <th>Guayas</th>\n",
              "      <th>2018-08-31</th>\n",
              "      <td>-0.013977</td>\n",
              "      <td>-0.329308</td>\n",
              "      <td>-1.727110</td>\n",
              "      <td>-0.379066</td>\n",
              "      <td>0.900914</td>\n",
              "    </tr>\n",
              "    <tr>\n",
              "      <th>Azuay</th>\n",
              "      <th>2018-09-30</th>\n",
              "      <td>-0.138706</td>\n",
              "      <td>1.334230</td>\n",
              "      <td>0.688062</td>\n",
              "      <td>0.775699</td>\n",
              "      <td>1.290359</td>\n",
              "    </tr>\n",
              "    <tr>\n",
              "      <th>Pichincha</th>\n",
              "      <th>2018-10-31</th>\n",
              "      <td>-2.099791</td>\n",
              "      <td>-0.359505</td>\n",
              "      <td>1.048277</td>\n",
              "      <td>0.749671</td>\n",
              "      <td>-0.441162</td>\n",
              "    </tr>\n",
              "    <tr>\n",
              "      <th>Guayas</th>\n",
              "      <th>2018-11-30</th>\n",
              "      <td>1.485751</td>\n",
              "      <td>-0.024461</td>\n",
              "      <td>0.700730</td>\n",
              "      <td>-0.046594</td>\n",
              "      <td>0.577477</td>\n",
              "    </tr>\n",
              "    <tr>\n",
              "      <th>Azuay</th>\n",
              "      <th>2018-12-31</th>\n",
              "      <td>-0.482521</td>\n",
              "      <td>-1.222363</td>\n",
              "      <td>-0.706569</td>\n",
              "      <td>-0.956208</td>\n",
              "      <td>1.824428</td>\n",
              "    </tr>\n",
              "    <tr>\n",
              "      <th>Pichincha</th>\n",
              "      <th>2019-01-31</th>\n",
              "      <td>-1.132688</td>\n",
              "      <td>0.766750</td>\n",
              "      <td>2.362688</td>\n",
              "      <td>-1.013150</td>\n",
              "      <td>-1.420696</td>\n",
              "    </tr>\n",
              "    <tr>\n",
              "      <th>Guayas</th>\n",
              "      <th>2019-02-28</th>\n",
              "      <td>-0.457394</td>\n",
              "      <td>-0.095779</td>\n",
              "      <td>0.158086</td>\n",
              "      <td>1.022052</td>\n",
              "      <td>-1.076401</td>\n",
              "    </tr>\n",
              "    <tr>\n",
              "      <th>Azuay</th>\n",
              "      <th>2019-03-31</th>\n",
              "      <td>-0.859808</td>\n",
              "      <td>-1.733149</td>\n",
              "      <td>-0.255291</td>\n",
              "      <td>0.126108</td>\n",
              "      <td>-0.417115</td>\n",
              "    </tr>\n",
              "    <tr>\n",
              "      <th>Pichincha</th>\n",
              "      <th>2019-04-30</th>\n",
              "      <td>0.257840</td>\n",
              "      <td>0.182181</td>\n",
              "      <td>-1.481908</td>\n",
              "      <td>1.077847</td>\n",
              "      <td>-2.036567</td>\n",
              "    </tr>\n",
              "    <tr>\n",
              "      <th>Guayas</th>\n",
              "      <th>2019-05-31</th>\n",
              "      <td>-0.467208</td>\n",
              "      <td>-2.047877</td>\n",
              "      <td>0.252765</td>\n",
              "      <td>0.626922</td>\n",
              "      <td>0.997815</td>\n",
              "    </tr>\n",
              "    <tr>\n",
              "      <th>Azuay</th>\n",
              "      <th>2019-06-30</th>\n",
              "      <td>0.819367</td>\n",
              "      <td>-0.535961</td>\n",
              "      <td>0.249420</td>\n",
              "      <td>0.700894</td>\n",
              "      <td>0.597025</td>\n",
              "    </tr>\n",
              "    <tr>\n",
              "      <th>Pichincha</th>\n",
              "      <th>2019-07-31</th>\n",
              "      <td>-0.831044</td>\n",
              "      <td>-1.340895</td>\n",
              "      <td>-1.061263</td>\n",
              "      <td>0.908495</td>\n",
              "      <td>2.113208</td>\n",
              "    </tr>\n",
              "    <tr>\n",
              "      <th>Guayas</th>\n",
              "      <th>2019-08-31</th>\n",
              "      <td>1.217463</td>\n",
              "      <td>1.970455</td>\n",
              "      <td>1.372275</td>\n",
              "      <td>0.631709</td>\n",
              "      <td>2.390311</td>\n",
              "    </tr>\n",
              "    <tr>\n",
              "      <th>Azuay</th>\n",
              "      <th>2019-09-30</th>\n",
              "      <td>-0.569887</td>\n",
              "      <td>-0.024639</td>\n",
              "      <td>2.458228</td>\n",
              "      <td>-1.615670</td>\n",
              "      <td>1.650707</td>\n",
              "    </tr>\n",
              "    <tr>\n",
              "      <th>Pichincha</th>\n",
              "      <th>2019-10-31</th>\n",
              "      <td>-1.985039</td>\n",
              "      <td>0.463360</td>\n",
              "      <td>-0.303084</td>\n",
              "      <td>-0.757431</td>\n",
              "      <td>0.631060</td>\n",
              "    </tr>\n",
              "    <tr>\n",
              "      <th>Guayas</th>\n",
              "      <th>2019-11-30</th>\n",
              "      <td>-0.115772</td>\n",
              "      <td>0.699088</td>\n",
              "      <td>0.276628</td>\n",
              "      <td>0.634900</td>\n",
              "      <td>0.250129</td>\n",
              "    </tr>\n",
              "    <tr>\n",
              "      <th>Azuay</th>\n",
              "      <th>2019-12-31</th>\n",
              "      <td>-0.886616</td>\n",
              "      <td>-0.175395</td>\n",
              "      <td>0.562980</td>\n",
              "      <td>0.379264</td>\n",
              "      <td>-0.346291</td>\n",
              "    </tr>\n",
              "    <tr>\n",
              "      <th>Pichincha</th>\n",
              "      <th>2020-01-31</th>\n",
              "      <td>-1.241094</td>\n",
              "      <td>-0.926412</td>\n",
              "      <td>2.381201</td>\n",
              "      <td>2.342383</td>\n",
              "      <td>-0.062782</td>\n",
              "    </tr>\n",
              "    <tr>\n",
              "      <th>Guayas</th>\n",
              "      <th>2020-02-29</th>\n",
              "      <td>2.563384</td>\n",
              "      <td>0.786133</td>\n",
              "      <td>-0.155751</td>\n",
              "      <td>-0.653551</td>\n",
              "      <td>-0.215280</td>\n",
              "    </tr>\n",
              "    <tr>\n",
              "      <th>Azuay</th>\n",
              "      <th>2020-03-31</th>\n",
              "      <td>-0.100726</td>\n",
              "      <td>-1.064335</td>\n",
              "      <td>0.410842</td>\n",
              "      <td>1.348125</td>\n",
              "      <td>0.235971</td>\n",
              "    </tr>\n",
              "    <tr>\n",
              "      <th>Pichincha</th>\n",
              "      <th>2020-04-30</th>\n",
              "      <td>0.173443</td>\n",
              "      <td>-0.185074</td>\n",
              "      <td>0.002055</td>\n",
              "      <td>-0.387699</td>\n",
              "      <td>0.805626</td>\n",
              "    </tr>\n",
              "    <tr>\n",
              "      <th>Guayas</th>\n",
              "      <th>2020-05-31</th>\n",
              "      <td>-0.178979</td>\n",
              "      <td>0.885581</td>\n",
              "      <td>-1.136477</td>\n",
              "      <td>1.184491</td>\n",
              "      <td>0.546248</td>\n",
              "    </tr>\n",
              "    <tr>\n",
              "      <th>Azuay</th>\n",
              "      <th>2020-06-30</th>\n",
              "      <td>-0.206297</td>\n",
              "      <td>0.819910</td>\n",
              "      <td>1.150467</td>\n",
              "      <td>-0.448355</td>\n",
              "      <td>0.466514</td>\n",
              "    </tr>\n",
              "  </tbody>\n",
              "</table>\n",
              "</div>"
            ],
            "text/plain": [
              "                             0         1         2         3         4\n",
              "provincia index                                                       \n",
              "Pichincha 2018-01-31  0.924334  2.373019  0.084510 -1.793076  0.015928\n",
              "Guayas    2018-02-28  1.700991 -0.141361  0.417455 -1.830150 -1.673479\n",
              "Azuay     2018-03-31  0.287448 -0.504617  1.071516 -0.007838 -0.856246\n",
              "Pichincha 2018-04-30 -0.541595 -0.263420  0.852669 -0.684682 -1.790072\n",
              "Guayas    2018-05-31 -0.803742 -0.550122  0.439037 -0.116001 -0.113159\n",
              "Azuay     2018-06-30 -0.603601 -0.771889 -0.096544  0.854866  0.937097\n",
              "Pichincha 2018-07-31  0.226625 -0.096433 -0.714531  0.627818 -0.342784\n",
              "Guayas    2018-08-31 -0.013977 -0.329308 -1.727110 -0.379066  0.900914\n",
              "Azuay     2018-09-30 -0.138706  1.334230  0.688062  0.775699  1.290359\n",
              "Pichincha 2018-10-31 -2.099791 -0.359505  1.048277  0.749671 -0.441162\n",
              "Guayas    2018-11-30  1.485751 -0.024461  0.700730 -0.046594  0.577477\n",
              "Azuay     2018-12-31 -0.482521 -1.222363 -0.706569 -0.956208  1.824428\n",
              "Pichincha 2019-01-31 -1.132688  0.766750  2.362688 -1.013150 -1.420696\n",
              "Guayas    2019-02-28 -0.457394 -0.095779  0.158086  1.022052 -1.076401\n",
              "Azuay     2019-03-31 -0.859808 -1.733149 -0.255291  0.126108 -0.417115\n",
              "Pichincha 2019-04-30  0.257840  0.182181 -1.481908  1.077847 -2.036567\n",
              "Guayas    2019-05-31 -0.467208 -2.047877  0.252765  0.626922  0.997815\n",
              "Azuay     2019-06-30  0.819367 -0.535961  0.249420  0.700894  0.597025\n",
              "Pichincha 2019-07-31 -0.831044 -1.340895 -1.061263  0.908495  2.113208\n",
              "Guayas    2019-08-31  1.217463  1.970455  1.372275  0.631709  2.390311\n",
              "Azuay     2019-09-30 -0.569887 -0.024639  2.458228 -1.615670  1.650707\n",
              "Pichincha 2019-10-31 -1.985039  0.463360 -0.303084 -0.757431  0.631060\n",
              "Guayas    2019-11-30 -0.115772  0.699088  0.276628  0.634900  0.250129\n",
              "Azuay     2019-12-31 -0.886616 -0.175395  0.562980  0.379264 -0.346291\n",
              "Pichincha 2020-01-31 -1.241094 -0.926412  2.381201  2.342383 -0.062782\n",
              "Guayas    2020-02-29  2.563384  0.786133 -0.155751 -0.653551 -0.215280\n",
              "Azuay     2020-03-31 -0.100726 -1.064335  0.410842  1.348125  0.235971\n",
              "Pichincha 2020-04-30  0.173443 -0.185074  0.002055 -0.387699  0.805626\n",
              "Guayas    2020-05-31 -0.178979  0.885581 -1.136477  1.184491  0.546248\n",
              "Azuay     2020-06-30 -0.206297  0.819910  1.150467 -0.448355  0.466514"
            ]
          },
          "metadata": {
            "tags": []
          },
          "execution_count": 69
        }
      ]
    },
    {
      "cell_type": "code",
      "metadata": {
        "id": "v806uqjX26rJ",
        "colab_type": "code",
        "colab": {
          "base_uri": "https://localhost:8080/",
          "height": 373
        },
        "outputId": "492ae0de-e6d1-45a6-e7c7-3cbe87c22806"
      },
      "source": [
        "df.loc['Pichincha'] #Busca por Provincia"
      ],
      "execution_count": 70,
      "outputs": [
        {
          "output_type": "execute_result",
          "data": {
            "text/html": [
              "<div>\n",
              "<style scoped>\n",
              "    .dataframe tbody tr th:only-of-type {\n",
              "        vertical-align: middle;\n",
              "    }\n",
              "\n",
              "    .dataframe tbody tr th {\n",
              "        vertical-align: top;\n",
              "    }\n",
              "\n",
              "    .dataframe thead th {\n",
              "        text-align: right;\n",
              "    }\n",
              "</style>\n",
              "<table border=\"1\" class=\"dataframe\">\n",
              "  <thead>\n",
              "    <tr style=\"text-align: right;\">\n",
              "      <th></th>\n",
              "      <th>0</th>\n",
              "      <th>1</th>\n",
              "      <th>2</th>\n",
              "      <th>3</th>\n",
              "      <th>4</th>\n",
              "    </tr>\n",
              "    <tr>\n",
              "      <th>index</th>\n",
              "      <th></th>\n",
              "      <th></th>\n",
              "      <th></th>\n",
              "      <th></th>\n",
              "      <th></th>\n",
              "    </tr>\n",
              "  </thead>\n",
              "  <tbody>\n",
              "    <tr>\n",
              "      <th>2018-01-31</th>\n",
              "      <td>0.924334</td>\n",
              "      <td>2.373019</td>\n",
              "      <td>0.084510</td>\n",
              "      <td>-1.793076</td>\n",
              "      <td>0.015928</td>\n",
              "    </tr>\n",
              "    <tr>\n",
              "      <th>2018-04-30</th>\n",
              "      <td>-0.541595</td>\n",
              "      <td>-0.263420</td>\n",
              "      <td>0.852669</td>\n",
              "      <td>-0.684682</td>\n",
              "      <td>-1.790072</td>\n",
              "    </tr>\n",
              "    <tr>\n",
              "      <th>2018-07-31</th>\n",
              "      <td>0.226625</td>\n",
              "      <td>-0.096433</td>\n",
              "      <td>-0.714531</td>\n",
              "      <td>0.627818</td>\n",
              "      <td>-0.342784</td>\n",
              "    </tr>\n",
              "    <tr>\n",
              "      <th>2018-10-31</th>\n",
              "      <td>-2.099791</td>\n",
              "      <td>-0.359505</td>\n",
              "      <td>1.048277</td>\n",
              "      <td>0.749671</td>\n",
              "      <td>-0.441162</td>\n",
              "    </tr>\n",
              "    <tr>\n",
              "      <th>2019-01-31</th>\n",
              "      <td>-1.132688</td>\n",
              "      <td>0.766750</td>\n",
              "      <td>2.362688</td>\n",
              "      <td>-1.013150</td>\n",
              "      <td>-1.420696</td>\n",
              "    </tr>\n",
              "    <tr>\n",
              "      <th>2019-04-30</th>\n",
              "      <td>0.257840</td>\n",
              "      <td>0.182181</td>\n",
              "      <td>-1.481908</td>\n",
              "      <td>1.077847</td>\n",
              "      <td>-2.036567</td>\n",
              "    </tr>\n",
              "    <tr>\n",
              "      <th>2019-07-31</th>\n",
              "      <td>-0.831044</td>\n",
              "      <td>-1.340895</td>\n",
              "      <td>-1.061263</td>\n",
              "      <td>0.908495</td>\n",
              "      <td>2.113208</td>\n",
              "    </tr>\n",
              "    <tr>\n",
              "      <th>2019-10-31</th>\n",
              "      <td>-1.985039</td>\n",
              "      <td>0.463360</td>\n",
              "      <td>-0.303084</td>\n",
              "      <td>-0.757431</td>\n",
              "      <td>0.631060</td>\n",
              "    </tr>\n",
              "    <tr>\n",
              "      <th>2020-01-31</th>\n",
              "      <td>-1.241094</td>\n",
              "      <td>-0.926412</td>\n",
              "      <td>2.381201</td>\n",
              "      <td>2.342383</td>\n",
              "      <td>-0.062782</td>\n",
              "    </tr>\n",
              "    <tr>\n",
              "      <th>2020-04-30</th>\n",
              "      <td>0.173443</td>\n",
              "      <td>-0.185074</td>\n",
              "      <td>0.002055</td>\n",
              "      <td>-0.387699</td>\n",
              "      <td>0.805626</td>\n",
              "    </tr>\n",
              "  </tbody>\n",
              "</table>\n",
              "</div>"
            ],
            "text/plain": [
              "                   0         1         2         3         4\n",
              "index                                                       \n",
              "2018-01-31  0.924334  2.373019  0.084510 -1.793076  0.015928\n",
              "2018-04-30 -0.541595 -0.263420  0.852669 -0.684682 -1.790072\n",
              "2018-07-31  0.226625 -0.096433 -0.714531  0.627818 -0.342784\n",
              "2018-10-31 -2.099791 -0.359505  1.048277  0.749671 -0.441162\n",
              "2019-01-31 -1.132688  0.766750  2.362688 -1.013150 -1.420696\n",
              "2019-04-30  0.257840  0.182181 -1.481908  1.077847 -2.036567\n",
              "2019-07-31 -0.831044 -1.340895 -1.061263  0.908495  2.113208\n",
              "2019-10-31 -1.985039  0.463360 -0.303084 -0.757431  0.631060\n",
              "2020-01-31 -1.241094 -0.926412  2.381201  2.342383 -0.062782\n",
              "2020-04-30  0.173443 -0.185074  0.002055 -0.387699  0.805626"
            ]
          },
          "metadata": {
            "tags": []
          },
          "execution_count": 70
        }
      ]
    },
    {
      "cell_type": "code",
      "metadata": {
        "id": "RBBXdVc426rL",
        "colab_type": "code",
        "colab": {
          "base_uri": "https://localhost:8080/",
          "height": 122
        },
        "outputId": "62c43aea-6fcb-439e-f3ab-d4797d0f8b21"
      },
      "source": [
        "df.loc[('Pichincha', '2019-01-31')] #Especificando las posiciones."
      ],
      "execution_count": 71,
      "outputs": [
        {
          "output_type": "execute_result",
          "data": {
            "text/plain": [
              "0   -1.132688\n",
              "1    0.766750\n",
              "2    2.362688\n",
              "3   -1.013150\n",
              "4   -1.420696\n",
              "Name: (Pichincha, 2019-01-31 00:00:00), dtype: float64"
            ]
          },
          "metadata": {
            "tags": []
          },
          "execution_count": 71
        }
      ]
    },
    {
      "cell_type": "markdown",
      "metadata": {
        "id": "Tuu0DA7G26rN",
        "colab_type": "text"
      },
      "source": [
        "# Cargando un archivo desde el Google Colab"
      ]
    },
    {
      "cell_type": "code",
      "metadata": {
        "id": "pptDCXUP8YwN",
        "colab_type": "code",
        "colab": {
          "resources": {
            "http://localhost:8080/nbextensions/google.colab/files.js": {
              "data": "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",
              "ok": true,
              "headers": [
                [
                  "content-type",
                  "application/javascript"
                ]
              ],
              "status": 200,
              "status_text": ""
            }
          },
          "base_uri": "https://localhost:8080/",
          "height": 74
        },
        "outputId": "14cdf889-d18d-4651-9672-3c17564f9b18"
      },
      "source": [
        "from google.colab import files\n",
        "archivos = files.upload()"
      ],
      "execution_count": 72,
      "outputs": [
        {
          "output_type": "display_data",
          "data": {
            "text/html": [
              "\n",
              "     <input type=\"file\" id=\"files-2801923d-810f-42a5-b75f-765831819f71\" name=\"files[]\" multiple disabled\n",
              "        style=\"border:none\" />\n",
              "     <output id=\"result-2801923d-810f-42a5-b75f-765831819f71\">\n",
              "      Upload widget is only available when the cell has been executed in the\n",
              "      current browser session. Please rerun this cell to enable.\n",
              "      </output>\n",
              "      <script src=\"/nbextensions/google.colab/files.js\"></script> "
            ],
            "text/plain": [
              "<IPython.core.display.HTML object>"
            ]
          },
          "metadata": {
            "tags": []
          }
        },
        {
          "output_type": "stream",
          "text": [
            "Saving winequality-red.csv to winequality-red (1).csv\n"
          ],
          "name": "stdout"
        }
      ]
    },
    {
      "cell_type": "code",
      "metadata": {
        "id": "wGzwaOZm26rN",
        "colab_type": "code",
        "colab": {}
      },
      "source": [
        "df = pd.read_csv('winequality-red.csv', delimiter=';') #Lee mi archivo .csv que tiene delimitador de columnas al ;\n"
      ],
      "execution_count": 73,
      "outputs": []
    },
    {
      "cell_type": "code",
      "metadata": {
        "id": "qymk2wM326rO",
        "colab_type": "code",
        "colab": {
          "base_uri": "https://localhost:8080/",
          "height": 195
        },
        "outputId": "9c7e02e3-e048-45cf-91ea-5aea246a8c9e"
      },
      "source": [
        "df.head()  #Desplega las primeras 5 filas"
      ],
      "execution_count": 74,
      "outputs": [
        {
          "output_type": "execute_result",
          "data": {
            "text/html": [
              "<div>\n",
              "<style scoped>\n",
              "    .dataframe tbody tr th:only-of-type {\n",
              "        vertical-align: middle;\n",
              "    }\n",
              "\n",
              "    .dataframe tbody tr th {\n",
              "        vertical-align: top;\n",
              "    }\n",
              "\n",
              "    .dataframe thead th {\n",
              "        text-align: right;\n",
              "    }\n",
              "</style>\n",
              "<table border=\"1\" class=\"dataframe\">\n",
              "  <thead>\n",
              "    <tr style=\"text-align: right;\">\n",
              "      <th></th>\n",
              "      <th>fixed acidity</th>\n",
              "      <th>volatile acidity</th>\n",
              "      <th>citric acid</th>\n",
              "      <th>residual sugar</th>\n",
              "      <th>chlorides</th>\n",
              "      <th>free sulfur dioxide</th>\n",
              "      <th>total sulfur dioxide</th>\n",
              "      <th>density</th>\n",
              "      <th>pH</th>\n",
              "      <th>sulphates</th>\n",
              "      <th>alcohol</th>\n",
              "      <th>quality</th>\n",
              "    </tr>\n",
              "  </thead>\n",
              "  <tbody>\n",
              "    <tr>\n",
              "      <th>0</th>\n",
              "      <td>7.4</td>\n",
              "      <td>0.70</td>\n",
              "      <td>0.00</td>\n",
              "      <td>1.9</td>\n",
              "      <td>0.076</td>\n",
              "      <td>11.0</td>\n",
              "      <td>34.0</td>\n",
              "      <td>0.9978</td>\n",
              "      <td>3.51</td>\n",
              "      <td>0.56</td>\n",
              "      <td>9.4</td>\n",
              "      <td>5</td>\n",
              "    </tr>\n",
              "    <tr>\n",
              "      <th>1</th>\n",
              "      <td>7.8</td>\n",
              "      <td>0.88</td>\n",
              "      <td>0.00</td>\n",
              "      <td>2.6</td>\n",
              "      <td>0.098</td>\n",
              "      <td>25.0</td>\n",
              "      <td>67.0</td>\n",
              "      <td>0.9968</td>\n",
              "      <td>3.20</td>\n",
              "      <td>0.68</td>\n",
              "      <td>9.8</td>\n",
              "      <td>5</td>\n",
              "    </tr>\n",
              "    <tr>\n",
              "      <th>2</th>\n",
              "      <td>7.8</td>\n",
              "      <td>0.76</td>\n",
              "      <td>0.04</td>\n",
              "      <td>2.3</td>\n",
              "      <td>0.092</td>\n",
              "      <td>15.0</td>\n",
              "      <td>54.0</td>\n",
              "      <td>0.9970</td>\n",
              "      <td>3.26</td>\n",
              "      <td>0.65</td>\n",
              "      <td>9.8</td>\n",
              "      <td>5</td>\n",
              "    </tr>\n",
              "    <tr>\n",
              "      <th>3</th>\n",
              "      <td>11.2</td>\n",
              "      <td>0.28</td>\n",
              "      <td>0.56</td>\n",
              "      <td>1.9</td>\n",
              "      <td>0.075</td>\n",
              "      <td>17.0</td>\n",
              "      <td>60.0</td>\n",
              "      <td>0.9980</td>\n",
              "      <td>3.16</td>\n",
              "      <td>0.58</td>\n",
              "      <td>9.8</td>\n",
              "      <td>6</td>\n",
              "    </tr>\n",
              "    <tr>\n",
              "      <th>4</th>\n",
              "      <td>7.4</td>\n",
              "      <td>0.70</td>\n",
              "      <td>0.00</td>\n",
              "      <td>1.9</td>\n",
              "      <td>0.076</td>\n",
              "      <td>11.0</td>\n",
              "      <td>34.0</td>\n",
              "      <td>0.9978</td>\n",
              "      <td>3.51</td>\n",
              "      <td>0.56</td>\n",
              "      <td>9.4</td>\n",
              "      <td>5</td>\n",
              "    </tr>\n",
              "  </tbody>\n",
              "</table>\n",
              "</div>"
            ],
            "text/plain": [
              "   fixed acidity  volatile acidity  citric acid  ...  sulphates  alcohol  quality\n",
              "0            7.4              0.70         0.00  ...       0.56      9.4        5\n",
              "1            7.8              0.88         0.00  ...       0.68      9.8        5\n",
              "2            7.8              0.76         0.04  ...       0.65      9.8        5\n",
              "3           11.2              0.28         0.56  ...       0.58      9.8        6\n",
              "4            7.4              0.70         0.00  ...       0.56      9.4        5\n",
              "\n",
              "[5 rows x 12 columns]"
            ]
          },
          "metadata": {
            "tags": []
          },
          "execution_count": 74
        }
      ]
    },
    {
      "cell_type": "code",
      "metadata": {
        "id": "0veIie5k26rQ",
        "colab_type": "code",
        "colab": {
          "base_uri": "https://localhost:8080/",
          "height": 34
        },
        "outputId": "a311617f-5be8-49f5-cf15-31a9446b337f"
      },
      "source": [
        "df.shape"
      ],
      "execution_count": 75,
      "outputs": [
        {
          "output_type": "execute_result",
          "data": {
            "text/plain": [
              "(1599, 12)"
            ]
          },
          "metadata": {
            "tags": []
          },
          "execution_count": 75
        }
      ]
    },
    {
      "cell_type": "code",
      "metadata": {
        "id": "obpG1l7C26rS",
        "colab_type": "code",
        "colab": {
          "base_uri": "https://localhost:8080/",
          "height": 87
        },
        "outputId": "772254ad-894c-41dc-f47f-6d50d8e70d35"
      },
      "source": [
        "df.columns"
      ],
      "execution_count": 76,
      "outputs": [
        {
          "output_type": "execute_result",
          "data": {
            "text/plain": [
              "Index(['fixed acidity', 'volatile acidity', 'citric acid', 'residual sugar',\n",
              "       'chlorides', 'free sulfur dioxide', 'total sulfur dioxide', 'density',\n",
              "       'pH', 'sulphates', 'alcohol', 'quality'],\n",
              "      dtype='object')"
            ]
          },
          "metadata": {
            "tags": []
          },
          "execution_count": 76
        }
      ]
    },
    {
      "cell_type": "code",
      "metadata": {
        "id": "yg5goRpY26rT",
        "colab_type": "code",
        "colab": {
          "base_uri": "https://localhost:8080/",
          "height": 351
        },
        "outputId": "ba9c90e9-07b9-44d6-f33f-773ddb05cd8c"
      },
      "source": [
        "df.info() #Informacion de las columnas que conforman el dataframe"
      ],
      "execution_count": 78,
      "outputs": [
        {
          "output_type": "stream",
          "text": [
            "<class 'pandas.core.frame.DataFrame'>\n",
            "RangeIndex: 1599 entries, 0 to 1598\n",
            "Data columns (total 12 columns):\n",
            " #   Column                Non-Null Count  Dtype  \n",
            "---  ------                --------------  -----  \n",
            " 0   fixed acidity         1599 non-null   float64\n",
            " 1   volatile acidity      1599 non-null   float64\n",
            " 2   citric acid           1599 non-null   float64\n",
            " 3   residual sugar        1599 non-null   float64\n",
            " 4   chlorides             1599 non-null   float64\n",
            " 5   free sulfur dioxide   1599 non-null   float64\n",
            " 6   total sulfur dioxide  1599 non-null   float64\n",
            " 7   density               1599 non-null   float64\n",
            " 8   pH                    1599 non-null   float64\n",
            " 9   sulphates             1599 non-null   float64\n",
            " 10  alcohol               1599 non-null   float64\n",
            " 11  quality               1599 non-null   int64  \n",
            "dtypes: float64(11), int64(1)\n",
            "memory usage: 150.0 KB\n"
          ],
          "name": "stdout"
        }
      ]
    },
    {
      "cell_type": "code",
      "metadata": {
        "id": "LweCJJ2o26rW",
        "colab_type": "code",
        "colab": {
          "base_uri": "https://localhost:8080/",
          "height": 301
        },
        "outputId": "9f574fc2-4b2d-430d-81f7-43104ce81895"
      },
      "source": [
        "df.describe() #Descripcion estadictica del DataFrame"
      ],
      "execution_count": 79,
      "outputs": [
        {
          "output_type": "execute_result",
          "data": {
            "text/html": [
              "<div>\n",
              "<style scoped>\n",
              "    .dataframe tbody tr th:only-of-type {\n",
              "        vertical-align: middle;\n",
              "    }\n",
              "\n",
              "    .dataframe tbody tr th {\n",
              "        vertical-align: top;\n",
              "    }\n",
              "\n",
              "    .dataframe thead th {\n",
              "        text-align: right;\n",
              "    }\n",
              "</style>\n",
              "<table border=\"1\" class=\"dataframe\">\n",
              "  <thead>\n",
              "    <tr style=\"text-align: right;\">\n",
              "      <th></th>\n",
              "      <th>fixed acidity</th>\n",
              "      <th>volatile acidity</th>\n",
              "      <th>citric acid</th>\n",
              "      <th>residual sugar</th>\n",
              "      <th>chlorides</th>\n",
              "      <th>free sulfur dioxide</th>\n",
              "      <th>total sulfur dioxide</th>\n",
              "      <th>density</th>\n",
              "      <th>pH</th>\n",
              "      <th>sulphates</th>\n",
              "      <th>alcohol</th>\n",
              "      <th>quality</th>\n",
              "    </tr>\n",
              "  </thead>\n",
              "  <tbody>\n",
              "    <tr>\n",
              "      <th>count</th>\n",
              "      <td>1599.000000</td>\n",
              "      <td>1599.000000</td>\n",
              "      <td>1599.000000</td>\n",
              "      <td>1599.000000</td>\n",
              "      <td>1599.000000</td>\n",
              "      <td>1599.000000</td>\n",
              "      <td>1599.000000</td>\n",
              "      <td>1599.000000</td>\n",
              "      <td>1599.000000</td>\n",
              "      <td>1599.000000</td>\n",
              "      <td>1599.000000</td>\n",
              "      <td>1599.000000</td>\n",
              "    </tr>\n",
              "    <tr>\n",
              "      <th>mean</th>\n",
              "      <td>8.319637</td>\n",
              "      <td>0.527821</td>\n",
              "      <td>0.270976</td>\n",
              "      <td>2.538806</td>\n",
              "      <td>0.087467</td>\n",
              "      <td>15.874922</td>\n",
              "      <td>46.467792</td>\n",
              "      <td>0.996747</td>\n",
              "      <td>3.311113</td>\n",
              "      <td>0.658149</td>\n",
              "      <td>10.422983</td>\n",
              "      <td>5.636023</td>\n",
              "    </tr>\n",
              "    <tr>\n",
              "      <th>std</th>\n",
              "      <td>1.741096</td>\n",
              "      <td>0.179060</td>\n",
              "      <td>0.194801</td>\n",
              "      <td>1.409928</td>\n",
              "      <td>0.047065</td>\n",
              "      <td>10.460157</td>\n",
              "      <td>32.895324</td>\n",
              "      <td>0.001887</td>\n",
              "      <td>0.154386</td>\n",
              "      <td>0.169507</td>\n",
              "      <td>1.065668</td>\n",
              "      <td>0.807569</td>\n",
              "    </tr>\n",
              "    <tr>\n",
              "      <th>min</th>\n",
              "      <td>4.600000</td>\n",
              "      <td>0.120000</td>\n",
              "      <td>0.000000</td>\n",
              "      <td>0.900000</td>\n",
              "      <td>0.012000</td>\n",
              "      <td>1.000000</td>\n",
              "      <td>6.000000</td>\n",
              "      <td>0.990070</td>\n",
              "      <td>2.740000</td>\n",
              "      <td>0.330000</td>\n",
              "      <td>8.400000</td>\n",
              "      <td>3.000000</td>\n",
              "    </tr>\n",
              "    <tr>\n",
              "      <th>25%</th>\n",
              "      <td>7.100000</td>\n",
              "      <td>0.390000</td>\n",
              "      <td>0.090000</td>\n",
              "      <td>1.900000</td>\n",
              "      <td>0.070000</td>\n",
              "      <td>7.000000</td>\n",
              "      <td>22.000000</td>\n",
              "      <td>0.995600</td>\n",
              "      <td>3.210000</td>\n",
              "      <td>0.550000</td>\n",
              "      <td>9.500000</td>\n",
              "      <td>5.000000</td>\n",
              "    </tr>\n",
              "    <tr>\n",
              "      <th>50%</th>\n",
              "      <td>7.900000</td>\n",
              "      <td>0.520000</td>\n",
              "      <td>0.260000</td>\n",
              "      <td>2.200000</td>\n",
              "      <td>0.079000</td>\n",
              "      <td>14.000000</td>\n",
              "      <td>38.000000</td>\n",
              "      <td>0.996750</td>\n",
              "      <td>3.310000</td>\n",
              "      <td>0.620000</td>\n",
              "      <td>10.200000</td>\n",
              "      <td>6.000000</td>\n",
              "    </tr>\n",
              "    <tr>\n",
              "      <th>75%</th>\n",
              "      <td>9.200000</td>\n",
              "      <td>0.640000</td>\n",
              "      <td>0.420000</td>\n",
              "      <td>2.600000</td>\n",
              "      <td>0.090000</td>\n",
              "      <td>21.000000</td>\n",
              "      <td>62.000000</td>\n",
              "      <td>0.997835</td>\n",
              "      <td>3.400000</td>\n",
              "      <td>0.730000</td>\n",
              "      <td>11.100000</td>\n",
              "      <td>6.000000</td>\n",
              "    </tr>\n",
              "    <tr>\n",
              "      <th>max</th>\n",
              "      <td>15.900000</td>\n",
              "      <td>1.580000</td>\n",
              "      <td>1.000000</td>\n",
              "      <td>15.500000</td>\n",
              "      <td>0.611000</td>\n",
              "      <td>72.000000</td>\n",
              "      <td>289.000000</td>\n",
              "      <td>1.003690</td>\n",
              "      <td>4.010000</td>\n",
              "      <td>2.000000</td>\n",
              "      <td>14.900000</td>\n",
              "      <td>8.000000</td>\n",
              "    </tr>\n",
              "  </tbody>\n",
              "</table>\n",
              "</div>"
            ],
            "text/plain": [
              "       fixed acidity  volatile acidity  ...      alcohol      quality\n",
              "count    1599.000000       1599.000000  ...  1599.000000  1599.000000\n",
              "mean        8.319637          0.527821  ...    10.422983     5.636023\n",
              "std         1.741096          0.179060  ...     1.065668     0.807569\n",
              "min         4.600000          0.120000  ...     8.400000     3.000000\n",
              "25%         7.100000          0.390000  ...     9.500000     5.000000\n",
              "50%         7.900000          0.520000  ...    10.200000     6.000000\n",
              "75%         9.200000          0.640000  ...    11.100000     6.000000\n",
              "max        15.900000          1.580000  ...    14.900000     8.000000\n",
              "\n",
              "[8 rows x 12 columns]"
            ]
          },
          "metadata": {
            "tags": []
          },
          "execution_count": 79
        }
      ]
    },
    {
      "cell_type": "code",
      "metadata": {
        "id": "rzS3YWVZ26ra",
        "colab_type": "code",
        "colab": {
          "base_uri": "https://localhost:8080/",
          "height": 195
        },
        "outputId": "ff1625bc-cf9a-4d4d-b889-e23331ebb55c"
      },
      "source": [
        "df.tail() #Despliega las ultimas 5 filas del dataframe"
      ],
      "execution_count": 80,
      "outputs": [
        {
          "output_type": "execute_result",
          "data": {
            "text/html": [
              "<div>\n",
              "<style scoped>\n",
              "    .dataframe tbody tr th:only-of-type {\n",
              "        vertical-align: middle;\n",
              "    }\n",
              "\n",
              "    .dataframe tbody tr th {\n",
              "        vertical-align: top;\n",
              "    }\n",
              "\n",
              "    .dataframe thead th {\n",
              "        text-align: right;\n",
              "    }\n",
              "</style>\n",
              "<table border=\"1\" class=\"dataframe\">\n",
              "  <thead>\n",
              "    <tr style=\"text-align: right;\">\n",
              "      <th></th>\n",
              "      <th>fixed acidity</th>\n",
              "      <th>volatile acidity</th>\n",
              "      <th>citric acid</th>\n",
              "      <th>residual sugar</th>\n",
              "      <th>chlorides</th>\n",
              "      <th>free sulfur dioxide</th>\n",
              "      <th>total sulfur dioxide</th>\n",
              "      <th>density</th>\n",
              "      <th>pH</th>\n",
              "      <th>sulphates</th>\n",
              "      <th>alcohol</th>\n",
              "      <th>quality</th>\n",
              "    </tr>\n",
              "  </thead>\n",
              "  <tbody>\n",
              "    <tr>\n",
              "      <th>1594</th>\n",
              "      <td>6.2</td>\n",
              "      <td>0.600</td>\n",
              "      <td>0.08</td>\n",
              "      <td>2.0</td>\n",
              "      <td>0.090</td>\n",
              "      <td>32.0</td>\n",
              "      <td>44.0</td>\n",
              "      <td>0.99490</td>\n",
              "      <td>3.45</td>\n",
              "      <td>0.58</td>\n",
              "      <td>10.5</td>\n",
              "      <td>5</td>\n",
              "    </tr>\n",
              "    <tr>\n",
              "      <th>1595</th>\n",
              "      <td>5.9</td>\n",
              "      <td>0.550</td>\n",
              "      <td>0.10</td>\n",
              "      <td>2.2</td>\n",
              "      <td>0.062</td>\n",
              "      <td>39.0</td>\n",
              "      <td>51.0</td>\n",
              "      <td>0.99512</td>\n",
              "      <td>3.52</td>\n",
              "      <td>0.76</td>\n",
              "      <td>11.2</td>\n",
              "      <td>6</td>\n",
              "    </tr>\n",
              "    <tr>\n",
              "      <th>1596</th>\n",
              "      <td>6.3</td>\n",
              "      <td>0.510</td>\n",
              "      <td>0.13</td>\n",
              "      <td>2.3</td>\n",
              "      <td>0.076</td>\n",
              "      <td>29.0</td>\n",
              "      <td>40.0</td>\n",
              "      <td>0.99574</td>\n",
              "      <td>3.42</td>\n",
              "      <td>0.75</td>\n",
              "      <td>11.0</td>\n",
              "      <td>6</td>\n",
              "    </tr>\n",
              "    <tr>\n",
              "      <th>1597</th>\n",
              "      <td>5.9</td>\n",
              "      <td>0.645</td>\n",
              "      <td>0.12</td>\n",
              "      <td>2.0</td>\n",
              "      <td>0.075</td>\n",
              "      <td>32.0</td>\n",
              "      <td>44.0</td>\n",
              "      <td>0.99547</td>\n",
              "      <td>3.57</td>\n",
              "      <td>0.71</td>\n",
              "      <td>10.2</td>\n",
              "      <td>5</td>\n",
              "    </tr>\n",
              "    <tr>\n",
              "      <th>1598</th>\n",
              "      <td>6.0</td>\n",
              "      <td>0.310</td>\n",
              "      <td>0.47</td>\n",
              "      <td>3.6</td>\n",
              "      <td>0.067</td>\n",
              "      <td>18.0</td>\n",
              "      <td>42.0</td>\n",
              "      <td>0.99549</td>\n",
              "      <td>3.39</td>\n",
              "      <td>0.66</td>\n",
              "      <td>11.0</td>\n",
              "      <td>6</td>\n",
              "    </tr>\n",
              "  </tbody>\n",
              "</table>\n",
              "</div>"
            ],
            "text/plain": [
              "      fixed acidity  volatile acidity  citric acid  ...  sulphates  alcohol  quality\n",
              "1594            6.2             0.600         0.08  ...       0.58     10.5        5\n",
              "1595            5.9             0.550         0.10  ...       0.76     11.2        6\n",
              "1596            6.3             0.510         0.13  ...       0.75     11.0        6\n",
              "1597            5.9             0.645         0.12  ...       0.71     10.2        5\n",
              "1598            6.0             0.310         0.47  ...       0.66     11.0        6\n",
              "\n",
              "[5 rows x 12 columns]"
            ]
          },
          "metadata": {
            "tags": []
          },
          "execution_count": 80
        }
      ]
    },
    {
      "cell_type": "code",
      "metadata": {
        "id": "iOrbSsXqHF2d",
        "colab_type": "code",
        "colab": {
          "base_uri": "https://localhost:8080/",
          "height": 343
        },
        "outputId": "1c7abfa6-54fe-48bc-efa2-27269991eaa2"
      },
      "source": [
        "df.tail(10) #Despliega las ultimas 10 filas del dataframe"
      ],
      "execution_count": 81,
      "outputs": [
        {
          "output_type": "execute_result",
          "data": {
            "text/html": [
              "<div>\n",
              "<style scoped>\n",
              "    .dataframe tbody tr th:only-of-type {\n",
              "        vertical-align: middle;\n",
              "    }\n",
              "\n",
              "    .dataframe tbody tr th {\n",
              "        vertical-align: top;\n",
              "    }\n",
              "\n",
              "    .dataframe thead th {\n",
              "        text-align: right;\n",
              "    }\n",
              "</style>\n",
              "<table border=\"1\" class=\"dataframe\">\n",
              "  <thead>\n",
              "    <tr style=\"text-align: right;\">\n",
              "      <th></th>\n",
              "      <th>fixed acidity</th>\n",
              "      <th>volatile acidity</th>\n",
              "      <th>citric acid</th>\n",
              "      <th>residual sugar</th>\n",
              "      <th>chlorides</th>\n",
              "      <th>free sulfur dioxide</th>\n",
              "      <th>total sulfur dioxide</th>\n",
              "      <th>density</th>\n",
              "      <th>pH</th>\n",
              "      <th>sulphates</th>\n",
              "      <th>alcohol</th>\n",
              "      <th>quality</th>\n",
              "    </tr>\n",
              "  </thead>\n",
              "  <tbody>\n",
              "    <tr>\n",
              "      <th>1589</th>\n",
              "      <td>6.6</td>\n",
              "      <td>0.725</td>\n",
              "      <td>0.20</td>\n",
              "      <td>7.8</td>\n",
              "      <td>0.073</td>\n",
              "      <td>29.0</td>\n",
              "      <td>79.0</td>\n",
              "      <td>0.99770</td>\n",
              "      <td>3.29</td>\n",
              "      <td>0.54</td>\n",
              "      <td>9.2</td>\n",
              "      <td>5</td>\n",
              "    </tr>\n",
              "    <tr>\n",
              "      <th>1590</th>\n",
              "      <td>6.3</td>\n",
              "      <td>0.550</td>\n",
              "      <td>0.15</td>\n",
              "      <td>1.8</td>\n",
              "      <td>0.077</td>\n",
              "      <td>26.0</td>\n",
              "      <td>35.0</td>\n",
              "      <td>0.99314</td>\n",
              "      <td>3.32</td>\n",
              "      <td>0.82</td>\n",
              "      <td>11.6</td>\n",
              "      <td>6</td>\n",
              "    </tr>\n",
              "    <tr>\n",
              "      <th>1591</th>\n",
              "      <td>5.4</td>\n",
              "      <td>0.740</td>\n",
              "      <td>0.09</td>\n",
              "      <td>1.7</td>\n",
              "      <td>0.089</td>\n",
              "      <td>16.0</td>\n",
              "      <td>26.0</td>\n",
              "      <td>0.99402</td>\n",
              "      <td>3.67</td>\n",
              "      <td>0.56</td>\n",
              "      <td>11.6</td>\n",
              "      <td>6</td>\n",
              "    </tr>\n",
              "    <tr>\n",
              "      <th>1592</th>\n",
              "      <td>6.3</td>\n",
              "      <td>0.510</td>\n",
              "      <td>0.13</td>\n",
              "      <td>2.3</td>\n",
              "      <td>0.076</td>\n",
              "      <td>29.0</td>\n",
              "      <td>40.0</td>\n",
              "      <td>0.99574</td>\n",
              "      <td>3.42</td>\n",
              "      <td>0.75</td>\n",
              "      <td>11.0</td>\n",
              "      <td>6</td>\n",
              "    </tr>\n",
              "    <tr>\n",
              "      <th>1593</th>\n",
              "      <td>6.8</td>\n",
              "      <td>0.620</td>\n",
              "      <td>0.08</td>\n",
              "      <td>1.9</td>\n",
              "      <td>0.068</td>\n",
              "      <td>28.0</td>\n",
              "      <td>38.0</td>\n",
              "      <td>0.99651</td>\n",
              "      <td>3.42</td>\n",
              "      <td>0.82</td>\n",
              "      <td>9.5</td>\n",
              "      <td>6</td>\n",
              "    </tr>\n",
              "    <tr>\n",
              "      <th>1594</th>\n",
              "      <td>6.2</td>\n",
              "      <td>0.600</td>\n",
              "      <td>0.08</td>\n",
              "      <td>2.0</td>\n",
              "      <td>0.090</td>\n",
              "      <td>32.0</td>\n",
              "      <td>44.0</td>\n",
              "      <td>0.99490</td>\n",
              "      <td>3.45</td>\n",
              "      <td>0.58</td>\n",
              "      <td>10.5</td>\n",
              "      <td>5</td>\n",
              "    </tr>\n",
              "    <tr>\n",
              "      <th>1595</th>\n",
              "      <td>5.9</td>\n",
              "      <td>0.550</td>\n",
              "      <td>0.10</td>\n",
              "      <td>2.2</td>\n",
              "      <td>0.062</td>\n",
              "      <td>39.0</td>\n",
              "      <td>51.0</td>\n",
              "      <td>0.99512</td>\n",
              "      <td>3.52</td>\n",
              "      <td>0.76</td>\n",
              "      <td>11.2</td>\n",
              "      <td>6</td>\n",
              "    </tr>\n",
              "    <tr>\n",
              "      <th>1596</th>\n",
              "      <td>6.3</td>\n",
              "      <td>0.510</td>\n",
              "      <td>0.13</td>\n",
              "      <td>2.3</td>\n",
              "      <td>0.076</td>\n",
              "      <td>29.0</td>\n",
              "      <td>40.0</td>\n",
              "      <td>0.99574</td>\n",
              "      <td>3.42</td>\n",
              "      <td>0.75</td>\n",
              "      <td>11.0</td>\n",
              "      <td>6</td>\n",
              "    </tr>\n",
              "    <tr>\n",
              "      <th>1597</th>\n",
              "      <td>5.9</td>\n",
              "      <td>0.645</td>\n",
              "      <td>0.12</td>\n",
              "      <td>2.0</td>\n",
              "      <td>0.075</td>\n",
              "      <td>32.0</td>\n",
              "      <td>44.0</td>\n",
              "      <td>0.99547</td>\n",
              "      <td>3.57</td>\n",
              "      <td>0.71</td>\n",
              "      <td>10.2</td>\n",
              "      <td>5</td>\n",
              "    </tr>\n",
              "    <tr>\n",
              "      <th>1598</th>\n",
              "      <td>6.0</td>\n",
              "      <td>0.310</td>\n",
              "      <td>0.47</td>\n",
              "      <td>3.6</td>\n",
              "      <td>0.067</td>\n",
              "      <td>18.0</td>\n",
              "      <td>42.0</td>\n",
              "      <td>0.99549</td>\n",
              "      <td>3.39</td>\n",
              "      <td>0.66</td>\n",
              "      <td>11.0</td>\n",
              "      <td>6</td>\n",
              "    </tr>\n",
              "  </tbody>\n",
              "</table>\n",
              "</div>"
            ],
            "text/plain": [
              "      fixed acidity  volatile acidity  citric acid  ...  sulphates  alcohol  quality\n",
              "1589            6.6             0.725         0.20  ...       0.54      9.2        5\n",
              "1590            6.3             0.550         0.15  ...       0.82     11.6        6\n",
              "1591            5.4             0.740         0.09  ...       0.56     11.6        6\n",
              "1592            6.3             0.510         0.13  ...       0.75     11.0        6\n",
              "1593            6.8             0.620         0.08  ...       0.82      9.5        6\n",
              "1594            6.2             0.600         0.08  ...       0.58     10.5        5\n",
              "1595            5.9             0.550         0.10  ...       0.76     11.2        6\n",
              "1596            6.3             0.510         0.13  ...       0.75     11.0        6\n",
              "1597            5.9             0.645         0.12  ...       0.71     10.2        5\n",
              "1598            6.0             0.310         0.47  ...       0.66     11.0        6\n",
              "\n",
              "[10 rows x 12 columns]"
            ]
          },
          "metadata": {
            "tags": []
          },
          "execution_count": 81
        }
      ]
    },
    {
      "cell_type": "markdown",
      "metadata": {
        "id": "gmC3x2g626rc",
        "colab_type": "text"
      },
      "source": [
        "# Filtrado (i.e., selección de filas)"
      ]
    },
    {
      "cell_type": "code",
      "metadata": {
        "id": "C5PKf3eW26rc",
        "colab_type": "code",
        "colab": {
          "base_uri": "https://localhost:8080/",
          "height": 228
        },
        "outputId": "ba26ceaa-56b7-47e8-a6e5-95387851e3ff"
      },
      "source": [
        "df['chlorides']"
      ],
      "execution_count": 82,
      "outputs": [
        {
          "output_type": "execute_result",
          "data": {
            "text/plain": [
              "0       0.076\n",
              "1       0.098\n",
              "2       0.092\n",
              "3       0.075\n",
              "4       0.076\n",
              "        ...  \n",
              "1594    0.090\n",
              "1595    0.062\n",
              "1596    0.076\n",
              "1597    0.075\n",
              "1598    0.067\n",
              "Name: chlorides, Length: 1599, dtype: float64"
            ]
          },
          "metadata": {
            "tags": []
          },
          "execution_count": 82
        }
      ]
    },
    {
      "cell_type": "code",
      "metadata": {
        "id": "_feYcOrg26rf",
        "colab_type": "code",
        "colab": {
          "base_uri": "https://localhost:8080/",
          "height": 228
        },
        "outputId": "5cc3414b-2591-4631-ab8d-8226f1517697"
      },
      "source": [
        "df['chlorides'] <= 0.08 #Coloca True si el valor de df['chlorides']<=0.08, caso contrario False"
      ],
      "execution_count": 83,
      "outputs": [
        {
          "output_type": "execute_result",
          "data": {
            "text/plain": [
              "0        True\n",
              "1       False\n",
              "2       False\n",
              "3        True\n",
              "4        True\n",
              "        ...  \n",
              "1594    False\n",
              "1595     True\n",
              "1596     True\n",
              "1597     True\n",
              "1598     True\n",
              "Name: chlorides, Length: 1599, dtype: bool"
            ]
          },
          "metadata": {
            "tags": []
          },
          "execution_count": 83
        }
      ]
    },
    {
      "cell_type": "code",
      "metadata": {
        "id": "XWQ6dHM926rh",
        "colab_type": "code",
        "colab": {}
      },
      "source": [
        "filtro = df['chlorides'] <= 0.08  #Gurdo el valor anterior en filtro"
      ],
      "execution_count": 84,
      "outputs": []
    },
    {
      "cell_type": "code",
      "metadata": {
        "id": "AJ05rWNl26ri",
        "colab_type": "code",
        "colab": {
          "base_uri": "https://localhost:8080/",
          "height": 228
        },
        "outputId": "05f17e28-6fef-4045-92a0-a6d7990a3892"
      },
      "source": [
        "filtro"
      ],
      "execution_count": 85,
      "outputs": [
        {
          "output_type": "execute_result",
          "data": {
            "text/plain": [
              "0        True\n",
              "1       False\n",
              "2       False\n",
              "3        True\n",
              "4        True\n",
              "        ...  \n",
              "1594    False\n",
              "1595     True\n",
              "1596     True\n",
              "1597     True\n",
              "1598     True\n",
              "Name: chlorides, Length: 1599, dtype: bool"
            ]
          },
          "metadata": {
            "tags": []
          },
          "execution_count": 85
        }
      ]
    },
    {
      "cell_type": "code",
      "metadata": {
        "id": "55YKKwV526rk",
        "colab_type": "code",
        "colab": {
          "base_uri": "https://localhost:8080/",
          "height": 34
        },
        "outputId": "1825c3b3-291f-4f94-e4ba-6a8fa0f4afcf"
      },
      "source": [
        "type(filtro) #Tipo dataframe serie"
      ],
      "execution_count": 86,
      "outputs": [
        {
          "output_type": "execute_result",
          "data": {
            "text/plain": [
              "pandas.core.series.Series"
            ]
          },
          "metadata": {
            "tags": []
          },
          "execution_count": 86
        }
      ]
    },
    {
      "cell_type": "code",
      "metadata": {
        "id": "C6Pz45x626rm",
        "colab_type": "code",
        "colab": {
          "base_uri": "https://localhost:8080/",
          "height": 402
        },
        "outputId": "2edebad3-1596-4a54-afc1-babe7522e457"
      },
      "source": [
        "df[filtro] #Filtro la datafreme origignal"
      ],
      "execution_count": 87,
      "outputs": [
        {
          "output_type": "execute_result",
          "data": {
            "text/html": [
              "<div>\n",
              "<style scoped>\n",
              "    .dataframe tbody tr th:only-of-type {\n",
              "        vertical-align: middle;\n",
              "    }\n",
              "\n",
              "    .dataframe tbody tr th {\n",
              "        vertical-align: top;\n",
              "    }\n",
              "\n",
              "    .dataframe thead th {\n",
              "        text-align: right;\n",
              "    }\n",
              "</style>\n",
              "<table border=\"1\" class=\"dataframe\">\n",
              "  <thead>\n",
              "    <tr style=\"text-align: right;\">\n",
              "      <th></th>\n",
              "      <th>fixed acidity</th>\n",
              "      <th>volatile acidity</th>\n",
              "      <th>citric acid</th>\n",
              "      <th>residual sugar</th>\n",
              "      <th>chlorides</th>\n",
              "      <th>free sulfur dioxide</th>\n",
              "      <th>total sulfur dioxide</th>\n",
              "      <th>density</th>\n",
              "      <th>pH</th>\n",
              "      <th>sulphates</th>\n",
              "      <th>alcohol</th>\n",
              "      <th>quality</th>\n",
              "    </tr>\n",
              "  </thead>\n",
              "  <tbody>\n",
              "    <tr>\n",
              "      <th>0</th>\n",
              "      <td>7.4</td>\n",
              "      <td>0.700</td>\n",
              "      <td>0.00</td>\n",
              "      <td>1.9</td>\n",
              "      <td>0.076</td>\n",
              "      <td>11.0</td>\n",
              "      <td>34.0</td>\n",
              "      <td>0.99780</td>\n",
              "      <td>3.51</td>\n",
              "      <td>0.56</td>\n",
              "      <td>9.4</td>\n",
              "      <td>5</td>\n",
              "    </tr>\n",
              "    <tr>\n",
              "      <th>3</th>\n",
              "      <td>11.2</td>\n",
              "      <td>0.280</td>\n",
              "      <td>0.56</td>\n",
              "      <td>1.9</td>\n",
              "      <td>0.075</td>\n",
              "      <td>17.0</td>\n",
              "      <td>60.0</td>\n",
              "      <td>0.99800</td>\n",
              "      <td>3.16</td>\n",
              "      <td>0.58</td>\n",
              "      <td>9.8</td>\n",
              "      <td>6</td>\n",
              "    </tr>\n",
              "    <tr>\n",
              "      <th>4</th>\n",
              "      <td>7.4</td>\n",
              "      <td>0.700</td>\n",
              "      <td>0.00</td>\n",
              "      <td>1.9</td>\n",
              "      <td>0.076</td>\n",
              "      <td>11.0</td>\n",
              "      <td>34.0</td>\n",
              "      <td>0.99780</td>\n",
              "      <td>3.51</td>\n",
              "      <td>0.56</td>\n",
              "      <td>9.4</td>\n",
              "      <td>5</td>\n",
              "    </tr>\n",
              "    <tr>\n",
              "      <th>5</th>\n",
              "      <td>7.4</td>\n",
              "      <td>0.660</td>\n",
              "      <td>0.00</td>\n",
              "      <td>1.8</td>\n",
              "      <td>0.075</td>\n",
              "      <td>13.0</td>\n",
              "      <td>40.0</td>\n",
              "      <td>0.99780</td>\n",
              "      <td>3.51</td>\n",
              "      <td>0.56</td>\n",
              "      <td>9.4</td>\n",
              "      <td>5</td>\n",
              "    </tr>\n",
              "    <tr>\n",
              "      <th>6</th>\n",
              "      <td>7.9</td>\n",
              "      <td>0.600</td>\n",
              "      <td>0.06</td>\n",
              "      <td>1.6</td>\n",
              "      <td>0.069</td>\n",
              "      <td>15.0</td>\n",
              "      <td>59.0</td>\n",
              "      <td>0.99640</td>\n",
              "      <td>3.30</td>\n",
              "      <td>0.46</td>\n",
              "      <td>9.4</td>\n",
              "      <td>5</td>\n",
              "    </tr>\n",
              "    <tr>\n",
              "      <th>...</th>\n",
              "      <td>...</td>\n",
              "      <td>...</td>\n",
              "      <td>...</td>\n",
              "      <td>...</td>\n",
              "      <td>...</td>\n",
              "      <td>...</td>\n",
              "      <td>...</td>\n",
              "      <td>...</td>\n",
              "      <td>...</td>\n",
              "      <td>...</td>\n",
              "      <td>...</td>\n",
              "      <td>...</td>\n",
              "    </tr>\n",
              "    <tr>\n",
              "      <th>1593</th>\n",
              "      <td>6.8</td>\n",
              "      <td>0.620</td>\n",
              "      <td>0.08</td>\n",
              "      <td>1.9</td>\n",
              "      <td>0.068</td>\n",
              "      <td>28.0</td>\n",
              "      <td>38.0</td>\n",
              "      <td>0.99651</td>\n",
              "      <td>3.42</td>\n",
              "      <td>0.82</td>\n",
              "      <td>9.5</td>\n",
              "      <td>6</td>\n",
              "    </tr>\n",
              "    <tr>\n",
              "      <th>1595</th>\n",
              "      <td>5.9</td>\n",
              "      <td>0.550</td>\n",
              "      <td>0.10</td>\n",
              "      <td>2.2</td>\n",
              "      <td>0.062</td>\n",
              "      <td>39.0</td>\n",
              "      <td>51.0</td>\n",
              "      <td>0.99512</td>\n",
              "      <td>3.52</td>\n",
              "      <td>0.76</td>\n",
              "      <td>11.2</td>\n",
              "      <td>6</td>\n",
              "    </tr>\n",
              "    <tr>\n",
              "      <th>1596</th>\n",
              "      <td>6.3</td>\n",
              "      <td>0.510</td>\n",
              "      <td>0.13</td>\n",
              "      <td>2.3</td>\n",
              "      <td>0.076</td>\n",
              "      <td>29.0</td>\n",
              "      <td>40.0</td>\n",
              "      <td>0.99574</td>\n",
              "      <td>3.42</td>\n",
              "      <td>0.75</td>\n",
              "      <td>11.0</td>\n",
              "      <td>6</td>\n",
              "    </tr>\n",
              "    <tr>\n",
              "      <th>1597</th>\n",
              "      <td>5.9</td>\n",
              "      <td>0.645</td>\n",
              "      <td>0.12</td>\n",
              "      <td>2.0</td>\n",
              "      <td>0.075</td>\n",
              "      <td>32.0</td>\n",
              "      <td>44.0</td>\n",
              "      <td>0.99547</td>\n",
              "      <td>3.57</td>\n",
              "      <td>0.71</td>\n",
              "      <td>10.2</td>\n",
              "      <td>5</td>\n",
              "    </tr>\n",
              "    <tr>\n",
              "      <th>1598</th>\n",
              "      <td>6.0</td>\n",
              "      <td>0.310</td>\n",
              "      <td>0.47</td>\n",
              "      <td>3.6</td>\n",
              "      <td>0.067</td>\n",
              "      <td>18.0</td>\n",
              "      <td>42.0</td>\n",
              "      <td>0.99549</td>\n",
              "      <td>3.39</td>\n",
              "      <td>0.66</td>\n",
              "      <td>11.0</td>\n",
              "      <td>6</td>\n",
              "    </tr>\n",
              "  </tbody>\n",
              "</table>\n",
              "<p>874 rows × 12 columns</p>\n",
              "</div>"
            ],
            "text/plain": [
              "      fixed acidity  volatile acidity  citric acid  ...  sulphates  alcohol  quality\n",
              "0               7.4             0.700         0.00  ...       0.56      9.4        5\n",
              "3              11.2             0.280         0.56  ...       0.58      9.8        6\n",
              "4               7.4             0.700         0.00  ...       0.56      9.4        5\n",
              "5               7.4             0.660         0.00  ...       0.56      9.4        5\n",
              "6               7.9             0.600         0.06  ...       0.46      9.4        5\n",
              "...             ...               ...          ...  ...        ...      ...      ...\n",
              "1593            6.8             0.620         0.08  ...       0.82      9.5        6\n",
              "1595            5.9             0.550         0.10  ...       0.76     11.2        6\n",
              "1596            6.3             0.510         0.13  ...       0.75     11.0        6\n",
              "1597            5.9             0.645         0.12  ...       0.71     10.2        5\n",
              "1598            6.0             0.310         0.47  ...       0.66     11.0        6\n",
              "\n",
              "[874 rows x 12 columns]"
            ]
          },
          "metadata": {
            "tags": []
          },
          "execution_count": 87
        }
      ]
    },
    {
      "cell_type": "code",
      "metadata": {
        "id": "DqTW_ABl26ro",
        "colab_type": "code",
        "colab": {
          "base_uri": "https://localhost:8080/",
          "height": 402
        },
        "outputId": "b7098120-72f0-4f49-c937-5ba1b126aea3"
      },
      "source": [
        "# Filtrado avanzado\n",
        "df[(df['chlorides'] >= 0.04) & (df['chlorides'] < 0.08)]"
      ],
      "execution_count": 88,
      "outputs": [
        {
          "output_type": "execute_result",
          "data": {
            "text/html": [
              "<div>\n",
              "<style scoped>\n",
              "    .dataframe tbody tr th:only-of-type {\n",
              "        vertical-align: middle;\n",
              "    }\n",
              "\n",
              "    .dataframe tbody tr th {\n",
              "        vertical-align: top;\n",
              "    }\n",
              "\n",
              "    .dataframe thead th {\n",
              "        text-align: right;\n",
              "    }\n",
              "</style>\n",
              "<table border=\"1\" class=\"dataframe\">\n",
              "  <thead>\n",
              "    <tr style=\"text-align: right;\">\n",
              "      <th></th>\n",
              "      <th>fixed acidity</th>\n",
              "      <th>volatile acidity</th>\n",
              "      <th>citric acid</th>\n",
              "      <th>residual sugar</th>\n",
              "      <th>chlorides</th>\n",
              "      <th>free sulfur dioxide</th>\n",
              "      <th>total sulfur dioxide</th>\n",
              "      <th>density</th>\n",
              "      <th>pH</th>\n",
              "      <th>sulphates</th>\n",
              "      <th>alcohol</th>\n",
              "      <th>quality</th>\n",
              "    </tr>\n",
              "  </thead>\n",
              "  <tbody>\n",
              "    <tr>\n",
              "      <th>0</th>\n",
              "      <td>7.4</td>\n",
              "      <td>0.700</td>\n",
              "      <td>0.00</td>\n",
              "      <td>1.9</td>\n",
              "      <td>0.076</td>\n",
              "      <td>11.0</td>\n",
              "      <td>34.0</td>\n",
              "      <td>0.99780</td>\n",
              "      <td>3.51</td>\n",
              "      <td>0.56</td>\n",
              "      <td>9.4</td>\n",
              "      <td>5</td>\n",
              "    </tr>\n",
              "    <tr>\n",
              "      <th>3</th>\n",
              "      <td>11.2</td>\n",
              "      <td>0.280</td>\n",
              "      <td>0.56</td>\n",
              "      <td>1.9</td>\n",
              "      <td>0.075</td>\n",
              "      <td>17.0</td>\n",
              "      <td>60.0</td>\n",
              "      <td>0.99800</td>\n",
              "      <td>3.16</td>\n",
              "      <td>0.58</td>\n",
              "      <td>9.8</td>\n",
              "      <td>6</td>\n",
              "    </tr>\n",
              "    <tr>\n",
              "      <th>4</th>\n",
              "      <td>7.4</td>\n",
              "      <td>0.700</td>\n",
              "      <td>0.00</td>\n",
              "      <td>1.9</td>\n",
              "      <td>0.076</td>\n",
              "      <td>11.0</td>\n",
              "      <td>34.0</td>\n",
              "      <td>0.99780</td>\n",
              "      <td>3.51</td>\n",
              "      <td>0.56</td>\n",
              "      <td>9.4</td>\n",
              "      <td>5</td>\n",
              "    </tr>\n",
              "    <tr>\n",
              "      <th>5</th>\n",
              "      <td>7.4</td>\n",
              "      <td>0.660</td>\n",
              "      <td>0.00</td>\n",
              "      <td>1.8</td>\n",
              "      <td>0.075</td>\n",
              "      <td>13.0</td>\n",
              "      <td>40.0</td>\n",
              "      <td>0.99780</td>\n",
              "      <td>3.51</td>\n",
              "      <td>0.56</td>\n",
              "      <td>9.4</td>\n",
              "      <td>5</td>\n",
              "    </tr>\n",
              "    <tr>\n",
              "      <th>6</th>\n",
              "      <td>7.9</td>\n",
              "      <td>0.600</td>\n",
              "      <td>0.06</td>\n",
              "      <td>1.6</td>\n",
              "      <td>0.069</td>\n",
              "      <td>15.0</td>\n",
              "      <td>59.0</td>\n",
              "      <td>0.99640</td>\n",
              "      <td>3.30</td>\n",
              "      <td>0.46</td>\n",
              "      <td>9.4</td>\n",
              "      <td>5</td>\n",
              "    </tr>\n",
              "    <tr>\n",
              "      <th>...</th>\n",
              "      <td>...</td>\n",
              "      <td>...</td>\n",
              "      <td>...</td>\n",
              "      <td>...</td>\n",
              "      <td>...</td>\n",
              "      <td>...</td>\n",
              "      <td>...</td>\n",
              "      <td>...</td>\n",
              "      <td>...</td>\n",
              "      <td>...</td>\n",
              "      <td>...</td>\n",
              "      <td>...</td>\n",
              "    </tr>\n",
              "    <tr>\n",
              "      <th>1593</th>\n",
              "      <td>6.8</td>\n",
              "      <td>0.620</td>\n",
              "      <td>0.08</td>\n",
              "      <td>1.9</td>\n",
              "      <td>0.068</td>\n",
              "      <td>28.0</td>\n",
              "      <td>38.0</td>\n",
              "      <td>0.99651</td>\n",
              "      <td>3.42</td>\n",
              "      <td>0.82</td>\n",
              "      <td>9.5</td>\n",
              "      <td>6</td>\n",
              "    </tr>\n",
              "    <tr>\n",
              "      <th>1595</th>\n",
              "      <td>5.9</td>\n",
              "      <td>0.550</td>\n",
              "      <td>0.10</td>\n",
              "      <td>2.2</td>\n",
              "      <td>0.062</td>\n",
              "      <td>39.0</td>\n",
              "      <td>51.0</td>\n",
              "      <td>0.99512</td>\n",
              "      <td>3.52</td>\n",
              "      <td>0.76</td>\n",
              "      <td>11.2</td>\n",
              "      <td>6</td>\n",
              "    </tr>\n",
              "    <tr>\n",
              "      <th>1596</th>\n",
              "      <td>6.3</td>\n",
              "      <td>0.510</td>\n",
              "      <td>0.13</td>\n",
              "      <td>2.3</td>\n",
              "      <td>0.076</td>\n",
              "      <td>29.0</td>\n",
              "      <td>40.0</td>\n",
              "      <td>0.99574</td>\n",
              "      <td>3.42</td>\n",
              "      <td>0.75</td>\n",
              "      <td>11.0</td>\n",
              "      <td>6</td>\n",
              "    </tr>\n",
              "    <tr>\n",
              "      <th>1597</th>\n",
              "      <td>5.9</td>\n",
              "      <td>0.645</td>\n",
              "      <td>0.12</td>\n",
              "      <td>2.0</td>\n",
              "      <td>0.075</td>\n",
              "      <td>32.0</td>\n",
              "      <td>44.0</td>\n",
              "      <td>0.99547</td>\n",
              "      <td>3.57</td>\n",
              "      <td>0.71</td>\n",
              "      <td>10.2</td>\n",
              "      <td>5</td>\n",
              "    </tr>\n",
              "    <tr>\n",
              "      <th>1598</th>\n",
              "      <td>6.0</td>\n",
              "      <td>0.310</td>\n",
              "      <td>0.47</td>\n",
              "      <td>3.6</td>\n",
              "      <td>0.067</td>\n",
              "      <td>18.0</td>\n",
              "      <td>42.0</td>\n",
              "      <td>0.99549</td>\n",
              "      <td>3.39</td>\n",
              "      <td>0.66</td>\n",
              "      <td>11.0</td>\n",
              "      <td>6</td>\n",
              "    </tr>\n",
              "  </tbody>\n",
              "</table>\n",
              "<p>799 rows × 12 columns</p>\n",
              "</div>"
            ],
            "text/plain": [
              "      fixed acidity  volatile acidity  citric acid  ...  sulphates  alcohol  quality\n",
              "0               7.4             0.700         0.00  ...       0.56      9.4        5\n",
              "3              11.2             0.280         0.56  ...       0.58      9.8        6\n",
              "4               7.4             0.700         0.00  ...       0.56      9.4        5\n",
              "5               7.4             0.660         0.00  ...       0.56      9.4        5\n",
              "6               7.9             0.600         0.06  ...       0.46      9.4        5\n",
              "...             ...               ...          ...  ...        ...      ...      ...\n",
              "1593            6.8             0.620         0.08  ...       0.82      9.5        6\n",
              "1595            5.9             0.550         0.10  ...       0.76     11.2        6\n",
              "1596            6.3             0.510         0.13  ...       0.75     11.0        6\n",
              "1597            5.9             0.645         0.12  ...       0.71     10.2        5\n",
              "1598            6.0             0.310         0.47  ...       0.66     11.0        6\n",
              "\n",
              "[799 rows x 12 columns]"
            ]
          },
          "metadata": {
            "tags": []
          },
          "execution_count": 88
        }
      ]
    },
    {
      "cell_type": "code",
      "metadata": {
        "id": "cwxOO3yh26rq",
        "colab_type": "code",
        "colab": {}
      },
      "source": [
        "df2 = df[(df['chlorides'] >= 0.04) & (df['chlorides'] < 0.08)][['pH','fixed acidity']]"
      ],
      "execution_count": 89,
      "outputs": []
    },
    {
      "cell_type": "code",
      "metadata": {
        "id": "mhzK766W26rs",
        "colab_type": "code",
        "colab": {
          "base_uri": "https://localhost:8080/",
          "height": 402
        },
        "outputId": "da769b17-a8c5-4aca-d4b0-1374311c4879"
      },
      "source": [
        "df2"
      ],
      "execution_count": 90,
      "outputs": [
        {
          "output_type": "execute_result",
          "data": {
            "text/html": [
              "<div>\n",
              "<style scoped>\n",
              "    .dataframe tbody tr th:only-of-type {\n",
              "        vertical-align: middle;\n",
              "    }\n",
              "\n",
              "    .dataframe tbody tr th {\n",
              "        vertical-align: top;\n",
              "    }\n",
              "\n",
              "    .dataframe thead th {\n",
              "        text-align: right;\n",
              "    }\n",
              "</style>\n",
              "<table border=\"1\" class=\"dataframe\">\n",
              "  <thead>\n",
              "    <tr style=\"text-align: right;\">\n",
              "      <th></th>\n",
              "      <th>pH</th>\n",
              "      <th>fixed acidity</th>\n",
              "    </tr>\n",
              "  </thead>\n",
              "  <tbody>\n",
              "    <tr>\n",
              "      <th>0</th>\n",
              "      <td>3.51</td>\n",
              "      <td>7.4</td>\n",
              "    </tr>\n",
              "    <tr>\n",
              "      <th>3</th>\n",
              "      <td>3.16</td>\n",
              "      <td>11.2</td>\n",
              "    </tr>\n",
              "    <tr>\n",
              "      <th>4</th>\n",
              "      <td>3.51</td>\n",
              "      <td>7.4</td>\n",
              "    </tr>\n",
              "    <tr>\n",
              "      <th>5</th>\n",
              "      <td>3.51</td>\n",
              "      <td>7.4</td>\n",
              "    </tr>\n",
              "    <tr>\n",
              "      <th>6</th>\n",
              "      <td>3.30</td>\n",
              "      <td>7.9</td>\n",
              "    </tr>\n",
              "    <tr>\n",
              "      <th>...</th>\n",
              "      <td>...</td>\n",
              "      <td>...</td>\n",
              "    </tr>\n",
              "    <tr>\n",
              "      <th>1593</th>\n",
              "      <td>3.42</td>\n",
              "      <td>6.8</td>\n",
              "    </tr>\n",
              "    <tr>\n",
              "      <th>1595</th>\n",
              "      <td>3.52</td>\n",
              "      <td>5.9</td>\n",
              "    </tr>\n",
              "    <tr>\n",
              "      <th>1596</th>\n",
              "      <td>3.42</td>\n",
              "      <td>6.3</td>\n",
              "    </tr>\n",
              "    <tr>\n",
              "      <th>1597</th>\n",
              "      <td>3.57</td>\n",
              "      <td>5.9</td>\n",
              "    </tr>\n",
              "    <tr>\n",
              "      <th>1598</th>\n",
              "      <td>3.39</td>\n",
              "      <td>6.0</td>\n",
              "    </tr>\n",
              "  </tbody>\n",
              "</table>\n",
              "<p>799 rows × 2 columns</p>\n",
              "</div>"
            ],
            "text/plain": [
              "        pH  fixed acidity\n",
              "0     3.51            7.4\n",
              "3     3.16           11.2\n",
              "4     3.51            7.4\n",
              "5     3.51            7.4\n",
              "6     3.30            7.9\n",
              "...    ...            ...\n",
              "1593  3.42            6.8\n",
              "1595  3.52            5.9\n",
              "1596  3.42            6.3\n",
              "1597  3.57            5.9\n",
              "1598  3.39            6.0\n",
              "\n",
              "[799 rows x 2 columns]"
            ]
          },
          "metadata": {
            "tags": []
          },
          "execution_count": 90
        }
      ]
    },
    {
      "cell_type": "code",
      "metadata": {
        "id": "CK7u5sPX26rt",
        "colab_type": "code",
        "colab": {
          "base_uri": "https://localhost:8080/",
          "height": 402
        },
        "outputId": "87c78ba5-e72c-48dc-dd05-d327ba67fab6"
      },
      "source": [
        "df2.sort_values('pH').reset_index() #Ordeno de menor a mayo el dataframe df2 obtenido en el paso anterior. Y el indice anterior lo envio como columna."
      ],
      "execution_count": 91,
      "outputs": [
        {
          "output_type": "execute_result",
          "data": {
            "text/html": [
              "<div>\n",
              "<style scoped>\n",
              "    .dataframe tbody tr th:only-of-type {\n",
              "        vertical-align: middle;\n",
              "    }\n",
              "\n",
              "    .dataframe tbody tr th {\n",
              "        vertical-align: top;\n",
              "    }\n",
              "\n",
              "    .dataframe thead th {\n",
              "        text-align: right;\n",
              "    }\n",
              "</style>\n",
              "<table border=\"1\" class=\"dataframe\">\n",
              "  <thead>\n",
              "    <tr style=\"text-align: right;\">\n",
              "      <th></th>\n",
              "      <th>index</th>\n",
              "      <th>pH</th>\n",
              "      <th>fixed acidity</th>\n",
              "    </tr>\n",
              "  </thead>\n",
              "  <tbody>\n",
              "    <tr>\n",
              "      <th>0</th>\n",
              "      <td>544</td>\n",
              "      <td>2.86</td>\n",
              "      <td>14.3</td>\n",
              "    </tr>\n",
              "    <tr>\n",
              "      <th>1</th>\n",
              "      <td>440</td>\n",
              "      <td>2.88</td>\n",
              "      <td>12.6</td>\n",
              "    </tr>\n",
              "    <tr>\n",
              "      <th>2</th>\n",
              "      <td>1017</td>\n",
              "      <td>2.89</td>\n",
              "      <td>8.0</td>\n",
              "    </tr>\n",
              "    <tr>\n",
              "      <th>3</th>\n",
              "      <td>1018</td>\n",
              "      <td>2.89</td>\n",
              "      <td>8.0</td>\n",
              "    </tr>\n",
              "    <tr>\n",
              "      <th>4</th>\n",
              "      <td>657</td>\n",
              "      <td>2.92</td>\n",
              "      <td>12.0</td>\n",
              "    </tr>\n",
              "    <tr>\n",
              "      <th>...</th>\n",
              "      <td>...</td>\n",
              "      <td>...</td>\n",
              "      <td>...</td>\n",
              "    </tr>\n",
              "    <tr>\n",
              "      <th>794</th>\n",
              "      <td>94</td>\n",
              "      <td>3.75</td>\n",
              "      <td>5.0</td>\n",
              "    </tr>\n",
              "    <tr>\n",
              "      <th>795</th>\n",
              "      <td>95</td>\n",
              "      <td>3.85</td>\n",
              "      <td>4.7</td>\n",
              "    </tr>\n",
              "    <tr>\n",
              "      <th>796</th>\n",
              "      <td>45</td>\n",
              "      <td>3.90</td>\n",
              "      <td>4.6</td>\n",
              "    </tr>\n",
              "    <tr>\n",
              "      <th>797</th>\n",
              "      <td>1316</td>\n",
              "      <td>4.01</td>\n",
              "      <td>5.4</td>\n",
              "    </tr>\n",
              "    <tr>\n",
              "      <th>798</th>\n",
              "      <td>1321</td>\n",
              "      <td>4.01</td>\n",
              "      <td>5.0</td>\n",
              "    </tr>\n",
              "  </tbody>\n",
              "</table>\n",
              "<p>799 rows × 3 columns</p>\n",
              "</div>"
            ],
            "text/plain": [
              "     index    pH  fixed acidity\n",
              "0      544  2.86           14.3\n",
              "1      440  2.88           12.6\n",
              "2     1017  2.89            8.0\n",
              "3     1018  2.89            8.0\n",
              "4      657  2.92           12.0\n",
              "..     ...   ...            ...\n",
              "794     94  3.75            5.0\n",
              "795     95  3.85            4.7\n",
              "796     45  3.90            4.6\n",
              "797   1316  4.01            5.4\n",
              "798   1321  4.01            5.0\n",
              "\n",
              "[799 rows x 3 columns]"
            ]
          },
          "metadata": {
            "tags": []
          },
          "execution_count": 91
        }
      ]
    },
    {
      "cell_type": "code",
      "metadata": {
        "scrolled": true,
        "id": "HX-0PKOx26rz",
        "colab_type": "code",
        "colab": {
          "base_uri": "https://localhost:8080/",
          "height": 402
        },
        "outputId": "6b53a3f9-c72a-47de-852a-c5ea2a7f94c4"
      },
      "source": [
        "df2.sort_values('pH').reset_index(drop=True) #Ordeno de menor a mayo el dataframe df2 obtenido anterior. Y el indice anterior es eliminado"
      ],
      "execution_count": 92,
      "outputs": [
        {
          "output_type": "execute_result",
          "data": {
            "text/html": [
              "<div>\n",
              "<style scoped>\n",
              "    .dataframe tbody tr th:only-of-type {\n",
              "        vertical-align: middle;\n",
              "    }\n",
              "\n",
              "    .dataframe tbody tr th {\n",
              "        vertical-align: top;\n",
              "    }\n",
              "\n",
              "    .dataframe thead th {\n",
              "        text-align: right;\n",
              "    }\n",
              "</style>\n",
              "<table border=\"1\" class=\"dataframe\">\n",
              "  <thead>\n",
              "    <tr style=\"text-align: right;\">\n",
              "      <th></th>\n",
              "      <th>pH</th>\n",
              "      <th>fixed acidity</th>\n",
              "    </tr>\n",
              "  </thead>\n",
              "  <tbody>\n",
              "    <tr>\n",
              "      <th>0</th>\n",
              "      <td>2.86</td>\n",
              "      <td>14.3</td>\n",
              "    </tr>\n",
              "    <tr>\n",
              "      <th>1</th>\n",
              "      <td>2.88</td>\n",
              "      <td>12.6</td>\n",
              "    </tr>\n",
              "    <tr>\n",
              "      <th>2</th>\n",
              "      <td>2.89</td>\n",
              "      <td>8.0</td>\n",
              "    </tr>\n",
              "    <tr>\n",
              "      <th>3</th>\n",
              "      <td>2.89</td>\n",
              "      <td>8.0</td>\n",
              "    </tr>\n",
              "    <tr>\n",
              "      <th>4</th>\n",
              "      <td>2.92</td>\n",
              "      <td>12.0</td>\n",
              "    </tr>\n",
              "    <tr>\n",
              "      <th>...</th>\n",
              "      <td>...</td>\n",
              "      <td>...</td>\n",
              "    </tr>\n",
              "    <tr>\n",
              "      <th>794</th>\n",
              "      <td>3.75</td>\n",
              "      <td>5.0</td>\n",
              "    </tr>\n",
              "    <tr>\n",
              "      <th>795</th>\n",
              "      <td>3.85</td>\n",
              "      <td>4.7</td>\n",
              "    </tr>\n",
              "    <tr>\n",
              "      <th>796</th>\n",
              "      <td>3.90</td>\n",
              "      <td>4.6</td>\n",
              "    </tr>\n",
              "    <tr>\n",
              "      <th>797</th>\n",
              "      <td>4.01</td>\n",
              "      <td>5.4</td>\n",
              "    </tr>\n",
              "    <tr>\n",
              "      <th>798</th>\n",
              "      <td>4.01</td>\n",
              "      <td>5.0</td>\n",
              "    </tr>\n",
              "  </tbody>\n",
              "</table>\n",
              "<p>799 rows × 2 columns</p>\n",
              "</div>"
            ],
            "text/plain": [
              "       pH  fixed acidity\n",
              "0    2.86           14.3\n",
              "1    2.88           12.6\n",
              "2    2.89            8.0\n",
              "3    2.89            8.0\n",
              "4    2.92           12.0\n",
              "..    ...            ...\n",
              "794  3.75            5.0\n",
              "795  3.85            4.7\n",
              "796  3.90            4.6\n",
              "797  4.01            5.4\n",
              "798  4.01            5.0\n",
              "\n",
              "[799 rows x 2 columns]"
            ]
          },
          "metadata": {
            "tags": []
          },
          "execution_count": 92
        }
      ]
    },
    {
      "cell_type": "markdown",
      "metadata": {
        "id": "ry4bdIx-26r1",
        "colab_type": "text"
      },
      "source": [
        "# Groupby"
      ]
    },
    {
      "cell_type": "code",
      "metadata": {
        "id": "4SI_F5K726r2",
        "colab_type": "code",
        "colab": {
          "base_uri": "https://localhost:8080/",
          "height": 195
        },
        "outputId": "f6915f61-25b9-4468-8441-8f7248df41e1"
      },
      "source": [
        "df.head() #Imprimo mi dataframe de referencia"
      ],
      "execution_count": 93,
      "outputs": [
        {
          "output_type": "execute_result",
          "data": {
            "text/html": [
              "<div>\n",
              "<style scoped>\n",
              "    .dataframe tbody tr th:only-of-type {\n",
              "        vertical-align: middle;\n",
              "    }\n",
              "\n",
              "    .dataframe tbody tr th {\n",
              "        vertical-align: top;\n",
              "    }\n",
              "\n",
              "    .dataframe thead th {\n",
              "        text-align: right;\n",
              "    }\n",
              "</style>\n",
              "<table border=\"1\" class=\"dataframe\">\n",
              "  <thead>\n",
              "    <tr style=\"text-align: right;\">\n",
              "      <th></th>\n",
              "      <th>fixed acidity</th>\n",
              "      <th>volatile acidity</th>\n",
              "      <th>citric acid</th>\n",
              "      <th>residual sugar</th>\n",
              "      <th>chlorides</th>\n",
              "      <th>free sulfur dioxide</th>\n",
              "      <th>total sulfur dioxide</th>\n",
              "      <th>density</th>\n",
              "      <th>pH</th>\n",
              "      <th>sulphates</th>\n",
              "      <th>alcohol</th>\n",
              "      <th>quality</th>\n",
              "    </tr>\n",
              "  </thead>\n",
              "  <tbody>\n",
              "    <tr>\n",
              "      <th>0</th>\n",
              "      <td>7.4</td>\n",
              "      <td>0.70</td>\n",
              "      <td>0.00</td>\n",
              "      <td>1.9</td>\n",
              "      <td>0.076</td>\n",
              "      <td>11.0</td>\n",
              "      <td>34.0</td>\n",
              "      <td>0.9978</td>\n",
              "      <td>3.51</td>\n",
              "      <td>0.56</td>\n",
              "      <td>9.4</td>\n",
              "      <td>5</td>\n",
              "    </tr>\n",
              "    <tr>\n",
              "      <th>1</th>\n",
              "      <td>7.8</td>\n",
              "      <td>0.88</td>\n",
              "      <td>0.00</td>\n",
              "      <td>2.6</td>\n",
              "      <td>0.098</td>\n",
              "      <td>25.0</td>\n",
              "      <td>67.0</td>\n",
              "      <td>0.9968</td>\n",
              "      <td>3.20</td>\n",
              "      <td>0.68</td>\n",
              "      <td>9.8</td>\n",
              "      <td>5</td>\n",
              "    </tr>\n",
              "    <tr>\n",
              "      <th>2</th>\n",
              "      <td>7.8</td>\n",
              "      <td>0.76</td>\n",
              "      <td>0.04</td>\n",
              "      <td>2.3</td>\n",
              "      <td>0.092</td>\n",
              "      <td>15.0</td>\n",
              "      <td>54.0</td>\n",
              "      <td>0.9970</td>\n",
              "      <td>3.26</td>\n",
              "      <td>0.65</td>\n",
              "      <td>9.8</td>\n",
              "      <td>5</td>\n",
              "    </tr>\n",
              "    <tr>\n",
              "      <th>3</th>\n",
              "      <td>11.2</td>\n",
              "      <td>0.28</td>\n",
              "      <td>0.56</td>\n",
              "      <td>1.9</td>\n",
              "      <td>0.075</td>\n",
              "      <td>17.0</td>\n",
              "      <td>60.0</td>\n",
              "      <td>0.9980</td>\n",
              "      <td>3.16</td>\n",
              "      <td>0.58</td>\n",
              "      <td>9.8</td>\n",
              "      <td>6</td>\n",
              "    </tr>\n",
              "    <tr>\n",
              "      <th>4</th>\n",
              "      <td>7.4</td>\n",
              "      <td>0.70</td>\n",
              "      <td>0.00</td>\n",
              "      <td>1.9</td>\n",
              "      <td>0.076</td>\n",
              "      <td>11.0</td>\n",
              "      <td>34.0</td>\n",
              "      <td>0.9978</td>\n",
              "      <td>3.51</td>\n",
              "      <td>0.56</td>\n",
              "      <td>9.4</td>\n",
              "      <td>5</td>\n",
              "    </tr>\n",
              "  </tbody>\n",
              "</table>\n",
              "</div>"
            ],
            "text/plain": [
              "   fixed acidity  volatile acidity  citric acid  ...  sulphates  alcohol  quality\n",
              "0            7.4              0.70         0.00  ...       0.56      9.4        5\n",
              "1            7.8              0.88         0.00  ...       0.68      9.8        5\n",
              "2            7.8              0.76         0.04  ...       0.65      9.8        5\n",
              "3           11.2              0.28         0.56  ...       0.58      9.8        6\n",
              "4            7.4              0.70         0.00  ...       0.56      9.4        5\n",
              "\n",
              "[5 rows x 12 columns]"
            ]
          },
          "metadata": {
            "tags": []
          },
          "execution_count": 93
        }
      ]
    },
    {
      "cell_type": "code",
      "metadata": {
        "id": "wpmMpALW26r3",
        "colab_type": "code",
        "colab": {
          "base_uri": "https://localhost:8080/",
          "height": 34
        },
        "outputId": "71b7af1d-f668-4d11-eca0-460091650524"
      },
      "source": [
        "g = df.groupby('quality')# Tenga en cuenta que esto nos devuelve un objeto groupby. En realidad no devuélve algo útil hasta que realicemos alguna agregación en él.\n",
        "g"
      ],
      "execution_count": 94,
      "outputs": [
        {
          "output_type": "execute_result",
          "data": {
            "text/plain": [
              "<pandas.core.groupby.generic.DataFrameGroupBy object at 0x7f2b4581da20>"
            ]
          },
          "metadata": {
            "tags": []
          },
          "execution_count": 94
        }
      ]
    },
    {
      "cell_type": "code",
      "metadata": {
        "id": "RCHtCKfk26r5",
        "colab_type": "code",
        "colab": {
          "base_uri": "https://localhost:8080/",
          "height": 158
        },
        "outputId": "d3665737-b3b8-4e89-e23f-9f8c87d99f50"
      },
      "source": [
        "g.max()['density']"
      ],
      "execution_count": 95,
      "outputs": [
        {
          "output_type": "execute_result",
          "data": {
            "text/plain": [
              "quality\n",
              "3    1.00080\n",
              "4    1.00100\n",
              "5    1.00315\n",
              "6    1.00369\n",
              "7    1.00320\n",
              "8    0.99880\n",
              "Name: density, dtype: float64"
            ]
          },
          "metadata": {
            "tags": []
          },
          "execution_count": 95
        }
      ]
    },
    {
      "cell_type": "code",
      "metadata": {
        "id": "fez2jGqS26sA",
        "colab_type": "code",
        "colab": {
          "base_uri": "https://localhost:8080/",
          "height": 246
        },
        "outputId": "bacad57d-57b5-4857-9060-a527bc6525b4"
      },
      "source": [
        "# Tenga en cuenta que también podemos agrupar por columnas multiples pasándolas en una lista. Agrupará por\n",
        "# la primera columna que pase primero, y luego la segunda\n",
        "df2 = df.groupby(['pH', 'quality']).count()['chlorides']\n",
        "\n",
        "df2"
      ],
      "execution_count": 96,
      "outputs": [
        {
          "output_type": "execute_result",
          "data": {
            "text/plain": [
              "pH    quality\n",
              "2.74  4          1\n",
              "2.86  6          1\n",
              "2.87  6          1\n",
              "2.88  5          1\n",
              "      8          1\n",
              "                ..\n",
              "3.78  7          1\n",
              "3.85  6          1\n",
              "3.90  4          1\n",
              "      6          1\n",
              "4.01  6          2\n",
              "Name: chlorides, Length: 270, dtype: int64"
            ]
          },
          "metadata": {
            "tags": []
          },
          "execution_count": 96
        }
      ]
    },
    {
      "cell_type": "markdown",
      "metadata": {
        "id": "Acj5wqOx26sD",
        "colab_type": "text"
      },
      "source": [
        "# Removiendo columnas"
      ]
    },
    {
      "cell_type": "code",
      "metadata": {
        "id": "PrypbDlT26sD",
        "colab_type": "code",
        "colab": {}
      },
      "source": [
        "# agrego una columna computada\n",
        "df['pct_free_sulf'] = df['free sulfur dioxide'] / df['total sulfur dioxide']"
      ],
      "execution_count": 97,
      "outputs": []
    },
    {
      "cell_type": "code",
      "metadata": {
        "id": "u6gdTRNg26sE",
        "colab_type": "code",
        "colab": {
          "base_uri": "https://localhost:8080/",
          "height": 402
        },
        "outputId": "1254b726-c68f-45df-ee2c-cf7a3f2600a6"
      },
      "source": [
        "df"
      ],
      "execution_count": 98,
      "outputs": [
        {
          "output_type": "execute_result",
          "data": {
            "text/html": [
              "<div>\n",
              "<style scoped>\n",
              "    .dataframe tbody tr th:only-of-type {\n",
              "        vertical-align: middle;\n",
              "    }\n",
              "\n",
              "    .dataframe tbody tr th {\n",
              "        vertical-align: top;\n",
              "    }\n",
              "\n",
              "    .dataframe thead th {\n",
              "        text-align: right;\n",
              "    }\n",
              "</style>\n",
              "<table border=\"1\" class=\"dataframe\">\n",
              "  <thead>\n",
              "    <tr style=\"text-align: right;\">\n",
              "      <th></th>\n",
              "      <th>fixed acidity</th>\n",
              "      <th>volatile acidity</th>\n",
              "      <th>citric acid</th>\n",
              "      <th>residual sugar</th>\n",
              "      <th>chlorides</th>\n",
              "      <th>free sulfur dioxide</th>\n",
              "      <th>total sulfur dioxide</th>\n",
              "      <th>density</th>\n",
              "      <th>pH</th>\n",
              "      <th>sulphates</th>\n",
              "      <th>alcohol</th>\n",
              "      <th>quality</th>\n",
              "      <th>pct_free_sulf</th>\n",
              "    </tr>\n",
              "  </thead>\n",
              "  <tbody>\n",
              "    <tr>\n",
              "      <th>0</th>\n",
              "      <td>7.4</td>\n",
              "      <td>0.700</td>\n",
              "      <td>0.00</td>\n",
              "      <td>1.9</td>\n",
              "      <td>0.076</td>\n",
              "      <td>11.0</td>\n",
              "      <td>34.0</td>\n",
              "      <td>0.99780</td>\n",
              "      <td>3.51</td>\n",
              "      <td>0.56</td>\n",
              "      <td>9.4</td>\n",
              "      <td>5</td>\n",
              "      <td>0.323529</td>\n",
              "    </tr>\n",
              "    <tr>\n",
              "      <th>1</th>\n",
              "      <td>7.8</td>\n",
              "      <td>0.880</td>\n",
              "      <td>0.00</td>\n",
              "      <td>2.6</td>\n",
              "      <td>0.098</td>\n",
              "      <td>25.0</td>\n",
              "      <td>67.0</td>\n",
              "      <td>0.99680</td>\n",
              "      <td>3.20</td>\n",
              "      <td>0.68</td>\n",
              "      <td>9.8</td>\n",
              "      <td>5</td>\n",
              "      <td>0.373134</td>\n",
              "    </tr>\n",
              "    <tr>\n",
              "      <th>2</th>\n",
              "      <td>7.8</td>\n",
              "      <td>0.760</td>\n",
              "      <td>0.04</td>\n",
              "      <td>2.3</td>\n",
              "      <td>0.092</td>\n",
              "      <td>15.0</td>\n",
              "      <td>54.0</td>\n",
              "      <td>0.99700</td>\n",
              "      <td>3.26</td>\n",
              "      <td>0.65</td>\n",
              "      <td>9.8</td>\n",
              "      <td>5</td>\n",
              "      <td>0.277778</td>\n",
              "    </tr>\n",
              "    <tr>\n",
              "      <th>3</th>\n",
              "      <td>11.2</td>\n",
              "      <td>0.280</td>\n",
              "      <td>0.56</td>\n",
              "      <td>1.9</td>\n",
              "      <td>0.075</td>\n",
              "      <td>17.0</td>\n",
              "      <td>60.0</td>\n",
              "      <td>0.99800</td>\n",
              "      <td>3.16</td>\n",
              "      <td>0.58</td>\n",
              "      <td>9.8</td>\n",
              "      <td>6</td>\n",
              "      <td>0.283333</td>\n",
              "    </tr>\n",
              "    <tr>\n",
              "      <th>4</th>\n",
              "      <td>7.4</td>\n",
              "      <td>0.700</td>\n",
              "      <td>0.00</td>\n",
              "      <td>1.9</td>\n",
              "      <td>0.076</td>\n",
              "      <td>11.0</td>\n",
              "      <td>34.0</td>\n",
              "      <td>0.99780</td>\n",
              "      <td>3.51</td>\n",
              "      <td>0.56</td>\n",
              "      <td>9.4</td>\n",
              "      <td>5</td>\n",
              "      <td>0.323529</td>\n",
              "    </tr>\n",
              "    <tr>\n",
              "      <th>...</th>\n",
              "      <td>...</td>\n",
              "      <td>...</td>\n",
              "      <td>...</td>\n",
              "      <td>...</td>\n",
              "      <td>...</td>\n",
              "      <td>...</td>\n",
              "      <td>...</td>\n",
              "      <td>...</td>\n",
              "      <td>...</td>\n",
              "      <td>...</td>\n",
              "      <td>...</td>\n",
              "      <td>...</td>\n",
              "      <td>...</td>\n",
              "    </tr>\n",
              "    <tr>\n",
              "      <th>1594</th>\n",
              "      <td>6.2</td>\n",
              "      <td>0.600</td>\n",
              "      <td>0.08</td>\n",
              "      <td>2.0</td>\n",
              "      <td>0.090</td>\n",
              "      <td>32.0</td>\n",
              "      <td>44.0</td>\n",
              "      <td>0.99490</td>\n",
              "      <td>3.45</td>\n",
              "      <td>0.58</td>\n",
              "      <td>10.5</td>\n",
              "      <td>5</td>\n",
              "      <td>0.727273</td>\n",
              "    </tr>\n",
              "    <tr>\n",
              "      <th>1595</th>\n",
              "      <td>5.9</td>\n",
              "      <td>0.550</td>\n",
              "      <td>0.10</td>\n",
              "      <td>2.2</td>\n",
              "      <td>0.062</td>\n",
              "      <td>39.0</td>\n",
              "      <td>51.0</td>\n",
              "      <td>0.99512</td>\n",
              "      <td>3.52</td>\n",
              "      <td>0.76</td>\n",
              "      <td>11.2</td>\n",
              "      <td>6</td>\n",
              "      <td>0.764706</td>\n",
              "    </tr>\n",
              "    <tr>\n",
              "      <th>1596</th>\n",
              "      <td>6.3</td>\n",
              "      <td>0.510</td>\n",
              "      <td>0.13</td>\n",
              "      <td>2.3</td>\n",
              "      <td>0.076</td>\n",
              "      <td>29.0</td>\n",
              "      <td>40.0</td>\n",
              "      <td>0.99574</td>\n",
              "      <td>3.42</td>\n",
              "      <td>0.75</td>\n",
              "      <td>11.0</td>\n",
              "      <td>6</td>\n",
              "      <td>0.725000</td>\n",
              "    </tr>\n",
              "    <tr>\n",
              "      <th>1597</th>\n",
              "      <td>5.9</td>\n",
              "      <td>0.645</td>\n",
              "      <td>0.12</td>\n",
              "      <td>2.0</td>\n",
              "      <td>0.075</td>\n",
              "      <td>32.0</td>\n",
              "      <td>44.0</td>\n",
              "      <td>0.99547</td>\n",
              "      <td>3.57</td>\n",
              "      <td>0.71</td>\n",
              "      <td>10.2</td>\n",
              "      <td>5</td>\n",
              "      <td>0.727273</td>\n",
              "    </tr>\n",
              "    <tr>\n",
              "      <th>1598</th>\n",
              "      <td>6.0</td>\n",
              "      <td>0.310</td>\n",
              "      <td>0.47</td>\n",
              "      <td>3.6</td>\n",
              "      <td>0.067</td>\n",
              "      <td>18.0</td>\n",
              "      <td>42.0</td>\n",
              "      <td>0.99549</td>\n",
              "      <td>3.39</td>\n",
              "      <td>0.66</td>\n",
              "      <td>11.0</td>\n",
              "      <td>6</td>\n",
              "      <td>0.428571</td>\n",
              "    </tr>\n",
              "  </tbody>\n",
              "</table>\n",
              "<p>1599 rows × 13 columns</p>\n",
              "</div>"
            ],
            "text/plain": [
              "      fixed acidity  volatile acidity  ...  quality  pct_free_sulf\n",
              "0               7.4             0.700  ...        5       0.323529\n",
              "1               7.8             0.880  ...        5       0.373134\n",
              "2               7.8             0.760  ...        5       0.277778\n",
              "3              11.2             0.280  ...        6       0.283333\n",
              "4               7.4             0.700  ...        5       0.323529\n",
              "...             ...               ...  ...      ...            ...\n",
              "1594            6.2             0.600  ...        5       0.727273\n",
              "1595            5.9             0.550  ...        6       0.764706\n",
              "1596            6.3             0.510  ...        6       0.725000\n",
              "1597            5.9             0.645  ...        5       0.727273\n",
              "1598            6.0             0.310  ...        6       0.428571\n",
              "\n",
              "[1599 rows x 13 columns]"
            ]
          },
          "metadata": {
            "tags": []
          },
          "execution_count": 98
        }
      ]
    },
    {
      "cell_type": "code",
      "metadata": {
        "id": "UUqgV_fV26sG",
        "colab_type": "code",
        "colab": {}
      },
      "source": [
        "# eliminando columnas"
      ],
      "execution_count": 99,
      "outputs": []
    },
    {
      "cell_type": "code",
      "metadata": {
        "id": "KH8lN69626sI",
        "colab_type": "code",
        "colab": {
          "base_uri": "https://localhost:8080/",
          "height": 402
        },
        "outputId": "0e6fcd3a-bac9-42be-d34a-0cd68d39644d"
      },
      "source": [
        "df.drop('pct_free_sulf', axis = 1)"
      ],
      "execution_count": 100,
      "outputs": [
        {
          "output_type": "execute_result",
          "data": {
            "text/html": [
              "<div>\n",
              "<style scoped>\n",
              "    .dataframe tbody tr th:only-of-type {\n",
              "        vertical-align: middle;\n",
              "    }\n",
              "\n",
              "    .dataframe tbody tr th {\n",
              "        vertical-align: top;\n",
              "    }\n",
              "\n",
              "    .dataframe thead th {\n",
              "        text-align: right;\n",
              "    }\n",
              "</style>\n",
              "<table border=\"1\" class=\"dataframe\">\n",
              "  <thead>\n",
              "    <tr style=\"text-align: right;\">\n",
              "      <th></th>\n",
              "      <th>fixed acidity</th>\n",
              "      <th>volatile acidity</th>\n",
              "      <th>citric acid</th>\n",
              "      <th>residual sugar</th>\n",
              "      <th>chlorides</th>\n",
              "      <th>free sulfur dioxide</th>\n",
              "      <th>total sulfur dioxide</th>\n",
              "      <th>density</th>\n",
              "      <th>pH</th>\n",
              "      <th>sulphates</th>\n",
              "      <th>alcohol</th>\n",
              "      <th>quality</th>\n",
              "    </tr>\n",
              "  </thead>\n",
              "  <tbody>\n",
              "    <tr>\n",
              "      <th>0</th>\n",
              "      <td>7.4</td>\n",
              "      <td>0.700</td>\n",
              "      <td>0.00</td>\n",
              "      <td>1.9</td>\n",
              "      <td>0.076</td>\n",
              "      <td>11.0</td>\n",
              "      <td>34.0</td>\n",
              "      <td>0.99780</td>\n",
              "      <td>3.51</td>\n",
              "      <td>0.56</td>\n",
              "      <td>9.4</td>\n",
              "      <td>5</td>\n",
              "    </tr>\n",
              "    <tr>\n",
              "      <th>1</th>\n",
              "      <td>7.8</td>\n",
              "      <td>0.880</td>\n",
              "      <td>0.00</td>\n",
              "      <td>2.6</td>\n",
              "      <td>0.098</td>\n",
              "      <td>25.0</td>\n",
              "      <td>67.0</td>\n",
              "      <td>0.99680</td>\n",
              "      <td>3.20</td>\n",
              "      <td>0.68</td>\n",
              "      <td>9.8</td>\n",
              "      <td>5</td>\n",
              "    </tr>\n",
              "    <tr>\n",
              "      <th>2</th>\n",
              "      <td>7.8</td>\n",
              "      <td>0.760</td>\n",
              "      <td>0.04</td>\n",
              "      <td>2.3</td>\n",
              "      <td>0.092</td>\n",
              "      <td>15.0</td>\n",
              "      <td>54.0</td>\n",
              "      <td>0.99700</td>\n",
              "      <td>3.26</td>\n",
              "      <td>0.65</td>\n",
              "      <td>9.8</td>\n",
              "      <td>5</td>\n",
              "    </tr>\n",
              "    <tr>\n",
              "      <th>3</th>\n",
              "      <td>11.2</td>\n",
              "      <td>0.280</td>\n",
              "      <td>0.56</td>\n",
              "      <td>1.9</td>\n",
              "      <td>0.075</td>\n",
              "      <td>17.0</td>\n",
              "      <td>60.0</td>\n",
              "      <td>0.99800</td>\n",
              "      <td>3.16</td>\n",
              "      <td>0.58</td>\n",
              "      <td>9.8</td>\n",
              "      <td>6</td>\n",
              "    </tr>\n",
              "    <tr>\n",
              "      <th>4</th>\n",
              "      <td>7.4</td>\n",
              "      <td>0.700</td>\n",
              "      <td>0.00</td>\n",
              "      <td>1.9</td>\n",
              "      <td>0.076</td>\n",
              "      <td>11.0</td>\n",
              "      <td>34.0</td>\n",
              "      <td>0.99780</td>\n",
              "      <td>3.51</td>\n",
              "      <td>0.56</td>\n",
              "      <td>9.4</td>\n",
              "      <td>5</td>\n",
              "    </tr>\n",
              "    <tr>\n",
              "      <th>...</th>\n",
              "      <td>...</td>\n",
              "      <td>...</td>\n",
              "      <td>...</td>\n",
              "      <td>...</td>\n",
              "      <td>...</td>\n",
              "      <td>...</td>\n",
              "      <td>...</td>\n",
              "      <td>...</td>\n",
              "      <td>...</td>\n",
              "      <td>...</td>\n",
              "      <td>...</td>\n",
              "      <td>...</td>\n",
              "    </tr>\n",
              "    <tr>\n",
              "      <th>1594</th>\n",
              "      <td>6.2</td>\n",
              "      <td>0.600</td>\n",
              "      <td>0.08</td>\n",
              "      <td>2.0</td>\n",
              "      <td>0.090</td>\n",
              "      <td>32.0</td>\n",
              "      <td>44.0</td>\n",
              "      <td>0.99490</td>\n",
              "      <td>3.45</td>\n",
              "      <td>0.58</td>\n",
              "      <td>10.5</td>\n",
              "      <td>5</td>\n",
              "    </tr>\n",
              "    <tr>\n",
              "      <th>1595</th>\n",
              "      <td>5.9</td>\n",
              "      <td>0.550</td>\n",
              "      <td>0.10</td>\n",
              "      <td>2.2</td>\n",
              "      <td>0.062</td>\n",
              "      <td>39.0</td>\n",
              "      <td>51.0</td>\n",
              "      <td>0.99512</td>\n",
              "      <td>3.52</td>\n",
              "      <td>0.76</td>\n",
              "      <td>11.2</td>\n",
              "      <td>6</td>\n",
              "    </tr>\n",
              "    <tr>\n",
              "      <th>1596</th>\n",
              "      <td>6.3</td>\n",
              "      <td>0.510</td>\n",
              "      <td>0.13</td>\n",
              "      <td>2.3</td>\n",
              "      <td>0.076</td>\n",
              "      <td>29.0</td>\n",
              "      <td>40.0</td>\n",
              "      <td>0.99574</td>\n",
              "      <td>3.42</td>\n",
              "      <td>0.75</td>\n",
              "      <td>11.0</td>\n",
              "      <td>6</td>\n",
              "    </tr>\n",
              "    <tr>\n",
              "      <th>1597</th>\n",
              "      <td>5.9</td>\n",
              "      <td>0.645</td>\n",
              "      <td>0.12</td>\n",
              "      <td>2.0</td>\n",
              "      <td>0.075</td>\n",
              "      <td>32.0</td>\n",
              "      <td>44.0</td>\n",
              "      <td>0.99547</td>\n",
              "      <td>3.57</td>\n",
              "      <td>0.71</td>\n",
              "      <td>10.2</td>\n",
              "      <td>5</td>\n",
              "    </tr>\n",
              "    <tr>\n",
              "      <th>1598</th>\n",
              "      <td>6.0</td>\n",
              "      <td>0.310</td>\n",
              "      <td>0.47</td>\n",
              "      <td>3.6</td>\n",
              "      <td>0.067</td>\n",
              "      <td>18.0</td>\n",
              "      <td>42.0</td>\n",
              "      <td>0.99549</td>\n",
              "      <td>3.39</td>\n",
              "      <td>0.66</td>\n",
              "      <td>11.0</td>\n",
              "      <td>6</td>\n",
              "    </tr>\n",
              "  </tbody>\n",
              "</table>\n",
              "<p>1599 rows × 12 columns</p>\n",
              "</div>"
            ],
            "text/plain": [
              "      fixed acidity  volatile acidity  citric acid  ...  sulphates  alcohol  quality\n",
              "0               7.4             0.700         0.00  ...       0.56      9.4        5\n",
              "1               7.8             0.880         0.00  ...       0.68      9.8        5\n",
              "2               7.8             0.760         0.04  ...       0.65      9.8        5\n",
              "3              11.2             0.280         0.56  ...       0.58      9.8        6\n",
              "4               7.4             0.700         0.00  ...       0.56      9.4        5\n",
              "...             ...               ...          ...  ...        ...      ...      ...\n",
              "1594            6.2             0.600         0.08  ...       0.58     10.5        5\n",
              "1595            5.9             0.550         0.10  ...       0.76     11.2        6\n",
              "1596            6.3             0.510         0.13  ...       0.75     11.0        6\n",
              "1597            5.9             0.645         0.12  ...       0.71     10.2        5\n",
              "1598            6.0             0.310         0.47  ...       0.66     11.0        6\n",
              "\n",
              "[1599 rows x 12 columns]"
            ]
          },
          "metadata": {
            "tags": []
          },
          "execution_count": 100
        }
      ]
    },
    {
      "cell_type": "code",
      "metadata": {
        "id": "vf5OduwB26sJ",
        "colab_type": "code",
        "colab": {
          "base_uri": "https://localhost:8080/",
          "height": 87
        },
        "outputId": "c1d3d61f-da43-4acb-8eb4-e08e3feae8e9"
      },
      "source": [
        "df.columns"
      ],
      "execution_count": 101,
      "outputs": [
        {
          "output_type": "execute_result",
          "data": {
            "text/plain": [
              "Index(['fixed acidity', 'volatile acidity', 'citric acid', 'residual sugar',\n",
              "       'chlorides', 'free sulfur dioxide', 'total sulfur dioxide', 'density',\n",
              "       'pH', 'sulphates', 'alcohol', 'quality', 'pct_free_sulf'],\n",
              "      dtype='object')"
            ]
          },
          "metadata": {
            "tags": []
          },
          "execution_count": 101
        }
      ]
    },
    {
      "cell_type": "markdown",
      "metadata": {
        "id": "isoTbscK26sT",
        "colab_type": "text"
      },
      "source": [
        "# Administrando Valor Faltantes\n",
        "* http://pandas.pydata.org/pandas-docs/stable/missing_data.html"
      ]
    },
    {
      "cell_type": "code",
      "metadata": {
        "id": "mIM6H7zS26sT",
        "colab_type": "code",
        "colab": {
          "base_uri": "https://localhost:8080/",
          "height": 106
        },
        "outputId": "6ad9f52c-f368-46e8-e6e1-ee9731b734c2"
      },
      "source": [
        "miss_val_df = pd.DataFrame(\n",
        "    [[1, 2, 3], [4, np.nan, 6]], \n",
        "    columns=['a', 'b', 'c'], \n",
        "    index=['foo', 'bar'])\n",
        "miss_val_df"
      ],
      "execution_count": 102,
      "outputs": [
        {
          "output_type": "execute_result",
          "data": {
            "text/html": [
              "<div>\n",
              "<style scoped>\n",
              "    .dataframe tbody tr th:only-of-type {\n",
              "        vertical-align: middle;\n",
              "    }\n",
              "\n",
              "    .dataframe tbody tr th {\n",
              "        vertical-align: top;\n",
              "    }\n",
              "\n",
              "    .dataframe thead th {\n",
              "        text-align: right;\n",
              "    }\n",
              "</style>\n",
              "<table border=\"1\" class=\"dataframe\">\n",
              "  <thead>\n",
              "    <tr style=\"text-align: right;\">\n",
              "      <th></th>\n",
              "      <th>a</th>\n",
              "      <th>b</th>\n",
              "      <th>c</th>\n",
              "    </tr>\n",
              "  </thead>\n",
              "  <tbody>\n",
              "    <tr>\n",
              "      <th>foo</th>\n",
              "      <td>1</td>\n",
              "      <td>2.0</td>\n",
              "      <td>3</td>\n",
              "    </tr>\n",
              "    <tr>\n",
              "      <th>bar</th>\n",
              "      <td>4</td>\n",
              "      <td>NaN</td>\n",
              "      <td>6</td>\n",
              "    </tr>\n",
              "  </tbody>\n",
              "</table>\n",
              "</div>"
            ],
            "text/plain": [
              "     a    b  c\n",
              "foo  1  2.0  3\n",
              "bar  4  NaN  6"
            ]
          },
          "metadata": {
            "tags": []
          },
          "execution_count": 102
        }
      ]
    },
    {
      "cell_type": "code",
      "metadata": {
        "id": "hpqllJHt26sW",
        "colab_type": "code",
        "colab": {
          "base_uri": "https://localhost:8080/",
          "height": 106
        },
        "outputId": "9432d6bb-6e6a-4aee-e177-64f1ac4a1beb"
      },
      "source": [
        "miss_val_df.fillna(10) #Lleno el falor NaN con valor 10"
      ],
      "execution_count": 103,
      "outputs": [
        {
          "output_type": "execute_result",
          "data": {
            "text/html": [
              "<div>\n",
              "<style scoped>\n",
              "    .dataframe tbody tr th:only-of-type {\n",
              "        vertical-align: middle;\n",
              "    }\n",
              "\n",
              "    .dataframe tbody tr th {\n",
              "        vertical-align: top;\n",
              "    }\n",
              "\n",
              "    .dataframe thead th {\n",
              "        text-align: right;\n",
              "    }\n",
              "</style>\n",
              "<table border=\"1\" class=\"dataframe\">\n",
              "  <thead>\n",
              "    <tr style=\"text-align: right;\">\n",
              "      <th></th>\n",
              "      <th>a</th>\n",
              "      <th>b</th>\n",
              "      <th>c</th>\n",
              "    </tr>\n",
              "  </thead>\n",
              "  <tbody>\n",
              "    <tr>\n",
              "      <th>foo</th>\n",
              "      <td>1</td>\n",
              "      <td>2.0</td>\n",
              "      <td>3</td>\n",
              "    </tr>\n",
              "    <tr>\n",
              "      <th>bar</th>\n",
              "      <td>4</td>\n",
              "      <td>10.0</td>\n",
              "      <td>6</td>\n",
              "    </tr>\n",
              "  </tbody>\n",
              "</table>\n",
              "</div>"
            ],
            "text/plain": [
              "     a     b  c\n",
              "foo  1   2.0  3\n",
              "bar  4  10.0  6"
            ]
          },
          "metadata": {
            "tags": []
          },
          "execution_count": 103
        }
      ]
    },
    {
      "cell_type": "code",
      "metadata": {
        "id": "LMUuBaEZ26sa",
        "colab_type": "code",
        "colab": {
          "base_uri": "https://localhost:8080/",
          "height": 106
        },
        "outputId": "f495789e-500a-42d1-e702-fb8260f2d91d"
      },
      "source": [
        "miss_val_df #Solo que no queda guardado en el dataframe"
      ],
      "execution_count": 105,
      "outputs": [
        {
          "output_type": "execute_result",
          "data": {
            "text/html": [
              "<div>\n",
              "<style scoped>\n",
              "    .dataframe tbody tr th:only-of-type {\n",
              "        vertical-align: middle;\n",
              "    }\n",
              "\n",
              "    .dataframe tbody tr th {\n",
              "        vertical-align: top;\n",
              "    }\n",
              "\n",
              "    .dataframe thead th {\n",
              "        text-align: right;\n",
              "    }\n",
              "</style>\n",
              "<table border=\"1\" class=\"dataframe\">\n",
              "  <thead>\n",
              "    <tr style=\"text-align: right;\">\n",
              "      <th></th>\n",
              "      <th>a</th>\n",
              "      <th>b</th>\n",
              "      <th>c</th>\n",
              "    </tr>\n",
              "  </thead>\n",
              "  <tbody>\n",
              "    <tr>\n",
              "      <th>foo</th>\n",
              "      <td>1</td>\n",
              "      <td>2.0</td>\n",
              "      <td>3</td>\n",
              "    </tr>\n",
              "    <tr>\n",
              "      <th>bar</th>\n",
              "      <td>4</td>\n",
              "      <td>NaN</td>\n",
              "      <td>6</td>\n",
              "    </tr>\n",
              "  </tbody>\n",
              "</table>\n",
              "</div>"
            ],
            "text/plain": [
              "     a    b  c\n",
              "foo  1  2.0  3\n",
              "bar  4  NaN  6"
            ]
          },
          "metadata": {
            "tags": []
          },
          "execution_count": 105
        }
      ]
    },
    {
      "cell_type": "code",
      "metadata": {
        "id": "igyFmpbQ26sd",
        "colab_type": "code",
        "colab": {
          "base_uri": "https://localhost:8080/",
          "height": 106
        },
        "outputId": "8a2006a4-eb44-4ee5-86c0-241759c142cf"
      },
      "source": [
        "# SI SE DESEA QUE EL CAMBIO OCURRÁ, SE DEBE ESPECIFICAR:\n",
        "miss_val_df.fillna(0,inplace=True)\n",
        "miss_val_df"
      ],
      "execution_count": 106,
      "outputs": [
        {
          "output_type": "execute_result",
          "data": {
            "text/html": [
              "<div>\n",
              "<style scoped>\n",
              "    .dataframe tbody tr th:only-of-type {\n",
              "        vertical-align: middle;\n",
              "    }\n",
              "\n",
              "    .dataframe tbody tr th {\n",
              "        vertical-align: top;\n",
              "    }\n",
              "\n",
              "    .dataframe thead th {\n",
              "        text-align: right;\n",
              "    }\n",
              "</style>\n",
              "<table border=\"1\" class=\"dataframe\">\n",
              "  <thead>\n",
              "    <tr style=\"text-align: right;\">\n",
              "      <th></th>\n",
              "      <th>a</th>\n",
              "      <th>b</th>\n",
              "      <th>c</th>\n",
              "    </tr>\n",
              "  </thead>\n",
              "  <tbody>\n",
              "    <tr>\n",
              "      <th>foo</th>\n",
              "      <td>1</td>\n",
              "      <td>2.0</td>\n",
              "      <td>3</td>\n",
              "    </tr>\n",
              "    <tr>\n",
              "      <th>bar</th>\n",
              "      <td>4</td>\n",
              "      <td>0.0</td>\n",
              "      <td>6</td>\n",
              "    </tr>\n",
              "  </tbody>\n",
              "</table>\n",
              "</div>"
            ],
            "text/plain": [
              "     a    b  c\n",
              "foo  1  2.0  3\n",
              "bar  4  0.0  6"
            ]
          },
          "metadata": {
            "tags": []
          },
          "execution_count": 106
        }
      ]
    },
    {
      "cell_type": "code",
      "metadata": {
        "id": "YDPO456bK_GG",
        "colab_type": "code",
        "colab": {
          "base_uri": "https://localhost:8080/",
          "height": 106
        },
        "outputId": "13cfa0a9-3aa2-49cc-8b58-042373ca28c8"
      },
      "source": [
        "miss_val_df"
      ],
      "execution_count": 107,
      "outputs": [
        {
          "output_type": "execute_result",
          "data": {
            "text/html": [
              "<div>\n",
              "<style scoped>\n",
              "    .dataframe tbody tr th:only-of-type {\n",
              "        vertical-align: middle;\n",
              "    }\n",
              "\n",
              "    .dataframe tbody tr th {\n",
              "        vertical-align: top;\n",
              "    }\n",
              "\n",
              "    .dataframe thead th {\n",
              "        text-align: right;\n",
              "    }\n",
              "</style>\n",
              "<table border=\"1\" class=\"dataframe\">\n",
              "  <thead>\n",
              "    <tr style=\"text-align: right;\">\n",
              "      <th></th>\n",
              "      <th>a</th>\n",
              "      <th>b</th>\n",
              "      <th>c</th>\n",
              "    </tr>\n",
              "  </thead>\n",
              "  <tbody>\n",
              "    <tr>\n",
              "      <th>foo</th>\n",
              "      <td>1</td>\n",
              "      <td>2.0</td>\n",
              "      <td>3</td>\n",
              "    </tr>\n",
              "    <tr>\n",
              "      <th>bar</th>\n",
              "      <td>4</td>\n",
              "      <td>0.0</td>\n",
              "      <td>6</td>\n",
              "    </tr>\n",
              "  </tbody>\n",
              "</table>\n",
              "</div>"
            ],
            "text/plain": [
              "     a    b  c\n",
              "foo  1  2.0  3\n",
              "bar  4  0.0  6"
            ]
          },
          "metadata": {
            "tags": []
          },
          "execution_count": 107
        }
      ]
    },
    {
      "cell_type": "code",
      "metadata": {
        "id": "5RzQzBrT26si",
        "colab_type": "code",
        "colab": {}
      },
      "source": [
        "## Eliminanfo una fila que tenga NaN"
      ],
      "execution_count": 108,
      "outputs": []
    },
    {
      "cell_type": "code",
      "metadata": {
        "id": "Qfhxmo3A26sj",
        "colab_type": "code",
        "colab": {
          "base_uri": "https://localhost:8080/",
          "height": 105
        },
        "outputId": "e5c6844b-2229-4e78-8a18-86791037289f"
      },
      "source": [
        "miss_val_df['b']['foo'] =np.nan"
      ],
      "execution_count": 109,
      "outputs": [
        {
          "output_type": "stream",
          "text": [
            "/usr/local/lib/python3.6/dist-packages/ipykernel_launcher.py:1: SettingWithCopyWarning: \n",
            "A value is trying to be set on a copy of a slice from a DataFrame\n",
            "\n",
            "See the caveats in the documentation: https://pandas.pydata.org/pandas-docs/stable/user_guide/indexing.html#returning-a-view-versus-a-copy\n",
            "  \"\"\"Entry point for launching an IPython kernel.\n"
          ],
          "name": "stderr"
        }
      ]
    },
    {
      "cell_type": "code",
      "metadata": {
        "id": "Y_tT0SWS26sl",
        "colab_type": "code",
        "colab": {
          "base_uri": "https://localhost:8080/",
          "height": 106
        },
        "outputId": "9407e72d-1c8f-485c-d071-1ae660a53040"
      },
      "source": [
        "miss_val_df"
      ],
      "execution_count": 110,
      "outputs": [
        {
          "output_type": "execute_result",
          "data": {
            "text/html": [
              "<div>\n",
              "<style scoped>\n",
              "    .dataframe tbody tr th:only-of-type {\n",
              "        vertical-align: middle;\n",
              "    }\n",
              "\n",
              "    .dataframe tbody tr th {\n",
              "        vertical-align: top;\n",
              "    }\n",
              "\n",
              "    .dataframe thead th {\n",
              "        text-align: right;\n",
              "    }\n",
              "</style>\n",
              "<table border=\"1\" class=\"dataframe\">\n",
              "  <thead>\n",
              "    <tr style=\"text-align: right;\">\n",
              "      <th></th>\n",
              "      <th>a</th>\n",
              "      <th>b</th>\n",
              "      <th>c</th>\n",
              "    </tr>\n",
              "  </thead>\n",
              "  <tbody>\n",
              "    <tr>\n",
              "      <th>foo</th>\n",
              "      <td>1</td>\n",
              "      <td>NaN</td>\n",
              "      <td>3</td>\n",
              "    </tr>\n",
              "    <tr>\n",
              "      <th>bar</th>\n",
              "      <td>4</td>\n",
              "      <td>0.0</td>\n",
              "      <td>6</td>\n",
              "    </tr>\n",
              "  </tbody>\n",
              "</table>\n",
              "</div>"
            ],
            "text/plain": [
              "     a    b  c\n",
              "foo  1  NaN  3\n",
              "bar  4  0.0  6"
            ]
          },
          "metadata": {
            "tags": []
          },
          "execution_count": 110
        }
      ]
    },
    {
      "cell_type": "code",
      "metadata": {
        "id": "S33Z5gDN26sn",
        "colab_type": "code",
        "colab": {
          "base_uri": "https://localhost:8080/",
          "height": 77
        },
        "outputId": "4b58a8b4-3e25-4894-c220-089a0affb5fa"
      },
      "source": [
        "miss_val_df.dropna() #Elimine la fila con NaN"
      ],
      "execution_count": 111,
      "outputs": [
        {
          "output_type": "execute_result",
          "data": {
            "text/html": [
              "<div>\n",
              "<style scoped>\n",
              "    .dataframe tbody tr th:only-of-type {\n",
              "        vertical-align: middle;\n",
              "    }\n",
              "\n",
              "    .dataframe tbody tr th {\n",
              "        vertical-align: top;\n",
              "    }\n",
              "\n",
              "    .dataframe thead th {\n",
              "        text-align: right;\n",
              "    }\n",
              "</style>\n",
              "<table border=\"1\" class=\"dataframe\">\n",
              "  <thead>\n",
              "    <tr style=\"text-align: right;\">\n",
              "      <th></th>\n",
              "      <th>a</th>\n",
              "      <th>b</th>\n",
              "      <th>c</th>\n",
              "    </tr>\n",
              "  </thead>\n",
              "  <tbody>\n",
              "    <tr>\n",
              "      <th>bar</th>\n",
              "      <td>4</td>\n",
              "      <td>0.0</td>\n",
              "      <td>6</td>\n",
              "    </tr>\n",
              "  </tbody>\n",
              "</table>\n",
              "</div>"
            ],
            "text/plain": [
              "     a    b  c\n",
              "bar  4  0.0  6"
            ]
          },
          "metadata": {
            "tags": []
          },
          "execution_count": 111
        }
      ]
    },
    {
      "cell_type": "markdown",
      "metadata": {
        "id": "mv3PU5A-26ss",
        "colab_type": "text"
      },
      "source": [
        "# Merge \n",
        "* http://pandas.pydata.org/pandas-docs/stable/merging.html\n",
        "\n",
        "Podemos unir DataFrames de forma similar a como unimos tablas a SQL. De hecho, las uniones izquierda, derecha, externa e interna."
      ]
    },
    {
      "cell_type": "code",
      "metadata": {
        "id": "uedf67ng26st",
        "colab_type": "code",
        "colab": {
          "base_uri": "https://localhost:8080/",
          "height": 106
        },
        "outputId": "425cb649-94dc-448b-e115-a6eb35fef6dd"
      },
      "source": [
        "merge1 = pd.DataFrame(\n",
        "    [[1, 2, 3], [4, 3, 6]], \n",
        "    columns=['a', 'b', 'c'])\n",
        "\n",
        "merge2 = pd.DataFrame(\n",
        "    [[1, 2, 3], [4, 3, 6]], \n",
        "    columns=['z', 'b', 'y'])\n",
        "\n",
        "merge1"
      ],
      "execution_count": 112,
      "outputs": [
        {
          "output_type": "execute_result",
          "data": {
            "text/html": [
              "<div>\n",
              "<style scoped>\n",
              "    .dataframe tbody tr th:only-of-type {\n",
              "        vertical-align: middle;\n",
              "    }\n",
              "\n",
              "    .dataframe tbody tr th {\n",
              "        vertical-align: top;\n",
              "    }\n",
              "\n",
              "    .dataframe thead th {\n",
              "        text-align: right;\n",
              "    }\n",
              "</style>\n",
              "<table border=\"1\" class=\"dataframe\">\n",
              "  <thead>\n",
              "    <tr style=\"text-align: right;\">\n",
              "      <th></th>\n",
              "      <th>a</th>\n",
              "      <th>b</th>\n",
              "      <th>c</th>\n",
              "    </tr>\n",
              "  </thead>\n",
              "  <tbody>\n",
              "    <tr>\n",
              "      <th>0</th>\n",
              "      <td>1</td>\n",
              "      <td>2</td>\n",
              "      <td>3</td>\n",
              "    </tr>\n",
              "    <tr>\n",
              "      <th>1</th>\n",
              "      <td>4</td>\n",
              "      <td>3</td>\n",
              "      <td>6</td>\n",
              "    </tr>\n",
              "  </tbody>\n",
              "</table>\n",
              "</div>"
            ],
            "text/plain": [
              "   a  b  c\n",
              "0  1  2  3\n",
              "1  4  3  6"
            ]
          },
          "metadata": {
            "tags": []
          },
          "execution_count": 112
        }
      ]
    },
    {
      "cell_type": "code",
      "metadata": {
        "id": "udvkf7Uv_m3-",
        "colab_type": "code",
        "colab": {
          "base_uri": "https://localhost:8080/",
          "height": 106
        },
        "outputId": "bcdce901-41e0-474d-8341-0e34af51805a"
      },
      "source": [
        "merge2"
      ],
      "execution_count": 113,
      "outputs": [
        {
          "output_type": "execute_result",
          "data": {
            "text/html": [
              "<div>\n",
              "<style scoped>\n",
              "    .dataframe tbody tr th:only-of-type {\n",
              "        vertical-align: middle;\n",
              "    }\n",
              "\n",
              "    .dataframe tbody tr th {\n",
              "        vertical-align: top;\n",
              "    }\n",
              "\n",
              "    .dataframe thead th {\n",
              "        text-align: right;\n",
              "    }\n",
              "</style>\n",
              "<table border=\"1\" class=\"dataframe\">\n",
              "  <thead>\n",
              "    <tr style=\"text-align: right;\">\n",
              "      <th></th>\n",
              "      <th>z</th>\n",
              "      <th>b</th>\n",
              "      <th>y</th>\n",
              "    </tr>\n",
              "  </thead>\n",
              "  <tbody>\n",
              "    <tr>\n",
              "      <th>0</th>\n",
              "      <td>1</td>\n",
              "      <td>2</td>\n",
              "      <td>3</td>\n",
              "    </tr>\n",
              "    <tr>\n",
              "      <th>1</th>\n",
              "      <td>4</td>\n",
              "      <td>3</td>\n",
              "      <td>6</td>\n",
              "    </tr>\n",
              "  </tbody>\n",
              "</table>\n",
              "</div>"
            ],
            "text/plain": [
              "   z  b  y\n",
              "0  1  2  3\n",
              "1  4  3  6"
            ]
          },
          "metadata": {
            "tags": []
          },
          "execution_count": 113
        }
      ]
    },
    {
      "cell_type": "code",
      "metadata": {
        "id": "hiolK4Y826sv",
        "colab_type": "code",
        "colab": {}
      },
      "source": [
        "merged_df = merge1.merge(merge2, how='inner') #Union de las dataframes"
      ],
      "execution_count": 114,
      "outputs": []
    },
    {
      "cell_type": "code",
      "metadata": {
        "id": "YELxzQs826sz",
        "colab_type": "code",
        "colab": {
          "base_uri": "https://localhost:8080/",
          "height": 106
        },
        "outputId": "04236913-6dab-47c2-f593-f3a27d7662ff"
      },
      "source": [
        "merged_df"
      ],
      "execution_count": 115,
      "outputs": [
        {
          "output_type": "execute_result",
          "data": {
            "text/html": [
              "<div>\n",
              "<style scoped>\n",
              "    .dataframe tbody tr th:only-of-type {\n",
              "        vertical-align: middle;\n",
              "    }\n",
              "\n",
              "    .dataframe tbody tr th {\n",
              "        vertical-align: top;\n",
              "    }\n",
              "\n",
              "    .dataframe thead th {\n",
              "        text-align: right;\n",
              "    }\n",
              "</style>\n",
              "<table border=\"1\" class=\"dataframe\">\n",
              "  <thead>\n",
              "    <tr style=\"text-align: right;\">\n",
              "      <th></th>\n",
              "      <th>a</th>\n",
              "      <th>b</th>\n",
              "      <th>c</th>\n",
              "      <th>z</th>\n",
              "      <th>y</th>\n",
              "    </tr>\n",
              "  </thead>\n",
              "  <tbody>\n",
              "    <tr>\n",
              "      <th>0</th>\n",
              "      <td>1</td>\n",
              "      <td>2</td>\n",
              "      <td>3</td>\n",
              "      <td>1</td>\n",
              "      <td>3</td>\n",
              "    </tr>\n",
              "    <tr>\n",
              "      <th>1</th>\n",
              "      <td>4</td>\n",
              "      <td>3</td>\n",
              "      <td>6</td>\n",
              "      <td>4</td>\n",
              "      <td>6</td>\n",
              "    </tr>\n",
              "  </tbody>\n",
              "</table>\n",
              "</div>"
            ],
            "text/plain": [
              "   a  b  c  z  y\n",
              "0  1  2  3  1  3\n",
              "1  4  3  6  4  6"
            ]
          },
          "metadata": {
            "tags": []
          },
          "execution_count": 115
        }
      ]
    },
    {
      "cell_type": "code",
      "metadata": {
        "id": "Y50bxvjiMJ_K",
        "colab_type": "code",
        "colab": {}
      },
      "source": [
        "merged_df = merge1.merge(merge2, how='outer')"
      ],
      "execution_count": 116,
      "outputs": []
    },
    {
      "cell_type": "code",
      "metadata": {
        "id": "wJNPBVZC26s1",
        "colab_type": "code",
        "colab": {
          "base_uri": "https://localhost:8080/",
          "height": 106
        },
        "outputId": "ea824c38-8480-49e5-d6bf-964e54746772"
      },
      "source": [
        "merged_df"
      ],
      "execution_count": 117,
      "outputs": [
        {
          "output_type": "execute_result",
          "data": {
            "text/html": [
              "<div>\n",
              "<style scoped>\n",
              "    .dataframe tbody tr th:only-of-type {\n",
              "        vertical-align: middle;\n",
              "    }\n",
              "\n",
              "    .dataframe tbody tr th {\n",
              "        vertical-align: top;\n",
              "    }\n",
              "\n",
              "    .dataframe thead th {\n",
              "        text-align: right;\n",
              "    }\n",
              "</style>\n",
              "<table border=\"1\" class=\"dataframe\">\n",
              "  <thead>\n",
              "    <tr style=\"text-align: right;\">\n",
              "      <th></th>\n",
              "      <th>a</th>\n",
              "      <th>b</th>\n",
              "      <th>c</th>\n",
              "      <th>z</th>\n",
              "      <th>y</th>\n",
              "    </tr>\n",
              "  </thead>\n",
              "  <tbody>\n",
              "    <tr>\n",
              "      <th>0</th>\n",
              "      <td>1</td>\n",
              "      <td>2</td>\n",
              "      <td>3</td>\n",
              "      <td>1</td>\n",
              "      <td>3</td>\n",
              "    </tr>\n",
              "    <tr>\n",
              "      <th>1</th>\n",
              "      <td>4</td>\n",
              "      <td>3</td>\n",
              "      <td>6</td>\n",
              "      <td>4</td>\n",
              "      <td>6</td>\n",
              "    </tr>\n",
              "  </tbody>\n",
              "</table>\n",
              "</div>"
            ],
            "text/plain": [
              "   a  b  c  z  y\n",
              "0  1  2  3  1  3\n",
              "1  4  3  6  4  6"
            ]
          },
          "metadata": {
            "tags": []
          },
          "execution_count": 117
        }
      ]
    },
    {
      "cell_type": "markdown",
      "metadata": {
        "id": "nuwcmNXK26s1",
        "colab_type": "text"
      },
      "source": [
        "# Concatenating\n",
        "* adicionando *filas*\n",
        "* mirar también: df.append()"
      ]
    },
    {
      "cell_type": "code",
      "metadata": {
        "id": "B8FDpPit26s2",
        "colab_type": "code",
        "colab": {}
      },
      "source": [
        "df1 = pd.DataFrame(\n",
        "    {'Col1': range(5), 'Col2': range(5), 'Col3': range(5)})\n",
        "df2 = pd.DataFrame(\n",
        "    {'Col1': range(5), 'Col2': range(5), 'Col4': range(5)},\n",
        "    index=range(5, 10))"
      ],
      "execution_count": 118,
      "outputs": []
    },
    {
      "cell_type": "code",
      "metadata": {
        "id": "lzJ1c-ds26s3",
        "colab_type": "code",
        "colab": {
          "base_uri": "https://localhost:8080/",
          "height": 195
        },
        "outputId": "8e66f939-84e3-4ad6-a8a4-f7863663d88e"
      },
      "source": [
        "df1"
      ],
      "execution_count": 119,
      "outputs": [
        {
          "output_type": "execute_result",
          "data": {
            "text/html": [
              "<div>\n",
              "<style scoped>\n",
              "    .dataframe tbody tr th:only-of-type {\n",
              "        vertical-align: middle;\n",
              "    }\n",
              "\n",
              "    .dataframe tbody tr th {\n",
              "        vertical-align: top;\n",
              "    }\n",
              "\n",
              "    .dataframe thead th {\n",
              "        text-align: right;\n",
              "    }\n",
              "</style>\n",
              "<table border=\"1\" class=\"dataframe\">\n",
              "  <thead>\n",
              "    <tr style=\"text-align: right;\">\n",
              "      <th></th>\n",
              "      <th>Col1</th>\n",
              "      <th>Col2</th>\n",
              "      <th>Col3</th>\n",
              "    </tr>\n",
              "  </thead>\n",
              "  <tbody>\n",
              "    <tr>\n",
              "      <th>0</th>\n",
              "      <td>0</td>\n",
              "      <td>0</td>\n",
              "      <td>0</td>\n",
              "    </tr>\n",
              "    <tr>\n",
              "      <th>1</th>\n",
              "      <td>1</td>\n",
              "      <td>1</td>\n",
              "      <td>1</td>\n",
              "    </tr>\n",
              "    <tr>\n",
              "      <th>2</th>\n",
              "      <td>2</td>\n",
              "      <td>2</td>\n",
              "      <td>2</td>\n",
              "    </tr>\n",
              "    <tr>\n",
              "      <th>3</th>\n",
              "      <td>3</td>\n",
              "      <td>3</td>\n",
              "      <td>3</td>\n",
              "    </tr>\n",
              "    <tr>\n",
              "      <th>4</th>\n",
              "      <td>4</td>\n",
              "      <td>4</td>\n",
              "      <td>4</td>\n",
              "    </tr>\n",
              "  </tbody>\n",
              "</table>\n",
              "</div>"
            ],
            "text/plain": [
              "   Col1  Col2  Col3\n",
              "0     0     0     0\n",
              "1     1     1     1\n",
              "2     2     2     2\n",
              "3     3     3     3\n",
              "4     4     4     4"
            ]
          },
          "metadata": {
            "tags": []
          },
          "execution_count": 119
        }
      ]
    },
    {
      "cell_type": "code",
      "metadata": {
        "id": "vX33Ekng26s4",
        "colab_type": "code",
        "colab": {
          "base_uri": "https://localhost:8080/",
          "height": 195
        },
        "outputId": "f420768a-3df5-45b5-e4c5-e86aafd07222"
      },
      "source": [
        "df2"
      ],
      "execution_count": 120,
      "outputs": [
        {
          "output_type": "execute_result",
          "data": {
            "text/html": [
              "<div>\n",
              "<style scoped>\n",
              "    .dataframe tbody tr th:only-of-type {\n",
              "        vertical-align: middle;\n",
              "    }\n",
              "\n",
              "    .dataframe tbody tr th {\n",
              "        vertical-align: top;\n",
              "    }\n",
              "\n",
              "    .dataframe thead th {\n",
              "        text-align: right;\n",
              "    }\n",
              "</style>\n",
              "<table border=\"1\" class=\"dataframe\">\n",
              "  <thead>\n",
              "    <tr style=\"text-align: right;\">\n",
              "      <th></th>\n",
              "      <th>Col1</th>\n",
              "      <th>Col2</th>\n",
              "      <th>Col4</th>\n",
              "    </tr>\n",
              "  </thead>\n",
              "  <tbody>\n",
              "    <tr>\n",
              "      <th>5</th>\n",
              "      <td>0</td>\n",
              "      <td>0</td>\n",
              "      <td>0</td>\n",
              "    </tr>\n",
              "    <tr>\n",
              "      <th>6</th>\n",
              "      <td>1</td>\n",
              "      <td>1</td>\n",
              "      <td>1</td>\n",
              "    </tr>\n",
              "    <tr>\n",
              "      <th>7</th>\n",
              "      <td>2</td>\n",
              "      <td>2</td>\n",
              "      <td>2</td>\n",
              "    </tr>\n",
              "    <tr>\n",
              "      <th>8</th>\n",
              "      <td>3</td>\n",
              "      <td>3</td>\n",
              "      <td>3</td>\n",
              "    </tr>\n",
              "    <tr>\n",
              "      <th>9</th>\n",
              "      <td>4</td>\n",
              "      <td>4</td>\n",
              "      <td>4</td>\n",
              "    </tr>\n",
              "  </tbody>\n",
              "</table>\n",
              "</div>"
            ],
            "text/plain": [
              "   Col1  Col2  Col4\n",
              "5     0     0     0\n",
              "6     1     1     1\n",
              "7     2     2     2\n",
              "8     3     3     3\n",
              "9     4     4     4"
            ]
          },
          "metadata": {
            "tags": []
          },
          "execution_count": 120
        }
      ]
    },
    {
      "cell_type": "code",
      "metadata": {
        "id": "Cxgurqtz26s6",
        "colab_type": "code",
        "colab": {
          "base_uri": "https://localhost:8080/",
          "height": 343
        },
        "outputId": "0641c4f2-2410-4147-93e2-a26406dc5aa7"
      },
      "source": [
        "#Concatenacion Vetical\n",
        "pd.concat([df1, df2], axis=0)"
      ],
      "execution_count": 121,
      "outputs": [
        {
          "output_type": "execute_result",
          "data": {
            "text/html": [
              "<div>\n",
              "<style scoped>\n",
              "    .dataframe tbody tr th:only-of-type {\n",
              "        vertical-align: middle;\n",
              "    }\n",
              "\n",
              "    .dataframe tbody tr th {\n",
              "        vertical-align: top;\n",
              "    }\n",
              "\n",
              "    .dataframe thead th {\n",
              "        text-align: right;\n",
              "    }\n",
              "</style>\n",
              "<table border=\"1\" class=\"dataframe\">\n",
              "  <thead>\n",
              "    <tr style=\"text-align: right;\">\n",
              "      <th></th>\n",
              "      <th>Col1</th>\n",
              "      <th>Col2</th>\n",
              "      <th>Col3</th>\n",
              "      <th>Col4</th>\n",
              "    </tr>\n",
              "  </thead>\n",
              "  <tbody>\n",
              "    <tr>\n",
              "      <th>0</th>\n",
              "      <td>0</td>\n",
              "      <td>0</td>\n",
              "      <td>0.0</td>\n",
              "      <td>NaN</td>\n",
              "    </tr>\n",
              "    <tr>\n",
              "      <th>1</th>\n",
              "      <td>1</td>\n",
              "      <td>1</td>\n",
              "      <td>1.0</td>\n",
              "      <td>NaN</td>\n",
              "    </tr>\n",
              "    <tr>\n",
              "      <th>2</th>\n",
              "      <td>2</td>\n",
              "      <td>2</td>\n",
              "      <td>2.0</td>\n",
              "      <td>NaN</td>\n",
              "    </tr>\n",
              "    <tr>\n",
              "      <th>3</th>\n",
              "      <td>3</td>\n",
              "      <td>3</td>\n",
              "      <td>3.0</td>\n",
              "      <td>NaN</td>\n",
              "    </tr>\n",
              "    <tr>\n",
              "      <th>4</th>\n",
              "      <td>4</td>\n",
              "      <td>4</td>\n",
              "      <td>4.0</td>\n",
              "      <td>NaN</td>\n",
              "    </tr>\n",
              "    <tr>\n",
              "      <th>5</th>\n",
              "      <td>0</td>\n",
              "      <td>0</td>\n",
              "      <td>NaN</td>\n",
              "      <td>0.0</td>\n",
              "    </tr>\n",
              "    <tr>\n",
              "      <th>6</th>\n",
              "      <td>1</td>\n",
              "      <td>1</td>\n",
              "      <td>NaN</td>\n",
              "      <td>1.0</td>\n",
              "    </tr>\n",
              "    <tr>\n",
              "      <th>7</th>\n",
              "      <td>2</td>\n",
              "      <td>2</td>\n",
              "      <td>NaN</td>\n",
              "      <td>2.0</td>\n",
              "    </tr>\n",
              "    <tr>\n",
              "      <th>8</th>\n",
              "      <td>3</td>\n",
              "      <td>3</td>\n",
              "      <td>NaN</td>\n",
              "      <td>3.0</td>\n",
              "    </tr>\n",
              "    <tr>\n",
              "      <th>9</th>\n",
              "      <td>4</td>\n",
              "      <td>4</td>\n",
              "      <td>NaN</td>\n",
              "      <td>4.0</td>\n",
              "    </tr>\n",
              "  </tbody>\n",
              "</table>\n",
              "</div>"
            ],
            "text/plain": [
              "   Col1  Col2  Col3  Col4\n",
              "0     0     0   0.0   NaN\n",
              "1     1     1   1.0   NaN\n",
              "2     2     2   2.0   NaN\n",
              "3     3     3   3.0   NaN\n",
              "4     4     4   4.0   NaN\n",
              "5     0     0   NaN   0.0\n",
              "6     1     1   NaN   1.0\n",
              "7     2     2   NaN   2.0\n",
              "8     3     3   NaN   3.0\n",
              "9     4     4   NaN   4.0"
            ]
          },
          "metadata": {
            "tags": []
          },
          "execution_count": 121
        }
      ]
    },
    {
      "cell_type": "code",
      "metadata": {
        "id": "Qkh1xzcw26s8",
        "colab_type": "code",
        "colab": {
          "base_uri": "https://localhost:8080/",
          "height": 343
        },
        "outputId": "172b2d6a-ab4c-4ccf-e394-e0f6412c415e"
      },
      "source": [
        "pd.concat([df1, df2], join='outer', axis=1)"
      ],
      "execution_count": 122,
      "outputs": [
        {
          "output_type": "execute_result",
          "data": {
            "text/html": [
              "<div>\n",
              "<style scoped>\n",
              "    .dataframe tbody tr th:only-of-type {\n",
              "        vertical-align: middle;\n",
              "    }\n",
              "\n",
              "    .dataframe tbody tr th {\n",
              "        vertical-align: top;\n",
              "    }\n",
              "\n",
              "    .dataframe thead th {\n",
              "        text-align: right;\n",
              "    }\n",
              "</style>\n",
              "<table border=\"1\" class=\"dataframe\">\n",
              "  <thead>\n",
              "    <tr style=\"text-align: right;\">\n",
              "      <th></th>\n",
              "      <th>Col1</th>\n",
              "      <th>Col2</th>\n",
              "      <th>Col3</th>\n",
              "      <th>Col1</th>\n",
              "      <th>Col2</th>\n",
              "      <th>Col4</th>\n",
              "    </tr>\n",
              "  </thead>\n",
              "  <tbody>\n",
              "    <tr>\n",
              "      <th>0</th>\n",
              "      <td>0.0</td>\n",
              "      <td>0.0</td>\n",
              "      <td>0.0</td>\n",
              "      <td>NaN</td>\n",
              "      <td>NaN</td>\n",
              "      <td>NaN</td>\n",
              "    </tr>\n",
              "    <tr>\n",
              "      <th>1</th>\n",
              "      <td>1.0</td>\n",
              "      <td>1.0</td>\n",
              "      <td>1.0</td>\n",
              "      <td>NaN</td>\n",
              "      <td>NaN</td>\n",
              "      <td>NaN</td>\n",
              "    </tr>\n",
              "    <tr>\n",
              "      <th>2</th>\n",
              "      <td>2.0</td>\n",
              "      <td>2.0</td>\n",
              "      <td>2.0</td>\n",
              "      <td>NaN</td>\n",
              "      <td>NaN</td>\n",
              "      <td>NaN</td>\n",
              "    </tr>\n",
              "    <tr>\n",
              "      <th>3</th>\n",
              "      <td>3.0</td>\n",
              "      <td>3.0</td>\n",
              "      <td>3.0</td>\n",
              "      <td>NaN</td>\n",
              "      <td>NaN</td>\n",
              "      <td>NaN</td>\n",
              "    </tr>\n",
              "    <tr>\n",
              "      <th>4</th>\n",
              "      <td>4.0</td>\n",
              "      <td>4.0</td>\n",
              "      <td>4.0</td>\n",
              "      <td>NaN</td>\n",
              "      <td>NaN</td>\n",
              "      <td>NaN</td>\n",
              "    </tr>\n",
              "    <tr>\n",
              "      <th>5</th>\n",
              "      <td>NaN</td>\n",
              "      <td>NaN</td>\n",
              "      <td>NaN</td>\n",
              "      <td>0.0</td>\n",
              "      <td>0.0</td>\n",
              "      <td>0.0</td>\n",
              "    </tr>\n",
              "    <tr>\n",
              "      <th>6</th>\n",
              "      <td>NaN</td>\n",
              "      <td>NaN</td>\n",
              "      <td>NaN</td>\n",
              "      <td>1.0</td>\n",
              "      <td>1.0</td>\n",
              "      <td>1.0</td>\n",
              "    </tr>\n",
              "    <tr>\n",
              "      <th>7</th>\n",
              "      <td>NaN</td>\n",
              "      <td>NaN</td>\n",
              "      <td>NaN</td>\n",
              "      <td>2.0</td>\n",
              "      <td>2.0</td>\n",
              "      <td>2.0</td>\n",
              "    </tr>\n",
              "    <tr>\n",
              "      <th>8</th>\n",
              "      <td>NaN</td>\n",
              "      <td>NaN</td>\n",
              "      <td>NaN</td>\n",
              "      <td>3.0</td>\n",
              "      <td>3.0</td>\n",
              "      <td>3.0</td>\n",
              "    </tr>\n",
              "    <tr>\n",
              "      <th>9</th>\n",
              "      <td>NaN</td>\n",
              "      <td>NaN</td>\n",
              "      <td>NaN</td>\n",
              "      <td>4.0</td>\n",
              "      <td>4.0</td>\n",
              "      <td>4.0</td>\n",
              "    </tr>\n",
              "  </tbody>\n",
              "</table>\n",
              "</div>"
            ],
            "text/plain": [
              "   Col1  Col2  Col3  Col1  Col2  Col4\n",
              "0   0.0   0.0   0.0   NaN   NaN   NaN\n",
              "1   1.0   1.0   1.0   NaN   NaN   NaN\n",
              "2   2.0   2.0   2.0   NaN   NaN   NaN\n",
              "3   3.0   3.0   3.0   NaN   NaN   NaN\n",
              "4   4.0   4.0   4.0   NaN   NaN   NaN\n",
              "5   NaN   NaN   NaN   0.0   0.0   0.0\n",
              "6   NaN   NaN   NaN   1.0   1.0   1.0\n",
              "7   NaN   NaN   NaN   2.0   2.0   2.0\n",
              "8   NaN   NaN   NaN   3.0   3.0   3.0\n",
              "9   NaN   NaN   NaN   4.0   4.0   4.0"
            ]
          },
          "metadata": {
            "tags": []
          },
          "execution_count": 122
        }
      ]
    },
    {
      "cell_type": "markdown",
      "metadata": {
        "id": "bqCCBFgD26tB",
        "colab_type": "text"
      },
      "source": [
        "# Categorización"
      ]
    },
    {
      "cell_type": "code",
      "metadata": {
        "id": "-MRFbB4gA8oF",
        "colab_type": "code",
        "colab": {
          "resources": {
            "http://localhost:8080/nbextensions/google.colab/files.js": {
              "data": "Ly8gQ29weXJpZ2h0IDIwMTcgR29vZ2xlIExMQwovLwovLyBMaWNlbnNlZCB1bmRlciB0aGUgQXBhY2hlIExpY2Vuc2UsIFZlcnNpb24gMi4wICh0aGUgIkxpY2Vuc2UiKTsKLy8geW91IG1heSBub3QgdXNlIHRoaXMgZmlsZSBleGNlcHQgaW4gY29tcGxpYW5jZSB3aXRoIHRoZSBMaWNlbnNlLgovLyBZb3UgbWF5IG9idGFpbiBhIGNvcHkgb2YgdGhlIExpY2Vuc2UgYXQKLy8KLy8gICAgICBodHRwOi8vd3d3LmFwYWNoZS5vcmcvbGljZW5zZXMvTElDRU5TRS0yLjAKLy8KLy8gVW5sZXNzIHJlcXVpcmVkIGJ5IGFwcGxpY2FibGUgbGF3IG9yIGFncmVlZCB0byBpbiB3cml0aW5nLCBzb2Z0d2FyZQovLyBkaXN0cmlidXRlZCB1bmRlciB0aGUgTGljZW5zZSBpcyBkaXN0cmlidXRlZCBvbiBhbiAiQVMgSVMiIEJBU0lTLAovLyBXSVRIT1VUIFdBUlJBTlRJRVMgT1IgQ09ORElUSU9OUyBPRiBBTlkgS0lORCwgZWl0aGVyIGV4cHJlc3Mgb3IgaW1wbGllZC4KLy8gU2VlIHRoZSBMaWNlbnNlIGZvciB0aGUgc3BlY2lmaWMgbGFuZ3VhZ2UgZ292ZXJuaW5nIHBlcm1pc3Npb25zIGFuZAovLyBsaW1pdGF0aW9ucyB1bmRlciB0aGUgTGljZW5zZS4KCi8qKgogKiBAZmlsZW92ZXJ2aWV3IEhlbHBlcnMgZm9yIGdvb2dsZS5jb2xhYiBQeXRob24gbW9kdWxlLgogKi8KKGZ1bmN0aW9uKHNjb3BlKSB7CmZ1bmN0aW9uIHNwYW4odGV4dCwgc3R5bGVBdHRyaWJ1dGVzID0ge30pIHsKICBjb25zdCBlbGVtZW50ID0gZG9jdW1lbnQuY3JlYXRlRWxlbWVudCgnc3BhbicpOwogIGVsZW1lbnQudGV4dENvbnRlbnQgPSB0ZXh0OwogIGZvciAoY29uc3Qga2V5IG9mIE9iamVjdC5rZXlzKHN0eWxlQXR0cmlidXRlcykpIHsKICAgIGVsZW1lbnQuc3R5bGVba2V5XSA9IHN0eWxlQXR0cmlidXRlc1trZXldOwogIH0KICByZXR1cm4gZWxlbWVudDsKfQoKLy8gTWF4IG51bWJlciBvZiBieXRlcyB3aGljaCB3aWxsIGJlIHVwbG9hZGVkIGF0IGEgdGltZS4KY29uc3QgTUFYX1BBWUxPQURfU0laRSA9IDEwMCAqIDEwMjQ7CgpmdW5jdGlvbiBfdXBsb2FkRmlsZXMoaW5wdXRJZCwgb3V0cHV0SWQpIHsKICBjb25zdCBzdGVwcyA9IHVwbG9hZEZpbGVzU3RlcChpbnB1dElkLCBvdXRwdXRJZCk7CiAgY29uc3Qgb3V0cHV0RWxlbWVudCA9IGRvY3VtZW50LmdldEVsZW1lbnRCeUlkKG91dHB1dElkKTsKICAvLyBDYWNoZSBzdGVwcyBvbiB0aGUgb3V0cHV0RWxlbWVudCB0byBtYWtlIGl0IGF2YWlsYWJsZSBmb3IgdGhlIG5leHQgY2FsbAogIC8vIHRvIHVwbG9hZEZpbGVzQ29udGludWUgZnJvbSBQeXRob24uCiAgb3V0cHV0RWxlbWVudC5zdGVwcyA9IHN0ZXBzOwoKICByZXR1cm4gX3VwbG9hZEZpbGVzQ29udGludWUob3V0cHV0SWQpOwp9CgovLyBUaGlzIGlzIHJvdWdobHkgYW4gYXN5bmMgZ2VuZXJhdG9yIChub3Qgc3VwcG9ydGVkIGluIHRoZSBicm93c2VyIHlldCksCi8vIHdoZXJlIHRoZXJlIGFyZSBtdWx0aXBsZSBhc3luY2hyb25vdXMgc3RlcHMgYW5kIHRoZSBQeXRob24gc2lkZSBpcyBnb2luZwovLyB0byBwb2xsIGZvciBjb21wbGV0aW9uIG9mIGVhY2ggc3RlcC4KLy8gVGhpcyB1c2VzIGEgUHJvbWlzZSB0byBibG9jayB0aGUgcHl0aG9uIHNpZGUgb24gY29tcGxldGlvbiBvZiBlYWNoIHN0ZXAsCi8vIHRoZW4gcGFzc2VzIHRoZSByZXN1bHQgb2YgdGhlIHByZXZpb3VzIHN0ZXAgYXMgdGhlIGlucHV0IHRvIHRoZSBuZXh0IHN0ZXAuCmZ1bmN0aW9uIF91cGxvYWRGaWxlc0NvbnRpbnVlKG91dHB1dElkKSB7CiAgY29uc3Qgb3V0cHV0RWxlbWVudCA9IGRvY3VtZW50LmdldEVsZW1lbnRCeUlkKG91dHB1dElkKTsKICBjb25zdCBzdGVwcyA9IG91dHB1dEVsZW1lbnQuc3RlcHM7CgogIGNvbnN0IG5leHQgPSBzdGVwcy5uZXh0KG91dHB1dEVsZW1lbnQubGFzdFByb21pc2VWYWx1ZSk7CiAgcmV0dXJuIFByb21pc2UucmVzb2x2ZShuZXh0LnZhbHVlLnByb21pc2UpLnRoZW4oKHZhbHVlKSA9PiB7CiAgICAvLyBDYWNoZSB0aGUgbGFzdCBwcm9taXNlIHZhbHVlIHRvIG1ha2UgaXQgYXZhaWxhYmxlIHRvIHRoZSBuZXh0CiAgICAvLyBzdGVwIG9mIHRoZSBnZW5lcmF0b3IuCiAgICBvdXRwdXRFbGVtZW50Lmxhc3RQcm9taXNlVmFsdWUgPSB2YWx1ZTsKICAgIHJldHVybiBuZXh0LnZhbHVlLnJlc3BvbnNlOwogIH0pOwp9CgovKioKICogR2VuZXJhdG9yIGZ1bmN0aW9uIHdoaWNoIGlzIGNhbGxlZCBiZXR3ZWVuIGVhY2ggYXN5bmMgc3RlcCBvZiB0aGUgdXBsb2FkCiAqIHByb2Nlc3MuCiAqIEBwYXJhbSB7c3RyaW5nfSBpbnB1dElkIEVsZW1lbnQgSUQgb2YgdGhlIGlucHV0IGZpbGUgcGlja2VyIGVsZW1lbnQuCiAqIEBwYXJhbSB7c3RyaW5nfSBvdXRwdXRJZCBFbGVtZW50IElEIG9mIHRoZSBvdXRwdXQgZGlzcGxheS4KICogQHJldHVybiB7IUl0ZXJhYmxlPCFPYmplY3Q+fSBJdGVyYWJsZSBvZiBuZXh0IHN0ZXBzLgogKi8KZnVuY3Rpb24qIHVwbG9hZEZpbGVzU3RlcChpbnB1dElkLCBvdXRwdXRJZCkgewogIGNvbnN0IGlucHV0RWxlbWVudCA9IGRvY3VtZW50LmdldEVsZW1lbnRCeUlkKGlucHV0SWQpOwogIGlucHV0RWxlbWVudC5kaXNhYmxlZCA9IGZhbHNlOwoKICBjb25zdCBvdXRwdXRFbGVtZW50ID0gZG9jdW1lbnQuZ2V0RWxlbWVudEJ5SWQob3V0cHV0SWQpOwogIG91dHB1dEVsZW1lbnQuaW5uZXJIVE1MID0gJyc7CgogIGNvbnN0IHBpY2tlZFByb21pc2UgPSBuZXcgUHJvbWlzZSgocmVzb2x2ZSkgPT4gewogICAgaW5wdXRFbGVtZW50LmFkZEV2ZW50TGlzdGVuZXIoJ2NoYW5nZScsIChlKSA9PiB7CiAgICAgIHJlc29sdmUoZS50YXJnZXQuZmlsZXMpOwogICAgfSk7CiAgfSk7CgogIGNvbnN0IGNhbmNlbCA9IGRvY3VtZW50LmNyZWF0ZUVsZW1lbnQoJ2J1dHRvbicpOwogIGlucHV0RWxlbWVudC5wYXJlbnRFbGVtZW50LmFwcGVuZENoaWxkKGNhbmNlbCk7CiAgY2FuY2VsLnRleHRDb250ZW50ID0gJ0NhbmNlbCB1cGxvYWQnOwogIGNvbnN0IGNhbmNlbFByb21pc2UgPSBuZXcgUHJvbWlzZSgocmVzb2x2ZSkgPT4gewogICAgY2FuY2VsLm9uY2xpY2sgPSAoKSA9PiB7CiAgICAgIHJlc29sdmUobnVsbCk7CiAgICB9OwogIH0pOwoKICAvLyBXYWl0IGZvciB0aGUgdXNlciB0byBwaWNrIHRoZSBmaWxlcy4KICBjb25zdCBmaWxlcyA9IHlpZWxkIHsKICAgIHByb21pc2U6IFByb21pc2UucmFjZShbcGlja2VkUHJvbWlzZSwgY2FuY2VsUHJvbWlzZV0pLAogICAgcmVzcG9uc2U6IHsKICAgICAgYWN0aW9uOiAnc3RhcnRpbmcnLAogICAgfQogIH07CgogIGNhbmNlbC5yZW1vdmUoKTsKCiAgLy8gRGlzYWJsZSB0aGUgaW5wdXQgZWxlbWVudCBzaW5jZSBmdXJ0aGVyIHBpY2tzIGFyZSBub3QgYWxsb3dlZC4KICBpbnB1dEVsZW1lbnQuZGlzYWJsZWQgPSB0cnVlOwoKICBpZiAoIWZpbGVzKSB7CiAgICByZXR1cm4gewogICAgICByZXNwb25zZTogewogICAgICAgIGFjdGlvbjogJ2NvbXBsZXRlJywKICAgICAgfQogICAgfTsKICB9CgogIGZvciAoY29uc3QgZmlsZSBvZiBmaWxlcykgewogICAgY29uc3QgbGkgPSBkb2N1bWVudC5jcmVhdGVFbGVtZW50KCdsaScpOwogICAgbGkuYXBwZW5kKHNwYW4oZmlsZS5uYW1lLCB7Zm9udFdlaWdodDogJ2JvbGQnfSkpOwogICAgbGkuYXBwZW5kKHNwYW4oCiAgICAgICAgYCgke2ZpbGUudHlwZSB8fCAnbi9hJ30pIC0gJHtmaWxlLnNpemV9IGJ5dGVzLCBgICsKICAgICAgICBgbGFzdCBtb2RpZmllZDogJHsKICAgICAgICAgICAgZmlsZS5sYXN0TW9kaWZpZWREYXRlID8gZmlsZS5sYXN0TW9kaWZpZWREYXRlLnRvTG9jYWxlRGF0ZVN0cmluZygpIDoKICAgICAgICAgICAgICAgICAgICAgICAgICAgICAgICAgICAgJ24vYSd9IC0gYCkpOwogICAgY29uc3QgcGVyY2VudCA9IHNwYW4oJzAlIGRvbmUnKTsKICAgIGxpLmFwcGVuZENoaWxkKHBlcmNlbnQpOwoKICAgIG91dHB1dEVsZW1lbnQuYXBwZW5kQ2hpbGQobGkpOwoKICAgIGNvbnN0IGZpbGVEYXRhUHJvbWlzZSA9IG5ldyBQcm9taXNlKChyZXNvbHZlKSA9PiB7CiAgICAgIGNvbnN0IHJlYWRlciA9IG5ldyBGaWxlUmVhZGVyKCk7CiAgICAgIHJlYWRlci5vbmxvYWQgPSAoZSkgPT4gewogICAgICAgIHJlc29sdmUoZS50YXJnZXQucmVzdWx0KTsKICAgICAgfTsKICAgICAgcmVhZGVyLnJlYWRBc0FycmF5QnVmZmVyKGZpbGUpOwogICAgfSk7CiAgICAvLyBXYWl0IGZvciB0aGUgZGF0YSB0byBiZSByZWFkeS4KICAgIGxldCBmaWxlRGF0YSA9IHlpZWxkIHsKICAgICAgcHJvbWlzZTogZmlsZURhdGFQcm9taXNlLAogICAgICByZXNwb25zZTogewogICAgICAgIGFjdGlvbjogJ2NvbnRpbnVlJywKICAgICAgfQogICAgfTsKCiAgICAvLyBVc2UgYSBjaHVua2VkIHNlbmRpbmcgdG8gYXZvaWQgbWVzc2FnZSBzaXplIGxpbWl0cy4gU2VlIGIvNjIxMTU2NjAuCiAgICBsZXQgcG9zaXRpb24gPSAwOwogICAgd2hpbGUgKHBvc2l0aW9uIDwgZmlsZURhdGEuYnl0ZUxlbmd0aCkgewogICAgICBjb25zdCBsZW5ndGggPSBNYXRoLm1pbihmaWxlRGF0YS5ieXRlTGVuZ3RoIC0gcG9zaXRpb24sIE1BWF9QQVlMT0FEX1NJWkUpOwogICAgICBjb25zdCBjaHVuayA9IG5ldyBVaW50OEFycmF5KGZpbGVEYXRhLCBwb3NpdGlvbiwgbGVuZ3RoKTsKICAgICAgcG9zaXRpb24gKz0gbGVuZ3RoOwoKICAgICAgY29uc3QgYmFzZTY0ID0gYnRvYShTdHJpbmcuZnJvbUNoYXJDb2RlLmFwcGx5KG51bGwsIGNodW5rKSk7CiAgICAgIHlpZWxkIHsKICAgICAgICByZXNwb25zZTogewogICAgICAgICAgYWN0aW9uOiAnYXBwZW5kJywKICAgICAgICAgIGZpbGU6IGZpbGUubmFtZSwKICAgICAgICAgIGRhdGE6IGJhc2U2NCwKICAgICAgICB9LAogICAgICB9OwogICAgICBwZXJjZW50LnRleHRDb250ZW50ID0KICAgICAgICAgIGAke01hdGgucm91bmQoKHBvc2l0aW9uIC8gZmlsZURhdGEuYnl0ZUxlbmd0aCkgKiAxMDApfSUgZG9uZWA7CiAgICB9CiAgfQoKICAvLyBBbGwgZG9uZS4KICB5aWVsZCB7CiAgICByZXNwb25zZTogewogICAgICBhY3Rpb246ICdjb21wbGV0ZScsCiAgICB9CiAgfTsKfQoKc2NvcGUuZ29vZ2xlID0gc2NvcGUuZ29vZ2xlIHx8IHt9OwpzY29wZS5nb29nbGUuY29sYWIgPSBzY29wZS5nb29nbGUuY29sYWIgfHwge307CnNjb3BlLmdvb2dsZS5jb2xhYi5fZmlsZXMgPSB7CiAgX3VwbG9hZEZpbGVzLAogIF91cGxvYWRGaWxlc0NvbnRpbnVlLAp9Owp9KShzZWxmKTsK",
              "ok": true,
              "headers": [
                [
                  "content-type",
                  "application/javascript"
                ]
              ],
              "status": 200,
              "status_text": ""
            }
          },
          "base_uri": "https://localhost:8080/",
          "height": 74
        },
        "outputId": "6e450ce2-0f23-41e4-b43d-c3ec4252f88b"
      },
      "source": [
        "archivo2 = files.upload()"
      ],
      "execution_count": 123,
      "outputs": [
        {
          "output_type": "display_data",
          "data": {
            "text/html": [
              "\n",
              "     <input type=\"file\" id=\"files-9d404ce9-5e26-4ed3-b91e-8fac951456fa\" name=\"files[]\" multiple disabled\n",
              "        style=\"border:none\" />\n",
              "     <output id=\"result-9d404ce9-5e26-4ed3-b91e-8fac951456fa\">\n",
              "      Upload widget is only available when the cell has been executed in the\n",
              "      current browser session. Please rerun this cell to enable.\n",
              "      </output>\n",
              "      <script src=\"/nbextensions/google.colab/files.js\"></script> "
            ],
            "text/plain": [
              "<IPython.core.display.HTML object>"
            ]
          },
          "metadata": {
            "tags": []
          }
        },
        {
          "output_type": "stream",
          "text": [
            "Saving pandas_lecture_data_playgolf.csv to pandas_lecture_data_playgolf (1).csv\n"
          ],
          "name": "stdout"
        }
      ]
    },
    {
      "cell_type": "code",
      "metadata": {
        "id": "S-Gbrd2y26tB",
        "colab_type": "code",
        "colab": {
          "base_uri": "https://localhost:8080/",
          "height": 462
        },
        "outputId": "329220cb-d1f3-43e8-c65b-f6435d35f527"
      },
      "source": [
        "df = pd.read_csv('pandas_lecture_data_playgolf.csv', delimiter='|' )\n",
        "df"
      ],
      "execution_count": 124,
      "outputs": [
        {
          "output_type": "execute_result",
          "data": {
            "text/html": [
              "<div>\n",
              "<style scoped>\n",
              "    .dataframe tbody tr th:only-of-type {\n",
              "        vertical-align: middle;\n",
              "    }\n",
              "\n",
              "    .dataframe tbody tr th {\n",
              "        vertical-align: top;\n",
              "    }\n",
              "\n",
              "    .dataframe thead th {\n",
              "        text-align: right;\n",
              "    }\n",
              "</style>\n",
              "<table border=\"1\" class=\"dataframe\">\n",
              "  <thead>\n",
              "    <tr style=\"text-align: right;\">\n",
              "      <th></th>\n",
              "      <th>Date</th>\n",
              "      <th>Outlook</th>\n",
              "      <th>Temperature</th>\n",
              "      <th>Humidity</th>\n",
              "      <th>Windy</th>\n",
              "      <th>Result</th>\n",
              "    </tr>\n",
              "  </thead>\n",
              "  <tbody>\n",
              "    <tr>\n",
              "      <th>0</th>\n",
              "      <td>07-01-2014</td>\n",
              "      <td>sunny</td>\n",
              "      <td>85</td>\n",
              "      <td>85</td>\n",
              "      <td>False</td>\n",
              "      <td>Don't Play</td>\n",
              "    </tr>\n",
              "    <tr>\n",
              "      <th>1</th>\n",
              "      <td>07-02-2014</td>\n",
              "      <td>sunny</td>\n",
              "      <td>80</td>\n",
              "      <td>90</td>\n",
              "      <td>True</td>\n",
              "      <td>Don't Play</td>\n",
              "    </tr>\n",
              "    <tr>\n",
              "      <th>2</th>\n",
              "      <td>07-03-2014</td>\n",
              "      <td>overcast</td>\n",
              "      <td>83</td>\n",
              "      <td>78</td>\n",
              "      <td>False</td>\n",
              "      <td>Play</td>\n",
              "    </tr>\n",
              "    <tr>\n",
              "      <th>3</th>\n",
              "      <td>07-04-2014</td>\n",
              "      <td>rain</td>\n",
              "      <td>70</td>\n",
              "      <td>96</td>\n",
              "      <td>False</td>\n",
              "      <td>Play</td>\n",
              "    </tr>\n",
              "    <tr>\n",
              "      <th>4</th>\n",
              "      <td>07-05-2014</td>\n",
              "      <td>rain</td>\n",
              "      <td>68</td>\n",
              "      <td>80</td>\n",
              "      <td>False</td>\n",
              "      <td>Play</td>\n",
              "    </tr>\n",
              "    <tr>\n",
              "      <th>5</th>\n",
              "      <td>07-06-2014</td>\n",
              "      <td>rain</td>\n",
              "      <td>65</td>\n",
              "      <td>70</td>\n",
              "      <td>True</td>\n",
              "      <td>Don't Play</td>\n",
              "    </tr>\n",
              "    <tr>\n",
              "      <th>6</th>\n",
              "      <td>07-07-2014</td>\n",
              "      <td>overcast</td>\n",
              "      <td>64</td>\n",
              "      <td>65</td>\n",
              "      <td>True</td>\n",
              "      <td>Play</td>\n",
              "    </tr>\n",
              "    <tr>\n",
              "      <th>7</th>\n",
              "      <td>07-08-2014</td>\n",
              "      <td>sunny</td>\n",
              "      <td>72</td>\n",
              "      <td>95</td>\n",
              "      <td>False</td>\n",
              "      <td>Don't Play</td>\n",
              "    </tr>\n",
              "    <tr>\n",
              "      <th>8</th>\n",
              "      <td>07-09-2014</td>\n",
              "      <td>sunny</td>\n",
              "      <td>69</td>\n",
              "      <td>70</td>\n",
              "      <td>False</td>\n",
              "      <td>Play</td>\n",
              "    </tr>\n",
              "    <tr>\n",
              "      <th>9</th>\n",
              "      <td>07-10-2014</td>\n",
              "      <td>rain</td>\n",
              "      <td>75</td>\n",
              "      <td>80</td>\n",
              "      <td>False</td>\n",
              "      <td>Play</td>\n",
              "    </tr>\n",
              "    <tr>\n",
              "      <th>10</th>\n",
              "      <td>07-11-2014</td>\n",
              "      <td>sunny</td>\n",
              "      <td>75</td>\n",
              "      <td>70</td>\n",
              "      <td>True</td>\n",
              "      <td>Play</td>\n",
              "    </tr>\n",
              "    <tr>\n",
              "      <th>11</th>\n",
              "      <td>07-12-2014</td>\n",
              "      <td>overcast</td>\n",
              "      <td>72</td>\n",
              "      <td>90</td>\n",
              "      <td>True</td>\n",
              "      <td>Play</td>\n",
              "    </tr>\n",
              "    <tr>\n",
              "      <th>12</th>\n",
              "      <td>07-13-2014</td>\n",
              "      <td>overcast</td>\n",
              "      <td>81</td>\n",
              "      <td>75</td>\n",
              "      <td>False</td>\n",
              "      <td>Play</td>\n",
              "    </tr>\n",
              "    <tr>\n",
              "      <th>13</th>\n",
              "      <td>07-14-2014</td>\n",
              "      <td>rain</td>\n",
              "      <td>71</td>\n",
              "      <td>80</td>\n",
              "      <td>True</td>\n",
              "      <td>Don't Play</td>\n",
              "    </tr>\n",
              "  </tbody>\n",
              "</table>\n",
              "</div>"
            ],
            "text/plain": [
              "          Date   Outlook  Temperature  Humidity  Windy      Result\n",
              "0   07-01-2014     sunny           85        85  False  Don't Play\n",
              "1   07-02-2014     sunny           80        90   True  Don't Play\n",
              "2   07-03-2014  overcast           83        78  False        Play\n",
              "3   07-04-2014      rain           70        96  False        Play\n",
              "4   07-05-2014      rain           68        80  False        Play\n",
              "5   07-06-2014      rain           65        70   True  Don't Play\n",
              "6   07-07-2014  overcast           64        65   True        Play\n",
              "7   07-08-2014     sunny           72        95  False  Don't Play\n",
              "8   07-09-2014     sunny           69        70  False        Play\n",
              "9   07-10-2014      rain           75        80  False        Play\n",
              "10  07-11-2014     sunny           75        70   True        Play\n",
              "11  07-12-2014  overcast           72        90   True        Play\n",
              "12  07-13-2014  overcast           81        75  False        Play\n",
              "13  07-14-2014      rain           71        80   True  Don't Play"
            ]
          },
          "metadata": {
            "tags": []
          },
          "execution_count": 124
        }
      ]
    },
    {
      "cell_type": "markdown",
      "metadata": {
        "id": "IkWJu6O-26tD",
        "colab_type": "text"
      },
      "source": [
        "`df.value_counts()` obtiene la frecuencia de los elementos"
      ]
    },
    {
      "cell_type": "code",
      "metadata": {
        "id": "8CFYURkL26tE",
        "colab_type": "code",
        "colab": {
          "base_uri": "https://localhost:8080/",
          "height": 87
        },
        "outputId": "525643da-5185-4a0a-9173-8b78eb2c0536"
      },
      "source": [
        "df['Outlook'].value_counts()"
      ],
      "execution_count": 125,
      "outputs": [
        {
          "output_type": "execute_result",
          "data": {
            "text/plain": [
              "sunny       5\n",
              "rain        5\n",
              "overcast    4\n",
              "Name: Outlook, dtype: int64"
            ]
          },
          "metadata": {
            "tags": []
          },
          "execution_count": 125
        }
      ]
    },
    {
      "cell_type": "markdown",
      "metadata": {
        "id": "4ZjTBsr_26tI",
        "colab_type": "text"
      },
      "source": [
        "Tablas de contingencia para observar las relaciones bivariadas entre dos variables categóricas"
      ]
    },
    {
      "cell_type": "code",
      "metadata": {
        "id": "TK2Aww5R26tJ",
        "colab_type": "code",
        "colab": {
          "base_uri": "https://localhost:8080/",
          "height": 166
        },
        "outputId": "49ea798a-24ec-4382-bb62-f94f70c6ba87"
      },
      "source": [
        "pd.crosstab(df['Outlook'], df['Result'])"
      ],
      "execution_count": 126,
      "outputs": [
        {
          "output_type": "execute_result",
          "data": {
            "text/html": [
              "<div>\n",
              "<style scoped>\n",
              "    .dataframe tbody tr th:only-of-type {\n",
              "        vertical-align: middle;\n",
              "    }\n",
              "\n",
              "    .dataframe tbody tr th {\n",
              "        vertical-align: top;\n",
              "    }\n",
              "\n",
              "    .dataframe thead th {\n",
              "        text-align: right;\n",
              "    }\n",
              "</style>\n",
              "<table border=\"1\" class=\"dataframe\">\n",
              "  <thead>\n",
              "    <tr style=\"text-align: right;\">\n",
              "      <th>Result</th>\n",
              "      <th>Don't Play</th>\n",
              "      <th>Play</th>\n",
              "    </tr>\n",
              "    <tr>\n",
              "      <th>Outlook</th>\n",
              "      <th></th>\n",
              "      <th></th>\n",
              "    </tr>\n",
              "  </thead>\n",
              "  <tbody>\n",
              "    <tr>\n",
              "      <th>overcast</th>\n",
              "      <td>0</td>\n",
              "      <td>4</td>\n",
              "    </tr>\n",
              "    <tr>\n",
              "      <th>rain</th>\n",
              "      <td>2</td>\n",
              "      <td>3</td>\n",
              "    </tr>\n",
              "    <tr>\n",
              "      <th>sunny</th>\n",
              "      <td>3</td>\n",
              "      <td>2</td>\n",
              "    </tr>\n",
              "  </tbody>\n",
              "</table>\n",
              "</div>"
            ],
            "text/plain": [
              "Result    Don't Play  Play\n",
              "Outlook                   \n",
              "overcast           0     4\n",
              "rain               2     3\n",
              "sunny              3     2"
            ]
          },
          "metadata": {
            "tags": []
          },
          "execution_count": 126
        }
      ]
    },
    {
      "cell_type": "markdown",
      "metadata": {
        "id": "ow8jvw4k26tL",
        "colab_type": "text"
      },
      "source": [
        "A menudo queremos los porcentajes de fila"
      ]
    },
    {
      "cell_type": "code",
      "metadata": {
        "id": "geJERSBZ26tM",
        "colab_type": "code",
        "colab": {
          "base_uri": "https://localhost:8080/",
          "height": 166
        },
        "outputId": "640baa55-edeb-4d1a-b65f-c07807925946"
      },
      "source": [
        "pd.crosstab(df['Outlook'], df['Result']).apply(lambda r: r/r.sum(), axis=1)"
      ],
      "execution_count": 157,
      "outputs": [
        {
          "output_type": "execute_result",
          "data": {
            "text/html": [
              "<div>\n",
              "<style scoped>\n",
              "    .dataframe tbody tr th:only-of-type {\n",
              "        vertical-align: middle;\n",
              "    }\n",
              "\n",
              "    .dataframe tbody tr th {\n",
              "        vertical-align: top;\n",
              "    }\n",
              "\n",
              "    .dataframe thead th {\n",
              "        text-align: right;\n",
              "    }\n",
              "</style>\n",
              "<table border=\"1\" class=\"dataframe\">\n",
              "  <thead>\n",
              "    <tr style=\"text-align: right;\">\n",
              "      <th>Result</th>\n",
              "      <th>Don't Play</th>\n",
              "      <th>Play</th>\n",
              "    </tr>\n",
              "    <tr>\n",
              "      <th>Outlook</th>\n",
              "      <th></th>\n",
              "      <th></th>\n",
              "    </tr>\n",
              "  </thead>\n",
              "  <tbody>\n",
              "    <tr>\n",
              "      <th>overcast</th>\n",
              "      <td>0.0</td>\n",
              "      <td>1.0</td>\n",
              "    </tr>\n",
              "    <tr>\n",
              "      <th>rain</th>\n",
              "      <td>0.4</td>\n",
              "      <td>0.6</td>\n",
              "    </tr>\n",
              "    <tr>\n",
              "      <th>sunny</th>\n",
              "      <td>0.6</td>\n",
              "      <td>0.4</td>\n",
              "    </tr>\n",
              "  </tbody>\n",
              "</table>\n",
              "</div>"
            ],
            "text/plain": [
              "Result    Don't Play  Play\n",
              "Outlook                   \n",
              "overcast         0.0   1.0\n",
              "rain             0.4   0.6\n",
              "sunny            0.6   0.4"
            ]
          },
          "metadata": {
            "tags": []
          },
          "execution_count": 157
        }
      ]
    },
    {
      "cell_type": "markdown",
      "metadata": {
        "id": "psvd8RM226tO",
        "colab_type": "text"
      },
      "source": [
        "O los porcentajes de las columnas"
      ]
    },
    {
      "cell_type": "code",
      "metadata": {
        "scrolled": true,
        "id": "xZ5lc9vP26tO",
        "colab_type": "code",
        "colab": {
          "base_uri": "https://localhost:8080/",
          "height": 166
        },
        "outputId": "58f2cea0-4ce3-4b60-b16b-07487bb0cc76"
      },
      "source": [
        "pd.crosstab(df['Outlook'], df['Result']).apply(lambda c: c/c.sum(), axis=0)"
      ],
      "execution_count": 127,
      "outputs": [
        {
          "output_type": "execute_result",
          "data": {
            "text/html": [
              "<div>\n",
              "<style scoped>\n",
              "    .dataframe tbody tr th:only-of-type {\n",
              "        vertical-align: middle;\n",
              "    }\n",
              "\n",
              "    .dataframe tbody tr th {\n",
              "        vertical-align: top;\n",
              "    }\n",
              "\n",
              "    .dataframe thead th {\n",
              "        text-align: right;\n",
              "    }\n",
              "</style>\n",
              "<table border=\"1\" class=\"dataframe\">\n",
              "  <thead>\n",
              "    <tr style=\"text-align: right;\">\n",
              "      <th>Result</th>\n",
              "      <th>Don't Play</th>\n",
              "      <th>Play</th>\n",
              "    </tr>\n",
              "    <tr>\n",
              "      <th>Outlook</th>\n",
              "      <th></th>\n",
              "      <th></th>\n",
              "    </tr>\n",
              "  </thead>\n",
              "  <tbody>\n",
              "    <tr>\n",
              "      <th>overcast</th>\n",
              "      <td>0.0</td>\n",
              "      <td>0.444444</td>\n",
              "    </tr>\n",
              "    <tr>\n",
              "      <th>rain</th>\n",
              "      <td>0.4</td>\n",
              "      <td>0.333333</td>\n",
              "    </tr>\n",
              "    <tr>\n",
              "      <th>sunny</th>\n",
              "      <td>0.6</td>\n",
              "      <td>0.222222</td>\n",
              "    </tr>\n",
              "  </tbody>\n",
              "</table>\n",
              "</div>"
            ],
            "text/plain": [
              "Result    Don't Play      Play\n",
              "Outlook                       \n",
              "overcast         0.0  0.444444\n",
              "rain             0.4  0.333333\n",
              "sunny            0.6  0.222222"
            ]
          },
          "metadata": {
            "tags": []
          },
          "execution_count": 127
        }
      ]
    },
    {
      "cell_type": "markdown",
      "metadata": {
        "id": "p4wLkjAW26tj",
        "colab_type": "text"
      },
      "source": [
        "# Graficando DataFrames"
      ]
    },
    {
      "cell_type": "code",
      "metadata": {
        "id": "wDjrwKM9CkSI",
        "colab_type": "code",
        "colab": {
          "base_uri": "https://localhost:8080/",
          "height": 462
        },
        "outputId": "6a261b37-4bef-4af9-ddd1-2aa65bed71fe"
      },
      "source": [
        "df"
      ],
      "execution_count": 128,
      "outputs": [
        {
          "output_type": "execute_result",
          "data": {
            "text/html": [
              "<div>\n",
              "<style scoped>\n",
              "    .dataframe tbody tr th:only-of-type {\n",
              "        vertical-align: middle;\n",
              "    }\n",
              "\n",
              "    .dataframe tbody tr th {\n",
              "        vertical-align: top;\n",
              "    }\n",
              "\n",
              "    .dataframe thead th {\n",
              "        text-align: right;\n",
              "    }\n",
              "</style>\n",
              "<table border=\"1\" class=\"dataframe\">\n",
              "  <thead>\n",
              "    <tr style=\"text-align: right;\">\n",
              "      <th></th>\n",
              "      <th>Date</th>\n",
              "      <th>Outlook</th>\n",
              "      <th>Temperature</th>\n",
              "      <th>Humidity</th>\n",
              "      <th>Windy</th>\n",
              "      <th>Result</th>\n",
              "    </tr>\n",
              "  </thead>\n",
              "  <tbody>\n",
              "    <tr>\n",
              "      <th>0</th>\n",
              "      <td>07-01-2014</td>\n",
              "      <td>sunny</td>\n",
              "      <td>85</td>\n",
              "      <td>85</td>\n",
              "      <td>False</td>\n",
              "      <td>Don't Play</td>\n",
              "    </tr>\n",
              "    <tr>\n",
              "      <th>1</th>\n",
              "      <td>07-02-2014</td>\n",
              "      <td>sunny</td>\n",
              "      <td>80</td>\n",
              "      <td>90</td>\n",
              "      <td>True</td>\n",
              "      <td>Don't Play</td>\n",
              "    </tr>\n",
              "    <tr>\n",
              "      <th>2</th>\n",
              "      <td>07-03-2014</td>\n",
              "      <td>overcast</td>\n",
              "      <td>83</td>\n",
              "      <td>78</td>\n",
              "      <td>False</td>\n",
              "      <td>Play</td>\n",
              "    </tr>\n",
              "    <tr>\n",
              "      <th>3</th>\n",
              "      <td>07-04-2014</td>\n",
              "      <td>rain</td>\n",
              "      <td>70</td>\n",
              "      <td>96</td>\n",
              "      <td>False</td>\n",
              "      <td>Play</td>\n",
              "    </tr>\n",
              "    <tr>\n",
              "      <th>4</th>\n",
              "      <td>07-05-2014</td>\n",
              "      <td>rain</td>\n",
              "      <td>68</td>\n",
              "      <td>80</td>\n",
              "      <td>False</td>\n",
              "      <td>Play</td>\n",
              "    </tr>\n",
              "    <tr>\n",
              "      <th>5</th>\n",
              "      <td>07-06-2014</td>\n",
              "      <td>rain</td>\n",
              "      <td>65</td>\n",
              "      <td>70</td>\n",
              "      <td>True</td>\n",
              "      <td>Don't Play</td>\n",
              "    </tr>\n",
              "    <tr>\n",
              "      <th>6</th>\n",
              "      <td>07-07-2014</td>\n",
              "      <td>overcast</td>\n",
              "      <td>64</td>\n",
              "      <td>65</td>\n",
              "      <td>True</td>\n",
              "      <td>Play</td>\n",
              "    </tr>\n",
              "    <tr>\n",
              "      <th>7</th>\n",
              "      <td>07-08-2014</td>\n",
              "      <td>sunny</td>\n",
              "      <td>72</td>\n",
              "      <td>95</td>\n",
              "      <td>False</td>\n",
              "      <td>Don't Play</td>\n",
              "    </tr>\n",
              "    <tr>\n",
              "      <th>8</th>\n",
              "      <td>07-09-2014</td>\n",
              "      <td>sunny</td>\n",
              "      <td>69</td>\n",
              "      <td>70</td>\n",
              "      <td>False</td>\n",
              "      <td>Play</td>\n",
              "    </tr>\n",
              "    <tr>\n",
              "      <th>9</th>\n",
              "      <td>07-10-2014</td>\n",
              "      <td>rain</td>\n",
              "      <td>75</td>\n",
              "      <td>80</td>\n",
              "      <td>False</td>\n",
              "      <td>Play</td>\n",
              "    </tr>\n",
              "    <tr>\n",
              "      <th>10</th>\n",
              "      <td>07-11-2014</td>\n",
              "      <td>sunny</td>\n",
              "      <td>75</td>\n",
              "      <td>70</td>\n",
              "      <td>True</td>\n",
              "      <td>Play</td>\n",
              "    </tr>\n",
              "    <tr>\n",
              "      <th>11</th>\n",
              "      <td>07-12-2014</td>\n",
              "      <td>overcast</td>\n",
              "      <td>72</td>\n",
              "      <td>90</td>\n",
              "      <td>True</td>\n",
              "      <td>Play</td>\n",
              "    </tr>\n",
              "    <tr>\n",
              "      <th>12</th>\n",
              "      <td>07-13-2014</td>\n",
              "      <td>overcast</td>\n",
              "      <td>81</td>\n",
              "      <td>75</td>\n",
              "      <td>False</td>\n",
              "      <td>Play</td>\n",
              "    </tr>\n",
              "    <tr>\n",
              "      <th>13</th>\n",
              "      <td>07-14-2014</td>\n",
              "      <td>rain</td>\n",
              "      <td>71</td>\n",
              "      <td>80</td>\n",
              "      <td>True</td>\n",
              "      <td>Don't Play</td>\n",
              "    </tr>\n",
              "  </tbody>\n",
              "</table>\n",
              "</div>"
            ],
            "text/plain": [
              "          Date   Outlook  Temperature  Humidity  Windy      Result\n",
              "0   07-01-2014     sunny           85        85  False  Don't Play\n",
              "1   07-02-2014     sunny           80        90   True  Don't Play\n",
              "2   07-03-2014  overcast           83        78  False        Play\n",
              "3   07-04-2014      rain           70        96  False        Play\n",
              "4   07-05-2014      rain           68        80  False        Play\n",
              "5   07-06-2014      rain           65        70   True  Don't Play\n",
              "6   07-07-2014  overcast           64        65   True        Play\n",
              "7   07-08-2014     sunny           72        95  False  Don't Play\n",
              "8   07-09-2014     sunny           69        70  False        Play\n",
              "9   07-10-2014      rain           75        80  False        Play\n",
              "10  07-11-2014     sunny           75        70   True        Play\n",
              "11  07-12-2014  overcast           72        90   True        Play\n",
              "12  07-13-2014  overcast           81        75  False        Play\n",
              "13  07-14-2014      rain           71        80   True  Don't Play"
            ]
          },
          "metadata": {
            "tags": []
          },
          "execution_count": 128
        }
      ]
    },
    {
      "cell_type": "code",
      "metadata": {
        "id": "HPT6mYmD26tq",
        "colab_type": "code",
        "colab": {
          "base_uri": "https://localhost:8080/",
          "height": 281
        },
        "outputId": "baabef1d-4b4a-4952-b2d2-bb7a31c05464"
      },
      "source": [
        "df.hist(['Temperature','Humidity'],bins=5); #Histograma"
      ],
      "execution_count": 129,
      "outputs": [
        {
          "output_type": "display_data",
          "data": {
            "image/png": "[encoded data removed]",
            "text/plain": [
              "<Figure size 432x288 with 2 Axes>"
            ]
          },
          "metadata": {
            "tags": [],
            "needs_background": "light"
          }
        }
      ]
    },
    {
      "cell_type": "code",
      "metadata": {
        "id": "NPsVQoeB26tr",
        "colab_type": "code",
        "colab": {
          "base_uri": "https://localhost:8080/",
          "height": 265
        },
        "outputId": "0fb42472-29e5-4326-eac0-fefce7e5fa08"
      },
      "source": [
        "df[['Temperature','Humidity']].plot(kind='box'); "
      ],
      "execution_count": 130,
      "outputs": [
        {
          "output_type": "display_data",
          "data": {
            "image/png": "[encoded data removed]",
            "text/plain": [
              "<Figure size 432x288 with 1 Axes>"
            ]
          },
          "metadata": {
            "tags": [],
            "needs_background": "light"
          }
        }
      ]
    },
    {
      "cell_type": "code",
      "metadata": {
        "id": "HXyFDTpl26tr",
        "colab_type": "code",
        "colab": {
          "base_uri": "https://localhost:8080/",
          "height": 279
        },
        "outputId": "877de1fb-97c1-4cdc-9653-78cf88d8afeb"
      },
      "source": [
        "df.plot('Temperature', 'Humidity', kind='scatter'); "
      ],
      "execution_count": 131,
      "outputs": [
        {
          "output_type": "display_data",
          "data": {
            "image/png": "[encoded data removed]",
            "text/plain": [
              "<Figure size 432x288 with 1 Axes>"
            ]
          },
          "metadata": {
            "tags": [],
            "needs_background": "light"
          }
        }
      ]
    },
    {
      "cell_type": "code",
      "metadata": {
        "id": "OIQW66QyCsmB",
        "colab_type": "code",
        "colab": {
          "base_uri": "https://localhost:8080/",
          "height": 462
        },
        "outputId": "80086db6-364c-4f57-9b08-83cb072fcd3a"
      },
      "source": [
        "#El grafico de scatter anterior no se identifica correctamente los puntos a que grupo pertenecen por lo cual vamos a agruparlos\n",
        "df"
      ],
      "execution_count": 132,
      "outputs": [
        {
          "output_type": "execute_result",
          "data": {
            "text/html": [
              "<div>\n",
              "<style scoped>\n",
              "    .dataframe tbody tr th:only-of-type {\n",
              "        vertical-align: middle;\n",
              "    }\n",
              "\n",
              "    .dataframe tbody tr th {\n",
              "        vertical-align: top;\n",
              "    }\n",
              "\n",
              "    .dataframe thead th {\n",
              "        text-align: right;\n",
              "    }\n",
              "</style>\n",
              "<table border=\"1\" class=\"dataframe\">\n",
              "  <thead>\n",
              "    <tr style=\"text-align: right;\">\n",
              "      <th></th>\n",
              "      <th>Date</th>\n",
              "      <th>Outlook</th>\n",
              "      <th>Temperature</th>\n",
              "      <th>Humidity</th>\n",
              "      <th>Windy</th>\n",
              "      <th>Result</th>\n",
              "    </tr>\n",
              "  </thead>\n",
              "  <tbody>\n",
              "    <tr>\n",
              "      <th>0</th>\n",
              "      <td>07-01-2014</td>\n",
              "      <td>sunny</td>\n",
              "      <td>85</td>\n",
              "      <td>85</td>\n",
              "      <td>False</td>\n",
              "      <td>Don't Play</td>\n",
              "    </tr>\n",
              "    <tr>\n",
              "      <th>1</th>\n",
              "      <td>07-02-2014</td>\n",
              "      <td>sunny</td>\n",
              "      <td>80</td>\n",
              "      <td>90</td>\n",
              "      <td>True</td>\n",
              "      <td>Don't Play</td>\n",
              "    </tr>\n",
              "    <tr>\n",
              "      <th>2</th>\n",
              "      <td>07-03-2014</td>\n",
              "      <td>overcast</td>\n",
              "      <td>83</td>\n",
              "      <td>78</td>\n",
              "      <td>False</td>\n",
              "      <td>Play</td>\n",
              "    </tr>\n",
              "    <tr>\n",
              "      <th>3</th>\n",
              "      <td>07-04-2014</td>\n",
              "      <td>rain</td>\n",
              "      <td>70</td>\n",
              "      <td>96</td>\n",
              "      <td>False</td>\n",
              "      <td>Play</td>\n",
              "    </tr>\n",
              "    <tr>\n",
              "      <th>4</th>\n",
              "      <td>07-05-2014</td>\n",
              "      <td>rain</td>\n",
              "      <td>68</td>\n",
              "      <td>80</td>\n",
              "      <td>False</td>\n",
              "      <td>Play</td>\n",
              "    </tr>\n",
              "    <tr>\n",
              "      <th>5</th>\n",
              "      <td>07-06-2014</td>\n",
              "      <td>rain</td>\n",
              "      <td>65</td>\n",
              "      <td>70</td>\n",
              "      <td>True</td>\n",
              "      <td>Don't Play</td>\n",
              "    </tr>\n",
              "    <tr>\n",
              "      <th>6</th>\n",
              "      <td>07-07-2014</td>\n",
              "      <td>overcast</td>\n",
              "      <td>64</td>\n",
              "      <td>65</td>\n",
              "      <td>True</td>\n",
              "      <td>Play</td>\n",
              "    </tr>\n",
              "    <tr>\n",
              "      <th>7</th>\n",
              "      <td>07-08-2014</td>\n",
              "      <td>sunny</td>\n",
              "      <td>72</td>\n",
              "      <td>95</td>\n",
              "      <td>False</td>\n",
              "      <td>Don't Play</td>\n",
              "    </tr>\n",
              "    <tr>\n",
              "      <th>8</th>\n",
              "      <td>07-09-2014</td>\n",
              "      <td>sunny</td>\n",
              "      <td>69</td>\n",
              "      <td>70</td>\n",
              "      <td>False</td>\n",
              "      <td>Play</td>\n",
              "    </tr>\n",
              "    <tr>\n",
              "      <th>9</th>\n",
              "      <td>07-10-2014</td>\n",
              "      <td>rain</td>\n",
              "      <td>75</td>\n",
              "      <td>80</td>\n",
              "      <td>False</td>\n",
              "      <td>Play</td>\n",
              "    </tr>\n",
              "    <tr>\n",
              "      <th>10</th>\n",
              "      <td>07-11-2014</td>\n",
              "      <td>sunny</td>\n",
              "      <td>75</td>\n",
              "      <td>70</td>\n",
              "      <td>True</td>\n",
              "      <td>Play</td>\n",
              "    </tr>\n",
              "    <tr>\n",
              "      <th>11</th>\n",
              "      <td>07-12-2014</td>\n",
              "      <td>overcast</td>\n",
              "      <td>72</td>\n",
              "      <td>90</td>\n",
              "      <td>True</td>\n",
              "      <td>Play</td>\n",
              "    </tr>\n",
              "    <tr>\n",
              "      <th>12</th>\n",
              "      <td>07-13-2014</td>\n",
              "      <td>overcast</td>\n",
              "      <td>81</td>\n",
              "      <td>75</td>\n",
              "      <td>False</td>\n",
              "      <td>Play</td>\n",
              "    </tr>\n",
              "    <tr>\n",
              "      <th>13</th>\n",
              "      <td>07-14-2014</td>\n",
              "      <td>rain</td>\n",
              "      <td>71</td>\n",
              "      <td>80</td>\n",
              "      <td>True</td>\n",
              "      <td>Don't Play</td>\n",
              "    </tr>\n",
              "  </tbody>\n",
              "</table>\n",
              "</div>"
            ],
            "text/plain": [
              "          Date   Outlook  Temperature  Humidity  Windy      Result\n",
              "0   07-01-2014     sunny           85        85  False  Don't Play\n",
              "1   07-02-2014     sunny           80        90   True  Don't Play\n",
              "2   07-03-2014  overcast           83        78  False        Play\n",
              "3   07-04-2014      rain           70        96  False        Play\n",
              "4   07-05-2014      rain           68        80  False        Play\n",
              "5   07-06-2014      rain           65        70   True  Don't Play\n",
              "6   07-07-2014  overcast           64        65   True        Play\n",
              "7   07-08-2014     sunny           72        95  False  Don't Play\n",
              "8   07-09-2014     sunny           69        70  False        Play\n",
              "9   07-10-2014      rain           75        80  False        Play\n",
              "10  07-11-2014     sunny           75        70   True        Play\n",
              "11  07-12-2014  overcast           72        90   True        Play\n",
              "12  07-13-2014  overcast           81        75  False        Play\n",
              "13  07-14-2014      rain           71        80   True  Don't Play"
            ]
          },
          "metadata": {
            "tags": []
          },
          "execution_count": 132
        }
      ]
    },
    {
      "cell_type": "code",
      "metadata": {
        "id": "9Cq9R1ciDRcO",
        "colab_type": "code",
        "colab": {
          "base_uri": "https://localhost:8080/",
          "height": 70
        },
        "outputId": "02cdb26d-1958-4495-fbbc-de733ba957d4"
      },
      "source": [
        "groups = df.groupby('Outlook')\n",
        "for name, group in groups:\n",
        "  print(name)"
      ],
      "execution_count": 134,
      "outputs": [
        {
          "output_type": "stream",
          "text": [
            "overcast\n",
            "rain\n",
            "sunny\n"
          ],
          "name": "stdout"
        }
      ]
    },
    {
      "cell_type": "code",
      "metadata": {
        "id": "pbjxQ5h826tu",
        "colab_type": "code",
        "colab": {
          "base_uri": "https://localhost:8080/",
          "height": 265
        },
        "outputId": "63ba8446-4e3d-4fbc-96f5-fd250404bacb"
      },
      "source": [
        "fig, ax = plt.subplots()\n",
        "\n",
        "ax.margins(0.05)\n",
        "for name, group in groups:\n",
        "    ax.plot(group.Temperature, group.Humidity, marker='o', linestyle='', ms=12, label=name)\n",
        "ax.legend(numpoints=1, loc='lower right')\n",
        "\n",
        "plt.show()"
      ],
      "execution_count": 135,
      "outputs": [
        {
          "output_type": "display_data",
          "data": {
            "image/png": "[encoded data removed]",
            "text/plain": [
              "<Figure size 432x288 with 1 Axes>"
            ]
          },
          "metadata": {
            "tags": [],
            "needs_background": "light"
          }
        }
      ]
    },
    {
      "cell_type": "markdown",
      "metadata": {
        "id": "6VfZyvWqRStJ",
        "colab_type": "text"
      },
      "source": [
        "## Agrupamientos: Groupby"
      ]
    },
    {
      "cell_type": "code",
      "metadata": {
        "id": "yzAa5s1i26t2",
        "colab_type": "code",
        "colab": {}
      },
      "source": [
        "g = df.groupby(['Outlook', 'Windy'])"
      ],
      "execution_count": 136,
      "outputs": []
    },
    {
      "cell_type": "code",
      "metadata": {
        "id": "XCSDH5Qq26t3",
        "colab_type": "code",
        "colab": {
          "base_uri": "https://localhost:8080/",
          "height": 254
        },
        "outputId": "743e7bd2-96cb-44d7-e0dd-68b8b00666ee"
      },
      "source": [
        "g.agg(max)"
      ],
      "execution_count": 137,
      "outputs": [
        {
          "output_type": "execute_result",
          "data": {
            "text/html": [
              "<div>\n",
              "<style scoped>\n",
              "    .dataframe tbody tr th:only-of-type {\n",
              "        vertical-align: middle;\n",
              "    }\n",
              "\n",
              "    .dataframe tbody tr th {\n",
              "        vertical-align: top;\n",
              "    }\n",
              "\n",
              "    .dataframe thead th {\n",
              "        text-align: right;\n",
              "    }\n",
              "</style>\n",
              "<table border=\"1\" class=\"dataframe\">\n",
              "  <thead>\n",
              "    <tr style=\"text-align: right;\">\n",
              "      <th></th>\n",
              "      <th></th>\n",
              "      <th>Date</th>\n",
              "      <th>Temperature</th>\n",
              "      <th>Humidity</th>\n",
              "      <th>Result</th>\n",
              "    </tr>\n",
              "    <tr>\n",
              "      <th>Outlook</th>\n",
              "      <th>Windy</th>\n",
              "      <th></th>\n",
              "      <th></th>\n",
              "      <th></th>\n",
              "      <th></th>\n",
              "    </tr>\n",
              "  </thead>\n",
              "  <tbody>\n",
              "    <tr>\n",
              "      <th rowspan=\"2\" valign=\"top\">overcast</th>\n",
              "      <th>False</th>\n",
              "      <td>07-13-2014</td>\n",
              "      <td>83</td>\n",
              "      <td>78</td>\n",
              "      <td>Play</td>\n",
              "    </tr>\n",
              "    <tr>\n",
              "      <th>True</th>\n",
              "      <td>07-12-2014</td>\n",
              "      <td>72</td>\n",
              "      <td>90</td>\n",
              "      <td>Play</td>\n",
              "    </tr>\n",
              "    <tr>\n",
              "      <th rowspan=\"2\" valign=\"top\">rain</th>\n",
              "      <th>False</th>\n",
              "      <td>07-10-2014</td>\n",
              "      <td>75</td>\n",
              "      <td>96</td>\n",
              "      <td>Play</td>\n",
              "    </tr>\n",
              "    <tr>\n",
              "      <th>True</th>\n",
              "      <td>07-14-2014</td>\n",
              "      <td>71</td>\n",
              "      <td>80</td>\n",
              "      <td>Don't Play</td>\n",
              "    </tr>\n",
              "    <tr>\n",
              "      <th rowspan=\"2\" valign=\"top\">sunny</th>\n",
              "      <th>False</th>\n",
              "      <td>07-09-2014</td>\n",
              "      <td>85</td>\n",
              "      <td>95</td>\n",
              "      <td>Play</td>\n",
              "    </tr>\n",
              "    <tr>\n",
              "      <th>True</th>\n",
              "      <td>07-11-2014</td>\n",
              "      <td>80</td>\n",
              "      <td>90</td>\n",
              "      <td>Play</td>\n",
              "    </tr>\n",
              "  </tbody>\n",
              "</table>\n",
              "</div>"
            ],
            "text/plain": [
              "                      Date  Temperature  Humidity      Result\n",
              "Outlook  Windy                                               \n",
              "overcast False  07-13-2014           83        78        Play\n",
              "         True   07-12-2014           72        90        Play\n",
              "rain     False  07-10-2014           75        96        Play\n",
              "         True   07-14-2014           71        80  Don't Play\n",
              "sunny    False  07-09-2014           85        95        Play\n",
              "         True   07-11-2014           80        90        Play"
            ]
          },
          "metadata": {
            "tags": []
          },
          "execution_count": 137
        }
      ]
    },
    {
      "cell_type": "code",
      "metadata": {
        "id": "JPFLQwDg26t4",
        "colab_type": "code",
        "colab": {
          "base_uri": "https://localhost:8080/",
          "height": 254
        },
        "outputId": "3d99a6c7-e440-489b-e19a-a140a1a15c9c"
      },
      "source": [
        "df_th = g.agg(max)[['Temperature','Humidity']]\n",
        "df_th"
      ],
      "execution_count": 138,
      "outputs": [
        {
          "output_type": "execute_result",
          "data": {
            "text/html": [
              "<div>\n",
              "<style scoped>\n",
              "    .dataframe tbody tr th:only-of-type {\n",
              "        vertical-align: middle;\n",
              "    }\n",
              "\n",
              "    .dataframe tbody tr th {\n",
              "        vertical-align: top;\n",
              "    }\n",
              "\n",
              "    .dataframe thead th {\n",
              "        text-align: right;\n",
              "    }\n",
              "</style>\n",
              "<table border=\"1\" class=\"dataframe\">\n",
              "  <thead>\n",
              "    <tr style=\"text-align: right;\">\n",
              "      <th></th>\n",
              "      <th></th>\n",
              "      <th>Temperature</th>\n",
              "      <th>Humidity</th>\n",
              "    </tr>\n",
              "    <tr>\n",
              "      <th>Outlook</th>\n",
              "      <th>Windy</th>\n",
              "      <th></th>\n",
              "      <th></th>\n",
              "    </tr>\n",
              "  </thead>\n",
              "  <tbody>\n",
              "    <tr>\n",
              "      <th rowspan=\"2\" valign=\"top\">overcast</th>\n",
              "      <th>False</th>\n",
              "      <td>83</td>\n",
              "      <td>78</td>\n",
              "    </tr>\n",
              "    <tr>\n",
              "      <th>True</th>\n",
              "      <td>72</td>\n",
              "      <td>90</td>\n",
              "    </tr>\n",
              "    <tr>\n",
              "      <th rowspan=\"2\" valign=\"top\">rain</th>\n",
              "      <th>False</th>\n",
              "      <td>75</td>\n",
              "      <td>96</td>\n",
              "    </tr>\n",
              "    <tr>\n",
              "      <th>True</th>\n",
              "      <td>71</td>\n",
              "      <td>80</td>\n",
              "    </tr>\n",
              "    <tr>\n",
              "      <th rowspan=\"2\" valign=\"top\">sunny</th>\n",
              "      <th>False</th>\n",
              "      <td>85</td>\n",
              "      <td>95</td>\n",
              "    </tr>\n",
              "    <tr>\n",
              "      <th>True</th>\n",
              "      <td>80</td>\n",
              "      <td>90</td>\n",
              "    </tr>\n",
              "  </tbody>\n",
              "</table>\n",
              "</div>"
            ],
            "text/plain": [
              "                Temperature  Humidity\n",
              "Outlook  Windy                       \n",
              "overcast False           83        78\n",
              "         True            72        90\n",
              "rain     False           75        96\n",
              "         True            71        80\n",
              "sunny    False           85        95\n",
              "         True            80        90"
            ]
          },
          "metadata": {
            "tags": []
          },
          "execution_count": 138
        }
      ]
    },
    {
      "cell_type": "code",
      "metadata": {
        "id": "FjOvNasd26t5",
        "colab_type": "code",
        "colab": {
          "base_uri": "https://localhost:8080/",
          "height": 195
        },
        "outputId": "c14c939e-91d1-4039-ca5d-54842efa3868"
      },
      "source": [
        "df_th.unstack() #Devuelve un DataFrame que tiene un nuevo nivel de etiquetas de columna cuyo nivel más interno consiste en las etiquetas de índice pivotado."
      ],
      "execution_count": 139,
      "outputs": [
        {
          "output_type": "execute_result",
          "data": {
            "text/html": [
              "<div>\n",
              "<style scoped>\n",
              "    .dataframe tbody tr th:only-of-type {\n",
              "        vertical-align: middle;\n",
              "    }\n",
              "\n",
              "    .dataframe tbody tr th {\n",
              "        vertical-align: top;\n",
              "    }\n",
              "\n",
              "    .dataframe thead tr th {\n",
              "        text-align: left;\n",
              "    }\n",
              "\n",
              "    .dataframe thead tr:last-of-type th {\n",
              "        text-align: right;\n",
              "    }\n",
              "</style>\n",
              "<table border=\"1\" class=\"dataframe\">\n",
              "  <thead>\n",
              "    <tr>\n",
              "      <th></th>\n",
              "      <th colspan=\"2\" halign=\"left\">Temperature</th>\n",
              "      <th colspan=\"2\" halign=\"left\">Humidity</th>\n",
              "    </tr>\n",
              "    <tr>\n",
              "      <th>Windy</th>\n",
              "      <th>False</th>\n",
              "      <th>True</th>\n",
              "      <th>False</th>\n",
              "      <th>True</th>\n",
              "    </tr>\n",
              "    <tr>\n",
              "      <th>Outlook</th>\n",
              "      <th></th>\n",
              "      <th></th>\n",
              "      <th></th>\n",
              "      <th></th>\n",
              "    </tr>\n",
              "  </thead>\n",
              "  <tbody>\n",
              "    <tr>\n",
              "      <th>overcast</th>\n",
              "      <td>83</td>\n",
              "      <td>72</td>\n",
              "      <td>78</td>\n",
              "      <td>90</td>\n",
              "    </tr>\n",
              "    <tr>\n",
              "      <th>rain</th>\n",
              "      <td>75</td>\n",
              "      <td>71</td>\n",
              "      <td>96</td>\n",
              "      <td>80</td>\n",
              "    </tr>\n",
              "    <tr>\n",
              "      <th>sunny</th>\n",
              "      <td>85</td>\n",
              "      <td>80</td>\n",
              "      <td>95</td>\n",
              "      <td>90</td>\n",
              "    </tr>\n",
              "  </tbody>\n",
              "</table>\n",
              "</div>"
            ],
            "text/plain": [
              "         Temperature       Humidity      \n",
              "Windy          False True     False True \n",
              "Outlook                                  \n",
              "overcast          83    72       78    90\n",
              "rain              75    71       96    80\n",
              "sunny             85    80       95    90"
            ]
          },
          "metadata": {
            "tags": []
          },
          "execution_count": 139
        }
      ]
    },
    {
      "cell_type": "code",
      "metadata": {
        "id": "kb43d54o26t6",
        "colab_type": "code",
        "colab": {
          "base_uri": "https://localhost:8080/",
          "height": 166
        },
        "outputId": "0e4620e3-d187-4fa2-e0c9-c3ffb8cd99d3"
      },
      "source": [
        "df_th.unstack()['Temperature'] #Solo selecciono la columna Temperature para hacer un unstack()"
      ],
      "execution_count": 140,
      "outputs": [
        {
          "output_type": "execute_result",
          "data": {
            "text/html": [
              "<div>\n",
              "<style scoped>\n",
              "    .dataframe tbody tr th:only-of-type {\n",
              "        vertical-align: middle;\n",
              "    }\n",
              "\n",
              "    .dataframe tbody tr th {\n",
              "        vertical-align: top;\n",
              "    }\n",
              "\n",
              "    .dataframe thead th {\n",
              "        text-align: right;\n",
              "    }\n",
              "</style>\n",
              "<table border=\"1\" class=\"dataframe\">\n",
              "  <thead>\n",
              "    <tr style=\"text-align: right;\">\n",
              "      <th>Windy</th>\n",
              "      <th>False</th>\n",
              "      <th>True</th>\n",
              "    </tr>\n",
              "    <tr>\n",
              "      <th>Outlook</th>\n",
              "      <th></th>\n",
              "      <th></th>\n",
              "    </tr>\n",
              "  </thead>\n",
              "  <tbody>\n",
              "    <tr>\n",
              "      <th>overcast</th>\n",
              "      <td>83</td>\n",
              "      <td>72</td>\n",
              "    </tr>\n",
              "    <tr>\n",
              "      <th>rain</th>\n",
              "      <td>75</td>\n",
              "      <td>71</td>\n",
              "    </tr>\n",
              "    <tr>\n",
              "      <th>sunny</th>\n",
              "      <td>85</td>\n",
              "      <td>80</td>\n",
              "    </tr>\n",
              "  </tbody>\n",
              "</table>\n",
              "</div>"
            ],
            "text/plain": [
              "Windy     False  True \n",
              "Outlook               \n",
              "overcast     83     72\n",
              "rain         75     71\n",
              "sunny        85     80"
            ]
          },
          "metadata": {
            "tags": []
          },
          "execution_count": 140
        }
      ]
    },
    {
      "cell_type": "code",
      "metadata": {
        "id": "bhhNWTsD26t8",
        "colab_type": "code",
        "colab": {
          "base_uri": "https://localhost:8080/",
          "height": 462
        },
        "outputId": "43e0a6c2-70ba-4c92-9cc6-96c9db8876b0"
      },
      "source": [
        "df"
      ],
      "execution_count": 143,
      "outputs": [
        {
          "output_type": "execute_result",
          "data": {
            "text/html": [
              "<div>\n",
              "<style scoped>\n",
              "    .dataframe tbody tr th:only-of-type {\n",
              "        vertical-align: middle;\n",
              "    }\n",
              "\n",
              "    .dataframe tbody tr th {\n",
              "        vertical-align: top;\n",
              "    }\n",
              "\n",
              "    .dataframe thead th {\n",
              "        text-align: right;\n",
              "    }\n",
              "</style>\n",
              "<table border=\"1\" class=\"dataframe\">\n",
              "  <thead>\n",
              "    <tr style=\"text-align: right;\">\n",
              "      <th></th>\n",
              "      <th>Date</th>\n",
              "      <th>Outlook</th>\n",
              "      <th>Temperature</th>\n",
              "      <th>Humidity</th>\n",
              "      <th>Windy</th>\n",
              "      <th>Result</th>\n",
              "    </tr>\n",
              "  </thead>\n",
              "  <tbody>\n",
              "    <tr>\n",
              "      <th>0</th>\n",
              "      <td>07-01-2014</td>\n",
              "      <td>sunny</td>\n",
              "      <td>85</td>\n",
              "      <td>85</td>\n",
              "      <td>False</td>\n",
              "      <td>Don't Play</td>\n",
              "    </tr>\n",
              "    <tr>\n",
              "      <th>1</th>\n",
              "      <td>07-02-2014</td>\n",
              "      <td>sunny</td>\n",
              "      <td>80</td>\n",
              "      <td>90</td>\n",
              "      <td>True</td>\n",
              "      <td>Don't Play</td>\n",
              "    </tr>\n",
              "    <tr>\n",
              "      <th>2</th>\n",
              "      <td>07-03-2014</td>\n",
              "      <td>overcast</td>\n",
              "      <td>83</td>\n",
              "      <td>78</td>\n",
              "      <td>False</td>\n",
              "      <td>Play</td>\n",
              "    </tr>\n",
              "    <tr>\n",
              "      <th>3</th>\n",
              "      <td>07-04-2014</td>\n",
              "      <td>rain</td>\n",
              "      <td>70</td>\n",
              "      <td>96</td>\n",
              "      <td>False</td>\n",
              "      <td>Play</td>\n",
              "    </tr>\n",
              "    <tr>\n",
              "      <th>4</th>\n",
              "      <td>07-05-2014</td>\n",
              "      <td>rain</td>\n",
              "      <td>68</td>\n",
              "      <td>80</td>\n",
              "      <td>False</td>\n",
              "      <td>Play</td>\n",
              "    </tr>\n",
              "    <tr>\n",
              "      <th>5</th>\n",
              "      <td>07-06-2014</td>\n",
              "      <td>rain</td>\n",
              "      <td>65</td>\n",
              "      <td>70</td>\n",
              "      <td>True</td>\n",
              "      <td>Don't Play</td>\n",
              "    </tr>\n",
              "    <tr>\n",
              "      <th>6</th>\n",
              "      <td>07-07-2014</td>\n",
              "      <td>overcast</td>\n",
              "      <td>64</td>\n",
              "      <td>65</td>\n",
              "      <td>True</td>\n",
              "      <td>Play</td>\n",
              "    </tr>\n",
              "    <tr>\n",
              "      <th>7</th>\n",
              "      <td>07-08-2014</td>\n",
              "      <td>sunny</td>\n",
              "      <td>72</td>\n",
              "      <td>95</td>\n",
              "      <td>False</td>\n",
              "      <td>Don't Play</td>\n",
              "    </tr>\n",
              "    <tr>\n",
              "      <th>8</th>\n",
              "      <td>07-09-2014</td>\n",
              "      <td>sunny</td>\n",
              "      <td>69</td>\n",
              "      <td>70</td>\n",
              "      <td>False</td>\n",
              "      <td>Play</td>\n",
              "    </tr>\n",
              "    <tr>\n",
              "      <th>9</th>\n",
              "      <td>07-10-2014</td>\n",
              "      <td>rain</td>\n",
              "      <td>75</td>\n",
              "      <td>80</td>\n",
              "      <td>False</td>\n",
              "      <td>Play</td>\n",
              "    </tr>\n",
              "    <tr>\n",
              "      <th>10</th>\n",
              "      <td>07-11-2014</td>\n",
              "      <td>sunny</td>\n",
              "      <td>75</td>\n",
              "      <td>70</td>\n",
              "      <td>True</td>\n",
              "      <td>Play</td>\n",
              "    </tr>\n",
              "    <tr>\n",
              "      <th>11</th>\n",
              "      <td>07-12-2014</td>\n",
              "      <td>overcast</td>\n",
              "      <td>72</td>\n",
              "      <td>90</td>\n",
              "      <td>True</td>\n",
              "      <td>Play</td>\n",
              "    </tr>\n",
              "    <tr>\n",
              "      <th>12</th>\n",
              "      <td>07-13-2014</td>\n",
              "      <td>overcast</td>\n",
              "      <td>81</td>\n",
              "      <td>75</td>\n",
              "      <td>False</td>\n",
              "      <td>Play</td>\n",
              "    </tr>\n",
              "    <tr>\n",
              "      <th>13</th>\n",
              "      <td>07-14-2014</td>\n",
              "      <td>rain</td>\n",
              "      <td>71</td>\n",
              "      <td>80</td>\n",
              "      <td>True</td>\n",
              "      <td>Don't Play</td>\n",
              "    </tr>\n",
              "  </tbody>\n",
              "</table>\n",
              "</div>"
            ],
            "text/plain": [
              "          Date   Outlook  Temperature  Humidity  Windy      Result\n",
              "0   07-01-2014     sunny           85        85  False  Don't Play\n",
              "1   07-02-2014     sunny           80        90   True  Don't Play\n",
              "2   07-03-2014  overcast           83        78  False        Play\n",
              "3   07-04-2014      rain           70        96  False        Play\n",
              "4   07-05-2014      rain           68        80  False        Play\n",
              "5   07-06-2014      rain           65        70   True  Don't Play\n",
              "6   07-07-2014  overcast           64        65   True        Play\n",
              "7   07-08-2014     sunny           72        95  False  Don't Play\n",
              "8   07-09-2014     sunny           69        70  False        Play\n",
              "9   07-10-2014      rain           75        80  False        Play\n",
              "10  07-11-2014     sunny           75        70   True        Play\n",
              "11  07-12-2014  overcast           72        90   True        Play\n",
              "12  07-13-2014  overcast           81        75  False        Play\n",
              "13  07-14-2014      rain           71        80   True  Don't Play"
            ]
          },
          "metadata": {
            "tags": []
          },
          "execution_count": 143
        }
      ]
    },
    {
      "cell_type": "code",
      "metadata": {
        "scrolled": true,
        "id": "TuZiJ13w26t9",
        "colab_type": "code",
        "colab": {
          "base_uri": "https://localhost:8080/",
          "height": 491
        },
        "outputId": "d8729ff7-a53f-4291-d3f5-a5a927028b66"
      },
      "source": [
        "#Devuelve DataFrame reformado y organizado por valores de índice / columna dados.\n",
        "df.pivot(columns='Outlook')"
      ],
      "execution_count": 144,
      "outputs": [
        {
          "output_type": "execute_result",
          "data": {
            "text/html": [
              "<div>\n",
              "<style scoped>\n",
              "    .dataframe tbody tr th:only-of-type {\n",
              "        vertical-align: middle;\n",
              "    }\n",
              "\n",
              "    .dataframe tbody tr th {\n",
              "        vertical-align: top;\n",
              "    }\n",
              "\n",
              "    .dataframe thead tr th {\n",
              "        text-align: left;\n",
              "    }\n",
              "</style>\n",
              "<table border=\"1\" class=\"dataframe\">\n",
              "  <thead>\n",
              "    <tr>\n",
              "      <th></th>\n",
              "      <th colspan=\"3\" halign=\"left\">Date</th>\n",
              "      <th colspan=\"3\" halign=\"left\">Temperature</th>\n",
              "      <th colspan=\"3\" halign=\"left\">Humidity</th>\n",
              "      <th colspan=\"3\" halign=\"left\">Windy</th>\n",
              "      <th colspan=\"3\" halign=\"left\">Result</th>\n",
              "    </tr>\n",
              "    <tr>\n",
              "      <th>Outlook</th>\n",
              "      <th>overcast</th>\n",
              "      <th>rain</th>\n",
              "      <th>sunny</th>\n",
              "      <th>overcast</th>\n",
              "      <th>rain</th>\n",
              "      <th>sunny</th>\n",
              "      <th>overcast</th>\n",
              "      <th>rain</th>\n",
              "      <th>sunny</th>\n",
              "      <th>overcast</th>\n",
              "      <th>rain</th>\n",
              "      <th>sunny</th>\n",
              "      <th>overcast</th>\n",
              "      <th>rain</th>\n",
              "      <th>sunny</th>\n",
              "    </tr>\n",
              "  </thead>\n",
              "  <tbody>\n",
              "    <tr>\n",
              "      <th>0</th>\n",
              "      <td>NaN</td>\n",
              "      <td>NaN</td>\n",
              "      <td>07-01-2014</td>\n",
              "      <td>NaN</td>\n",
              "      <td>NaN</td>\n",
              "      <td>85.0</td>\n",
              "      <td>NaN</td>\n",
              "      <td>NaN</td>\n",
              "      <td>85.0</td>\n",
              "      <td>NaN</td>\n",
              "      <td>NaN</td>\n",
              "      <td>False</td>\n",
              "      <td>NaN</td>\n",
              "      <td>NaN</td>\n",
              "      <td>Don't Play</td>\n",
              "    </tr>\n",
              "    <tr>\n",
              "      <th>1</th>\n",
              "      <td>NaN</td>\n",
              "      <td>NaN</td>\n",
              "      <td>07-02-2014</td>\n",
              "      <td>NaN</td>\n",
              "      <td>NaN</td>\n",
              "      <td>80.0</td>\n",
              "      <td>NaN</td>\n",
              "      <td>NaN</td>\n",
              "      <td>90.0</td>\n",
              "      <td>NaN</td>\n",
              "      <td>NaN</td>\n",
              "      <td>True</td>\n",
              "      <td>NaN</td>\n",
              "      <td>NaN</td>\n",
              "      <td>Don't Play</td>\n",
              "    </tr>\n",
              "    <tr>\n",
              "      <th>2</th>\n",
              "      <td>07-03-2014</td>\n",
              "      <td>NaN</td>\n",
              "      <td>NaN</td>\n",
              "      <td>83.0</td>\n",
              "      <td>NaN</td>\n",
              "      <td>NaN</td>\n",
              "      <td>78.0</td>\n",
              "      <td>NaN</td>\n",
              "      <td>NaN</td>\n",
              "      <td>False</td>\n",
              "      <td>NaN</td>\n",
              "      <td>NaN</td>\n",
              "      <td>Play</td>\n",
              "      <td>NaN</td>\n",
              "      <td>NaN</td>\n",
              "    </tr>\n",
              "    <tr>\n",
              "      <th>3</th>\n",
              "      <td>NaN</td>\n",
              "      <td>07-04-2014</td>\n",
              "      <td>NaN</td>\n",
              "      <td>NaN</td>\n",
              "      <td>70.0</td>\n",
              "      <td>NaN</td>\n",
              "      <td>NaN</td>\n",
              "      <td>96.0</td>\n",
              "      <td>NaN</td>\n",
              "      <td>NaN</td>\n",
              "      <td>False</td>\n",
              "      <td>NaN</td>\n",
              "      <td>NaN</td>\n",
              "      <td>Play</td>\n",
              "      <td>NaN</td>\n",
              "    </tr>\n",
              "    <tr>\n",
              "      <th>4</th>\n",
              "      <td>NaN</td>\n",
              "      <td>07-05-2014</td>\n",
              "      <td>NaN</td>\n",
              "      <td>NaN</td>\n",
              "      <td>68.0</td>\n",
              "      <td>NaN</td>\n",
              "      <td>NaN</td>\n",
              "      <td>80.0</td>\n",
              "      <td>NaN</td>\n",
              "      <td>NaN</td>\n",
              "      <td>False</td>\n",
              "      <td>NaN</td>\n",
              "      <td>NaN</td>\n",
              "      <td>Play</td>\n",
              "      <td>NaN</td>\n",
              "    </tr>\n",
              "    <tr>\n",
              "      <th>5</th>\n",
              "      <td>NaN</td>\n",
              "      <td>07-06-2014</td>\n",
              "      <td>NaN</td>\n",
              "      <td>NaN</td>\n",
              "      <td>65.0</td>\n",
              "      <td>NaN</td>\n",
              "      <td>NaN</td>\n",
              "      <td>70.0</td>\n",
              "      <td>NaN</td>\n",
              "      <td>NaN</td>\n",
              "      <td>True</td>\n",
              "      <td>NaN</td>\n",
              "      <td>NaN</td>\n",
              "      <td>Don't Play</td>\n",
              "      <td>NaN</td>\n",
              "    </tr>\n",
              "    <tr>\n",
              "      <th>6</th>\n",
              "      <td>07-07-2014</td>\n",
              "      <td>NaN</td>\n",
              "      <td>NaN</td>\n",
              "      <td>64.0</td>\n",
              "      <td>NaN</td>\n",
              "      <td>NaN</td>\n",
              "      <td>65.0</td>\n",
              "      <td>NaN</td>\n",
              "      <td>NaN</td>\n",
              "      <td>True</td>\n",
              "      <td>NaN</td>\n",
              "      <td>NaN</td>\n",
              "      <td>Play</td>\n",
              "      <td>NaN</td>\n",
              "      <td>NaN</td>\n",
              "    </tr>\n",
              "    <tr>\n",
              "      <th>7</th>\n",
              "      <td>NaN</td>\n",
              "      <td>NaN</td>\n",
              "      <td>07-08-2014</td>\n",
              "      <td>NaN</td>\n",
              "      <td>NaN</td>\n",
              "      <td>72.0</td>\n",
              "      <td>NaN</td>\n",
              "      <td>NaN</td>\n",
              "      <td>95.0</td>\n",
              "      <td>NaN</td>\n",
              "      <td>NaN</td>\n",
              "      <td>False</td>\n",
              "      <td>NaN</td>\n",
              "      <td>NaN</td>\n",
              "      <td>Don't Play</td>\n",
              "    </tr>\n",
              "    <tr>\n",
              "      <th>8</th>\n",
              "      <td>NaN</td>\n",
              "      <td>NaN</td>\n",
              "      <td>07-09-2014</td>\n",
              "      <td>NaN</td>\n",
              "      <td>NaN</td>\n",
              "      <td>69.0</td>\n",
              "      <td>NaN</td>\n",
              "      <td>NaN</td>\n",
              "      <td>70.0</td>\n",
              "      <td>NaN</td>\n",
              "      <td>NaN</td>\n",
              "      <td>False</td>\n",
              "      <td>NaN</td>\n",
              "      <td>NaN</td>\n",
              "      <td>Play</td>\n",
              "    </tr>\n",
              "    <tr>\n",
              "      <th>9</th>\n",
              "      <td>NaN</td>\n",
              "      <td>07-10-2014</td>\n",
              "      <td>NaN</td>\n",
              "      <td>NaN</td>\n",
              "      <td>75.0</td>\n",
              "      <td>NaN</td>\n",
              "      <td>NaN</td>\n",
              "      <td>80.0</td>\n",
              "      <td>NaN</td>\n",
              "      <td>NaN</td>\n",
              "      <td>False</td>\n",
              "      <td>NaN</td>\n",
              "      <td>NaN</td>\n",
              "      <td>Play</td>\n",
              "      <td>NaN</td>\n",
              "    </tr>\n",
              "    <tr>\n",
              "      <th>10</th>\n",
              "      <td>NaN</td>\n",
              "      <td>NaN</td>\n",
              "      <td>07-11-2014</td>\n",
              "      <td>NaN</td>\n",
              "      <td>NaN</td>\n",
              "      <td>75.0</td>\n",
              "      <td>NaN</td>\n",
              "      <td>NaN</td>\n",
              "      <td>70.0</td>\n",
              "      <td>NaN</td>\n",
              "      <td>NaN</td>\n",
              "      <td>True</td>\n",
              "      <td>NaN</td>\n",
              "      <td>NaN</td>\n",
              "      <td>Play</td>\n",
              "    </tr>\n",
              "    <tr>\n",
              "      <th>11</th>\n",
              "      <td>07-12-2014</td>\n",
              "      <td>NaN</td>\n",
              "      <td>NaN</td>\n",
              "      <td>72.0</td>\n",
              "      <td>NaN</td>\n",
              "      <td>NaN</td>\n",
              "      <td>90.0</td>\n",
              "      <td>NaN</td>\n",
              "      <td>NaN</td>\n",
              "      <td>True</td>\n",
              "      <td>NaN</td>\n",
              "      <td>NaN</td>\n",
              "      <td>Play</td>\n",
              "      <td>NaN</td>\n",
              "      <td>NaN</td>\n",
              "    </tr>\n",
              "    <tr>\n",
              "      <th>12</th>\n",
              "      <td>07-13-2014</td>\n",
              "      <td>NaN</td>\n",
              "      <td>NaN</td>\n",
              "      <td>81.0</td>\n",
              "      <td>NaN</td>\n",
              "      <td>NaN</td>\n",
              "      <td>75.0</td>\n",
              "      <td>NaN</td>\n",
              "      <td>NaN</td>\n",
              "      <td>False</td>\n",
              "      <td>NaN</td>\n",
              "      <td>NaN</td>\n",
              "      <td>Play</td>\n",
              "      <td>NaN</td>\n",
              "      <td>NaN</td>\n",
              "    </tr>\n",
              "    <tr>\n",
              "      <th>13</th>\n",
              "      <td>NaN</td>\n",
              "      <td>07-14-2014</td>\n",
              "      <td>NaN</td>\n",
              "      <td>NaN</td>\n",
              "      <td>71.0</td>\n",
              "      <td>NaN</td>\n",
              "      <td>NaN</td>\n",
              "      <td>80.0</td>\n",
              "      <td>NaN</td>\n",
              "      <td>NaN</td>\n",
              "      <td>True</td>\n",
              "      <td>NaN</td>\n",
              "      <td>NaN</td>\n",
              "      <td>Don't Play</td>\n",
              "      <td>NaN</td>\n",
              "    </tr>\n",
              "  </tbody>\n",
              "</table>\n",
              "</div>"
            ],
            "text/plain": [
              "               Date                          ...   Result                        \n",
              "Outlook    overcast        rain       sunny  ... overcast        rain       sunny\n",
              "0               NaN         NaN  07-01-2014  ...      NaN         NaN  Don't Play\n",
              "1               NaN         NaN  07-02-2014  ...      NaN         NaN  Don't Play\n",
              "2        07-03-2014         NaN         NaN  ...     Play         NaN         NaN\n",
              "3               NaN  07-04-2014         NaN  ...      NaN        Play         NaN\n",
              "4               NaN  07-05-2014         NaN  ...      NaN        Play         NaN\n",
              "5               NaN  07-06-2014         NaN  ...      NaN  Don't Play         NaN\n",
              "6        07-07-2014         NaN         NaN  ...     Play         NaN         NaN\n",
              "7               NaN         NaN  07-08-2014  ...      NaN         NaN  Don't Play\n",
              "8               NaN         NaN  07-09-2014  ...      NaN         NaN        Play\n",
              "9               NaN  07-10-2014         NaN  ...      NaN        Play         NaN\n",
              "10              NaN         NaN  07-11-2014  ...      NaN         NaN        Play\n",
              "11       07-12-2014         NaN         NaN  ...     Play         NaN         NaN\n",
              "12       07-13-2014         NaN         NaN  ...     Play         NaN         NaN\n",
              "13              NaN  07-14-2014         NaN  ...      NaN  Don't Play         NaN\n",
              "\n",
              "[14 rows x 15 columns]"
            ]
          },
          "metadata": {
            "tags": []
          },
          "execution_count": 144
        }
      ]
    },
    {
      "cell_type": "code",
      "metadata": {
        "id": "N6TLMln3SSZf",
        "colab_type": "code",
        "colab": {}
      },
      "source": [
        ""
      ],
      "execution_count": null,
      "outputs": []
    }
  ]
}